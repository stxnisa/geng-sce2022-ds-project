{
  "cells": [
    {
      "cell_type": "markdown",
      "metadata": {
        "id": "view-in-github",
        "colab_type": "text"
      },
      "source": [
        "<a href=\"https://colab.research.google.com/github/stxnisa/geng-sce2022-ds-project/blob/main/%5BFIN%5D_V3_5_Final_Project_Notebook_Rahma_dan_Amal.ipynb\" target=\"_parent\"><img src=\"https://colab.research.google.com/assets/colab-badge.svg\" alt=\"Open In Colab\"/></a>"
      ]
    },
    {
      "cell_type": "markdown",
      "metadata": {
        "id": "pbsdmzOLwwlv"
      },
      "source": [
        "---\n",
        "---\n",
        "# **PREDIKSI POPULARITAS LAGU SUATU ARTIS DI SPOTIFY**\n",
        "---\n",
        "---"
      ]
    },
    {
      "cell_type": "markdown",
      "metadata": {
        "id": "_HZFQqqrYr8H"
      },
      "source": [
        "## **Mengekstrak Data dari Spotify**\n",
        "\n",
        "Referensi :\n",
        "1. [Preliminary data analysis on Spotify data using API (Trishala S, Web Mining (IS688, Spring 2021) on Medium](https://medium.com/web-mining-is688-spring-2021/preliminary-data-analysis-on-spotify-data-using-api-a84bb0aae00c)\n",
        "2. [Spotipy documentation](https://spotipy.readthedocs.io/en/master/#spotipy.client.Spotify.playlist_tracks)\n",
        "3. [Spotipy: How to read more than 100 tracks from a playlist (Stack Overflow, 2016)](https://stackoverflow.com/questions/39086287/spotipy-how-to-read-more-than-100-tracks-from-a-playlist)"
      ]
    },
    {
      "cell_type": "markdown",
      "metadata": {
        "id": "UMZ5AxLVbNlg"
      },
      "source": [
        "### **1. Mengimpor library**"
      ]
    },
    {
      "cell_type": "code",
      "execution_count": null,
      "metadata": {
        "colab": {
          "base_uri": "https://localhost:8080/"
        },
        "id": "FVVWFInfXVhL",
        "outputId": "7dc8d013-83e5-47ab-db89-c5be3bf187b3"
      },
      "outputs": [
        {
          "name": "stdout",
          "output_type": "stream",
          "text": [
            "Looking in indexes: https://pypi.org/simple, https://us-python.pkg.dev/colab-wheels/public/simple/\n",
            "Collecting spotipy\n",
            "  Downloading spotipy-2.20.0-py3-none-any.whl (27 kB)\n",
            "Collecting urllib3>=1.26.0\n",
            "  Downloading urllib3-1.26.11-py2.py3-none-any.whl (139 kB)\n",
            "\u001b[K     |████████████████████████████████| 139 kB 7.9 MB/s \n",
            "\u001b[?25hCollecting redis>=3.5.3\n",
            "  Downloading redis-4.3.4-py3-none-any.whl (246 kB)\n",
            "\u001b[K     |████████████████████████████████| 246 kB 66.7 MB/s \n",
            "\u001b[?25hRequirement already satisfied: six>=1.15.0 in /usr/local/lib/python3.7/dist-packages (from spotipy) (1.15.0)\n",
            "Collecting requests>=2.25.0\n",
            "  Downloading requests-2.28.1-py3-none-any.whl (62 kB)\n",
            "\u001b[K     |████████████████████████████████| 62 kB 1.5 MB/s \n",
            "\u001b[?25hRequirement already satisfied: importlib-metadata>=1.0 in /usr/local/lib/python3.7/dist-packages (from redis>=3.5.3->spotipy) (4.12.0)\n",
            "Requirement already satisfied: packaging>=20.4 in /usr/local/lib/python3.7/dist-packages (from redis>=3.5.3->spotipy) (21.3)\n",
            "Collecting deprecated>=1.2.3\n",
            "  Downloading Deprecated-1.2.13-py2.py3-none-any.whl (9.6 kB)\n",
            "Requirement already satisfied: async-timeout>=4.0.2 in /usr/local/lib/python3.7/dist-packages (from redis>=3.5.3->spotipy) (4.0.2)\n",
            "Requirement already satisfied: typing-extensions in /usr/local/lib/python3.7/dist-packages (from redis>=3.5.3->spotipy) (4.1.1)\n",
            "Requirement already satisfied: wrapt<2,>=1.10 in /usr/local/lib/python3.7/dist-packages (from deprecated>=1.2.3->redis>=3.5.3->spotipy) (1.14.1)\n",
            "Requirement already satisfied: zipp>=0.5 in /usr/local/lib/python3.7/dist-packages (from importlib-metadata>=1.0->redis>=3.5.3->spotipy) (3.8.1)\n",
            "Requirement already satisfied: pyparsing!=3.0.5,>=2.0.2 in /usr/local/lib/python3.7/dist-packages (from packaging>=20.4->redis>=3.5.3->spotipy) (3.0.9)\n",
            "Requirement already satisfied: certifi>=2017.4.17 in /usr/local/lib/python3.7/dist-packages (from requests>=2.25.0->spotipy) (2022.6.15)\n",
            "Requirement already satisfied: charset-normalizer<3,>=2 in /usr/local/lib/python3.7/dist-packages (from requests>=2.25.0->spotipy) (2.1.0)\n",
            "Requirement already satisfied: idna<4,>=2.5 in /usr/local/lib/python3.7/dist-packages (from requests>=2.25.0->spotipy) (2.10)\n",
            "Installing collected packages: urllib3, deprecated, requests, redis, spotipy\n",
            "  Attempting uninstall: urllib3\n",
            "    Found existing installation: urllib3 1.24.3\n",
            "    Uninstalling urllib3-1.24.3:\n",
            "      Successfully uninstalled urllib3-1.24.3\n",
            "  Attempting uninstall: requests\n",
            "    Found existing installation: requests 2.23.0\n",
            "    Uninstalling requests-2.23.0:\n",
            "      Successfully uninstalled requests-2.23.0\n",
            "Successfully installed deprecated-1.2.13 redis-4.3.4 requests-2.28.1 spotipy-2.20.0 urllib3-1.26.11\n"
          ]
        }
      ],
      "source": [
        "pip install spotipy"
      ]
    },
    {
      "cell_type": "code",
      "execution_count": null,
      "metadata": {
        "id": "xZWd7XedY975"
      },
      "outputs": [],
      "source": [
        "import spotipy\n",
        "from spotipy.oauth2 import SpotifyClientCredentials as scc\n",
        "import pandas as pd\n",
        "import numpy as np\n",
        "import matplotlib.pyplot as plt\n",
        "import seaborn as sns\n",
        "import time"
      ]
    },
    {
      "cell_type": "markdown",
      "metadata": {
        "id": "7Oegt4fZbIDX"
      },
      "source": [
        "### **2. Menghubungkan ke Spotify API dengan variabel environment Client ID dan Client Secret**"
      ]
    },
    {
      "cell_type": "code",
      "execution_count": null,
      "metadata": {
        "id": "fuRj3-eZZPBV"
      },
      "outputs": [],
      "source": [
        "CLIENT_ID = ' ' # ganti dengan client_id masing-masing\n",
        "CLIENT_SECRET = ' ' # ganti dengan client_secret masing-masing\n",
        "\n",
        "CLIENT_CREDENTIALS_MANAGER = scc(CLIENT_ID, CLIENT_SECRET)\n",
        "SP = spotipy.Spotify(client_credentials_manager=CLIENT_CREDENTIALS_MANAGER)"
      ]
    },
    {
      "cell_type": "markdown",
      "metadata": {
        "id": "kiLuY-I7bXrL"
      },
      "source": [
        "### **3. Mengekstrak data**"
      ]
    },
    {
      "cell_type": "markdown",
      "metadata": {
        "id": "_F8K2XmcU760"
      },
      "source": [
        "#### **3.1. Jika data yang digunakan adalah data album**"
      ]
    },
    {
      "cell_type": "markdown",
      "metadata": {
        "id": "AP8iL1-XT8Ry"
      },
      "source": [
        "##### a. Load dataset album artis terkait"
      ]
    },
    {
      "cell_type": "code",
      "execution_count": null,
      "metadata": {
        "id": "f0Hbg8442ZJN"
      },
      "outputs": [],
      "source": [
        "# Jika menggunakan .csv\n",
        "# album_dataset = pd.read_csv('/content/album_dataset.csv')\n",
        "# album_link = album_dataset.album_link\n",
        "# print(album_link)"
      ]
    },
    {
      "cell_type": "code",
      "execution_count": null,
      "metadata": {
        "id": "_snemXHsUM0I"
      },
      "outputs": [],
      "source": [
        "# Jika jumlah album < 5, buat list mandiri\n",
        "album_link = ['https://open.spotify.com/album/3PU4sh4IH8Yq6pNOFyg3uU?si=yNdkzJA5Q7uFqZkM1hpVQw',\n",
        "              'https://open.spotify.com/album/53TLN8luTvwC1SBmKrpCPW?si=BfZXWptySai3AMP2xFOJXw',\n",
        "              'https://open.spotify.com/album/5dRPm82izRq6HNFZjD52Gn?si=BZ8hX42hSe2USWU5PcLVIw',\n",
        "              'https://open.spotify.com/album/38gVtgLPf4zqgj1pXVQTWZ?si=3ElXvgB_RkqkQIVm7D8m8A']"
      ]
    },
    {
      "cell_type": "markdown",
      "metadata": {
        "id": "v07DS3VgUNdC"
      },
      "source": [
        "##### b. Mengambil album ID"
      ]
    },
    {
      "cell_type": "code",
      "execution_count": null,
      "metadata": {
        "id": "7XLhu9nC2ubx"
      },
      "outputs": [],
      "source": [
        "def splitAlbumURI(album_link):\n",
        "    return album_link.split(\"/\")[-1].split(\"?\")[0]\n",
        "\n",
        "def getAlbumURI(album_link):\n",
        "  ids = []\n",
        "  i = 0\n",
        "  while i < len(album_link):\n",
        "    albumURI = splitAlbumURI(album_link[i])\n",
        "    id = albumURI\n",
        "    ids.append(id)\n",
        "    i += 1\n",
        "  return ids\n",
        "\n",
        "def getUserID(user_link):\n",
        "    return user_link.split(\"/\")[-1].split(\"?\")[0]\n",
        "\n",
        "user_id  = getUserID('https://open.spotify.com/artist/01wau5CL3Z1vfJJWkzBkqg?si=iOehQ74KTpOb4JAcn0nyWg') # ganti dengan link profil artis\n",
        "album_ids = getAlbumURI(album_link)"
      ]
    },
    {
      "cell_type": "markdown",
      "metadata": {
        "id": "MYOddE5lUuxH"
      },
      "source": [
        "##### c. Mengambil lagu-lagu dalam album"
      ]
    },
    {
      "cell_type": "code",
      "execution_count": null,
      "metadata": {
        "id": "9Sl4-xiVr9DJ"
      },
      "outputs": [],
      "source": [
        "def getTracks(album_id):\n",
        "    length_list = len(album_id)\n",
        "    tracks = []\n",
        "\n",
        "    for i in range(length_list):\n",
        "      results = SP.album_tracks(album_id[i])\n",
        "      temp = results['items']\n",
        "\n",
        "      while results['next']:\n",
        "          results = SP.next(results)\n",
        "          temp.extend(results['items'])\n",
        "      results = temp\n",
        "      \n",
        "      for n in range(len(results)):\n",
        "            track_uri = results[n][\"id\"]\n",
        "            track_name = results[n][\"name\"]\n",
        "\n",
        "            time.sleep(.5)\n",
        "\n",
        "            meta = SP.track(track_uri)\n",
        "            features = SP.audio_features(track_uri)\n",
        "\n",
        "            # meta data\n",
        "            name = meta['name']\n",
        "            album = meta['album']['name']\n",
        "            artist = meta['album']['artists'][0]['name']\n",
        "            release_date = meta['album']['release_date']\n",
        "            length = meta['duration_ms']\n",
        "            popularity = meta['popularity']\n",
        "\n",
        "            # features dari data\n",
        "            acousticness = features[0]['acousticness']\n",
        "            danceability = features[0]['danceability']\n",
        "            energy = features[0]['energy']\n",
        "            instrumentalness = features[0]['instrumentalness']\n",
        "            liveness = features[0]['liveness']\n",
        "            loudness = features[0]['loudness']\n",
        "            valence = features[0]['valence']\n",
        "            speechiness = features[0]['speechiness']\n",
        "            tempo = features[0]['tempo']\n",
        "            time_signature =  features[0]['time_signature']\n",
        "\n",
        "            track = [name, album, artist, release_date, length, popularity, acousticness, danceability,\n",
        "                    energy, instrumentalness, liveness, loudness, valence, speechiness, tempo, time_signature]\n",
        "            tracks.append(track)\n",
        "\n",
        "    return tracks\n",
        "\n",
        "album_tracks = getTracks(album_ids)"
      ]
    },
    {
      "cell_type": "markdown",
      "metadata": {
        "id": "MgcVXo3tVo9g"
      },
      "source": [
        "##### d. Menyimpan dataset yang telah dibentuk"
      ]
    },
    {
      "cell_type": "code",
      "execution_count": null,
      "metadata": {
        "id": "JB8l83bsVja6"
      },
      "outputs": [],
      "source": [
        "df = pd.DataFrame(album_tracks, columns = ['title', 'album', 'artist', 'release_date', 'length', 'popularity', 'acousticness', 'danceability',\n",
        "                  'energy', 'instrumentalness', 'liveness', 'loudness', 'valence', 'speechiness', 'tempo', 'time_signature'])\n",
        "df.to_csv('Spotify.csv', sep =',')"
      ]
    },
    {
      "cell_type": "code",
      "execution_count": null,
      "metadata": {
        "id": "CWwm0cqB9_SM"
      },
      "outputs": [],
      "source": [
        "df"
      ]
    },
    {
      "cell_type": "markdown",
      "metadata": {
        "id": "7jiP5NgqWaMk"
      },
      "source": [
        "#### **3.2. Jika data yang digunakan adalah data *multiple playlist, single user***"
      ]
    },
    {
      "cell_type": "markdown",
      "metadata": {
        "id": "Clb-yfq9WaMr"
      },
      "source": [
        "##### a. Load dataset album artis terkait"
      ]
    },
    {
      "cell_type": "code",
      "execution_count": null,
      "metadata": {
        "id": "JAvAa0WkWaMt"
      },
      "outputs": [],
      "source": [
        "# Jika menggunakan .csv\n",
        "# playlist_dataset = pd.read_csv('/content/album_dataset.csv')\n",
        "# playlist_link = album_dataset.album_link\n",
        "# print(playlist_link)"
      ]
    },
    {
      "cell_type": "code",
      "execution_count": null,
      "metadata": {
        "id": "8PxM37NOWaMw"
      },
      "outputs": [],
      "source": [
        "# Jika jumlah album < 5, buat list mandiri\n",
        "playlist_link = ['https://open.spotify.com/user/31t4pxwmezta3hwmxr2kjjqfq72e?si=ad50e597e6714ab6',\n",
        "                 '']"
      ]
    },
    {
      "cell_type": "markdown",
      "metadata": {
        "id": "6KhH0lELWaMy"
      },
      "source": [
        "##### b. Mengambil album ID"
      ]
    },
    {
      "cell_type": "code",
      "execution_count": null,
      "metadata": {
        "id": "d8bh5wWmWaM0"
      },
      "outputs": [],
      "source": [
        "def splitPlaylistURI(playlist_link):\n",
        "    return playlist_link.split(\"/\")[-1].split(\"?\")[0]\n",
        "\n",
        "def getPlaylistURI(playlist_link):\n",
        "  ids = []\n",
        "  i = 0\n",
        "  while i < len(playlist_link):\n",
        "    playlistURI = splitPlaylistURI(playlist_link[i])\n",
        "    id = playlistURI\n",
        "    ids.append(id)\n",
        "    i += 1\n",
        "  return ids\n",
        "\n",
        "def getUserID(user_link):\n",
        "    return user_link.split(\"/\")[-1].split(\"?\")[0]\n",
        "\n",
        "user_id  = getUserID('https://open.spotify.com/user/31t4pxwmezta3hwmxr2kjjqfq72e?si=40b4cff593504914') # ganti dengan link profil pembuat playlist\n",
        "playlist_ids = getPlaylistURI(playlist_link)"
      ]
    },
    {
      "cell_type": "markdown",
      "metadata": {
        "id": "b8DCasXeWaM2"
      },
      "source": [
        "##### c. Mengambil lagu-lagu dalam album"
      ]
    },
    {
      "cell_type": "code",
      "execution_count": null,
      "metadata": {
        "id": "RvbC-Ch7WaM4"
      },
      "outputs": [],
      "source": [
        "def getTracks(user_id, playlist_id):\n",
        "    length_list = len(playlist_id)\n",
        "    tracks = []\n",
        "\n",
        "    for i in range(length_list):\n",
        "      results = SP.user_playlist_tracks(user_id, playlist_id[i])\n",
        "      temp = results['items']\n",
        "      while results['next']:\n",
        "        results = SP.next(results)\n",
        "        temp.extend(results['items'])\n",
        "      results = temp\n",
        "      \n",
        "      for n in range(len(results)):\n",
        "            track_uri = results[i][\"track\"][\"uri\"]\n",
        "            track_name = results[i][\"track\"][\"name\"]\n",
        "\n",
        "            time.sleep(.5)\n",
        "\n",
        "            meta = SP.track(track_uri)\n",
        "            features = SP.audio_features(track_uri)\n",
        "\n",
        "            # meta data\n",
        "            name = meta['name']\n",
        "            album = meta['album']['name']\n",
        "            artist = meta['album']['artists'][0]['name']\n",
        "            release_date = meta['album']['release_date']\n",
        "            length = meta['duration_ms']\n",
        "            popularity = meta['popularity']\n",
        "\n",
        "            # features dari data\n",
        "            acousticness = features[0]['acousticness']\n",
        "            danceability = features[0]['danceability']\n",
        "            energy = features[0]['energy']\n",
        "            instrumentalness = features[0]['instrumentalness']\n",
        "            liveness = features[0]['liveness']\n",
        "            loudness = features[0]['loudness']\n",
        "            valence = features[0]['valence']\n",
        "            speechiness = features[0]['speechiness']\n",
        "            tempo = features[0]['tempo']\n",
        "            time_signature =  features[0]['time_signature']\n",
        "\n",
        "            track = [name, album, artist, release_date, length, popularity, acousticness, danceability,\n",
        "                    energy, instrumentalness, liveness, loudness, valence, speechiness, tempo, time_signature]\n",
        "            tracks.append(track)\n",
        "\n",
        "    return tracks\n",
        "\n",
        "playlist_tracks = getTracks(user_id, playlist_ids)"
      ]
    },
    {
      "cell_type": "markdown",
      "metadata": {
        "id": "nqLClteYWaM6"
      },
      "source": [
        "##### d. Menyimpan dataset yang telah dibentuk"
      ]
    },
    {
      "cell_type": "code",
      "execution_count": null,
      "metadata": {
        "id": "_klwM9FWWaM8"
      },
      "outputs": [],
      "source": [
        "df = pd.DataFrame(playlist_tracks, columns = ['title', 'album', 'artist', 'release_date', 'length', 'popularity', 'acousticness', 'danceability',\n",
        "                  'energy', 'instrumentalness', 'liveness', 'loudness', 'valence', 'speechiness', 'tempo', 'time_signature'])\n",
        "df.to_csv('Spotify.csv', sep =',')"
      ]
    },
    {
      "cell_type": "code",
      "execution_count": null,
      "metadata": {
        "id": "JB_WkKpnWaM-"
      },
      "outputs": [],
      "source": [
        "df"
      ]
    },
    {
      "cell_type": "markdown",
      "metadata": {
        "id": "pJ_DzFMn4wbt"
      },
      "source": [
        "#### **3.3. Jika data yang digunakan adalah data *multiple playlist, multiple user***\n",
        "\n",
        "Sedang dalam *maintenance* :)"
      ]
    },
    {
      "cell_type": "markdown",
      "metadata": {
        "id": "TKiVbBsF4wdV"
      },
      "source": [
        "##### a. Load dataset album artis terkait"
      ]
    },
    {
      "cell_type": "code",
      "execution_count": null,
      "metadata": {
        "id": "WkGCtVQS4wdW"
      },
      "outputs": [],
      "source": [
        "# Jika menggunakan .csv\n",
        "# playlist_dataset = pd.read_csv('/content/playlist_dataset.csv')\n",
        "# playlist_link = playlist_dataset.playlist_link\n",
        "# print(playlist_link)\n",
        "\n",
        "# Jika jumlah playlist < 5, buat list mandiri\n",
        "playlist_link = ['https://open.spotify.com/playlist/1yLe6xk0daWTUSs4UuFyJr?si=1e2e83923e5d4d15',\n",
        "                 'https://open.spotify.com/playlist/2SMI2SW5rvyq3kVFbWJJKp?si=26bc485cf49a4483',\n",
        "                 'https://open.spotify.com/playlist/7sYkDv0xPB4Fn5EOX1G96Q?si=f9f7597e282c402d',\n",
        "                 'https://open.spotify.com/playlist/1Ffaxq6lnL25dBvseTgK0H?si=a97f9bf7b66244be',\n",
        "                 'https://open.spotify.com/playlist/4narzkSW7kieLFcjTWYlzv?si=38a9c5dd1432417b',\n",
        "                 'https://open.spotify.com/playlist/11wBrQYbaULfjAQOKrCk0A?si=a310730069734766',\n",
        "                 'https://open.spotify.com/playlist/6FzclParMXUokPur7g8fzN?si=a2d31a542f1b4ba2']"
      ]
    },
    {
      "cell_type": "code",
      "execution_count": null,
      "metadata": {
        "id": "iL2yY6qc4wdY"
      },
      "outputs": [],
      "source": [
        "# Jika menggunakan .csv\n",
        "# playlist_dataset = pd.read_csv('/content/playlist_dataset.csv')\n",
        "# user_link = playlist_dataset.user_link\n",
        "# print(user_link)\n",
        "\n",
        "# Jika jumlah user < 5, buat list mandiri\n",
        "user_link = ['https://open.spotify.com/user/3156infjlzqsqujdysgaljhk5lim?si=e85dcbe3c6f54a33',\n",
        "             'https://open.spotify.com/user/31t4pxwmezta3hwmxr2kjjqfq72e?si=bd13428a82134471',\n",
        "             'https://open.spotify.com/user/qk35crr8h056fuseljk1tpg98?si=9b7f5e43c6e34c06',\n",
        "             'https://open.spotify.com/user/1jwk6bec0jc0cgz14b4vng09w?si=c0aee2f5de924f00',\n",
        "             'https://open.spotify.com/user/y91ayunchssq8jbrfzflie89z?si=b85342822a124af8',\n",
        "             'https://open.spotify.com/user/6so26yiwgnytd1tzw8u7t47je?si=d3430bd9d1ae4038',\n",
        "             'https://open.spotify.com/user/cucsobyzjo01mymemdht8d2cp?si=07ace9074b334996']"
      ]
    },
    {
      "cell_type": "markdown",
      "metadata": {
        "id": "-Z1T8Wwb4wda"
      },
      "source": [
        "##### b. Mengambil album ID"
      ]
    },
    {
      "cell_type": "code",
      "execution_count": null,
      "metadata": {
        "id": "4kWzjYaW4wdb"
      },
      "outputs": [],
      "source": [
        "def splitPlaylistURI(playlist_link):\n",
        "    return playlist_link.split(\"/\")[-1].split(\"?\")[0]\n",
        "\n",
        "def getPlaylistURI(playlist_link):\n",
        "  ids = []\n",
        "  i = 0\n",
        "  while i < len(playlist_link):\n",
        "    playlistURI = splitPlaylistURI(playlist_link[i])\n",
        "    id = playlistURI\n",
        "    ids.append(id)\n",
        "    i += 1\n",
        "  return ids\n",
        "\n",
        "def splitUserID(user_link):\n",
        "    return user_link.split(\"/\")[-1].split(\"?\")[0]\n",
        "\n",
        "def getUserID(playlist_link):\n",
        "  ids = []\n",
        "  i = 0\n",
        "  while i < len(playlist_link):\n",
        "    userID = splitUserID(user_link[i])\n",
        "    id = userID\n",
        "    ids.append(id)\n",
        "    i += 1\n",
        "  return ids\n",
        "\n",
        "user_ids  = getUserID(user_link)\n",
        "playlist_ids = getPlaylistURI(playlist_link)"
      ]
    },
    {
      "cell_type": "markdown",
      "metadata": {
        "id": "NOBOwfEF4wdd"
      },
      "source": [
        "##### c. Mengambil lagu-lagu dalam album"
      ]
    },
    {
      "cell_type": "code",
      "execution_count": null,
      "metadata": {
        "id": "wMd9SwvE4wde"
      },
      "outputs": [],
      "source": [
        "def getTracks(user_id, playlist_id):\n",
        "    length_list = len(playlist_id)\n",
        "    tracks = []\n",
        "\n",
        "    for i in range(length_list):\n",
        "      results = SP.user_playlist_tracks(user_id[i], playlist_id[i])\n",
        "      temp = results['items']\n",
        "      while results['next']:\n",
        "        results = SP.next(results)\n",
        "        temp.extend(results['items'])\n",
        "      results = temp\n",
        "      \n",
        "      for n in range(len(results)):\n",
        "            track_uri = results[i][\"track\"][\"uri\"]\n",
        "            track_name = results[i][\"track\"][\"name\"]\n",
        "\n",
        "            time.sleep(.5)\n",
        "\n",
        "            meta = SP.track(track_uri)\n",
        "            features = SP.audio_features(track_uri)\n",
        "\n",
        "            # meta data\n",
        "            name = meta['name']\n",
        "            album = meta['album']['name']\n",
        "            artist = meta['album']['artists'][0]['name']\n",
        "            release_date = meta['album']['release_date']\n",
        "            length = meta['duration_ms']\n",
        "            popularity = meta['popularity']\n",
        "\n",
        "            # features dari data\n",
        "            acousticness = features[0]['acousticness']\n",
        "            danceability = features[0]['danceability']\n",
        "            energy = features[0]['energy']\n",
        "            instrumentalness = features[0]['instrumentalness']\n",
        "            liveness = features[0]['liveness']\n",
        "            loudness = features[0]['loudness']\n",
        "            valence = features[0]['valence']\n",
        "            speechiness = features[0]['speechiness']\n",
        "            tempo = features[0]['tempo']\n",
        "            time_signature =  features[0]['time_signature']\n",
        "\n",
        "            track = [name, album, artist, release_date, length, popularity, acousticness, danceability,\n",
        "                    energy, instrumentalness, liveness, loudness, valence, speechiness, tempo, time_signature]\n",
        "            tracks.append(track)\n",
        "\n",
        "    return tracks\n",
        "\n",
        "playlist_tracks = getTracks(user_ids, playlist_ids)"
      ]
    },
    {
      "cell_type": "markdown",
      "metadata": {
        "id": "JXrMu9B14wdj"
      },
      "source": [
        "##### d. Menyimpan dataset yang telah dibentuk"
      ]
    },
    {
      "cell_type": "code",
      "execution_count": null,
      "metadata": {
        "id": "333jz45w4wdk"
      },
      "outputs": [],
      "source": [
        "df = pd.DataFrame(playlist_tracks, columns = ['title', 'album', 'artist', 'release_date', 'length', 'popularity', 'acousticness', 'danceability',\n",
        "                  'energy', 'instrumentalness', 'liveness', 'loudness', 'valence', 'speechiness', 'tempo', 'time_signature'])\n",
        "df.to_csv('Spotify.csv', sep =',')"
      ]
    },
    {
      "cell_type": "code",
      "execution_count": null,
      "metadata": {
        "id": "1hLFZoIC4wdl"
      },
      "outputs": [],
      "source": [
        "df"
      ]
    },
    {
      "cell_type": "markdown",
      "metadata": {
        "id": "5RC9nxw6VMz7"
      },
      "source": [
        "#### **3.4. Jika data yang digunakan adalah playlist tunggal dengan >100 lagu**"
      ]
    },
    {
      "cell_type": "code",
      "execution_count": null,
      "metadata": {
        "id": "RNVMJ-sqWOcW"
      },
      "outputs": [],
      "source": [
        "def getPlaylistURI(playlist_link):\n",
        "    return playlist_link.split(\"/\")[-1].split(\"?\")[0]\n",
        "\n",
        "def getUserID(user_link):\n",
        "    return user_link.split(\"/\")[-1].split(\"?\")[0]\n",
        "\n",
        "def getTracks(user_id, playlist_id):\n",
        "    results = SP.user_playlist_tracks(user_id,playlist_id)\n",
        "    temp = results['items']\n",
        "    while results['next']:\n",
        "        results = SP.next(results)\n",
        "        temp.extend(results['items'])\n",
        "    results = temp    \n",
        "\n",
        "    tracks = []\n",
        "    \n",
        "    for i in range(len(results)):\n",
        "      track_uri = results[i][\"track\"][\"uri\"]\n",
        "      track_name = results[i][\"track\"][\"name\"]\n",
        "\n",
        "      time.sleep(.5)\n",
        "\n",
        "      meta = SP.track(track_uri)\n",
        "      features = SP.audio_features(track_uri)\n",
        "\n",
        "      # meta data\n",
        "      name = meta['name']\n",
        "      album = meta['album']['name']\n",
        "      artist = meta['album']['artists'][0]['name']\n",
        "      release_date = meta['album']['release_date']\n",
        "      length = meta['duration_ms']\n",
        "      popularity = meta['popularity']\n",
        "\n",
        "      # features dari data\n",
        "      acousticness = features[0]['acousticness']\n",
        "      danceability = features[0]['danceability']\n",
        "      energy = features[0]['energy']\n",
        "      instrumentalness = features[0]['instrumentalness']\n",
        "      liveness = features[0]['liveness']\n",
        "      loudness = features[0]['loudness']\n",
        "      valence = features[0]['valence']\n",
        "      mode = features[0]['mode']\n",
        "      key = features[0]['key']\n",
        "      speechiness = features[0]['speechiness']\n",
        "      tempo = features[0]['tempo']\n",
        "      time_signature =  features[0]['time_signature']\n",
        "\n",
        "      track = [name, album, artist, release_date, length, popularity, acousticness, danceability,\n",
        "               energy, instrumentalness, liveness, loudness, valence, mode, key, speechiness, tempo, time_signature]\n",
        "      tracks.append(track)\n",
        "    \n",
        "    return tracks\n",
        "\n",
        "user_id  = getUserID('https://open.spotify.com/user/21lehhxpebwx2xqzu6wfxjxhy?si=9aa62c3018954a79')\n",
        "playlist_id = getPlaylistURI('https://open.spotify.com/playlist/0EihGcmvH4s7RLr4POl7YM?si=c70d93273d0d4943')\n",
        "playlist_tracks = getTracks(user_id, playlist_id)"
      ]
    },
    {
      "cell_type": "code",
      "execution_count": null,
      "metadata": {
        "id": "WJFyT1arAN9l"
      },
      "outputs": [],
      "source": [
        "df = pd.DataFrame(playlist_tracks, columns = ['title', 'album', 'artist', 'release_date', 'length', 'popularity', 'acousticness', 'danceability',\n",
        "                  'energy', 'instrumentalness', 'liveness', 'loudness', 'valence', 'mode', 'key', 'speechiness', 'tempo', 'time_signature'])\n",
        "df.to_csv('Spotify_AKB48.csv', sep =',')\n",
        "features_df = df.drop(columns=['title', 'album', 'artist', 'release_date'])"
      ]
    },
    {
      "cell_type": "code",
      "execution_count": null,
      "metadata": {
        "colab": {
          "base_uri": "https://localhost:8080/",
          "height": 1000
        },
        "id": "i_xMAjXncfzV",
        "outputId": "ca58f6dd-d72d-45cc-9590-16b6b51ad3f9"
      },
      "outputs": [
        {
          "data": {
            "text/html": [
              "\n",
              "  <div id=\"df-b48868ac-e642-4761-89f3-5848e04da1e2\">\n",
              "    <div class=\"colab-df-container\">\n",
              "      <div>\n",
              "<style scoped>\n",
              "    .dataframe tbody tr th:only-of-type {\n",
              "        vertical-align: middle;\n",
              "    }\n",
              "\n",
              "    .dataframe tbody tr th {\n",
              "        vertical-align: top;\n",
              "    }\n",
              "\n",
              "    .dataframe thead th {\n",
              "        text-align: right;\n",
              "    }\n",
              "</style>\n",
              "<table border=\"1\" class=\"dataframe\">\n",
              "  <thead>\n",
              "    <tr style=\"text-align: right;\">\n",
              "      <th></th>\n",
              "      <th>title</th>\n",
              "      <th>album</th>\n",
              "      <th>artist</th>\n",
              "      <th>release_date</th>\n",
              "      <th>length</th>\n",
              "      <th>popularity</th>\n",
              "      <th>acousticness</th>\n",
              "      <th>danceability</th>\n",
              "      <th>energy</th>\n",
              "      <th>instrumentalness</th>\n",
              "      <th>liveness</th>\n",
              "      <th>loudness</th>\n",
              "      <th>valence</th>\n",
              "      <th>mode</th>\n",
              "      <th>key</th>\n",
              "      <th>speechiness</th>\n",
              "      <th>tempo</th>\n",
              "      <th>time_signature</th>\n",
              "    </tr>\n",
              "  </thead>\n",
              "  <tbody>\n",
              "    <tr>\n",
              "      <th>0</th>\n",
              "      <td>元カレです</td>\n",
              "      <td>元カレです Special Edition</td>\n",
              "      <td>AKB48</td>\n",
              "      <td>2022-05-18</td>\n",
              "      <td>228600</td>\n",
              "      <td>31</td>\n",
              "      <td>0.4390</td>\n",
              "      <td>0.698</td>\n",
              "      <td>0.956</td>\n",
              "      <td>0.000000</td>\n",
              "      <td>0.0975</td>\n",
              "      <td>-1.832</td>\n",
              "      <td>0.805</td>\n",
              "      <td>1</td>\n",
              "      <td>5</td>\n",
              "      <td>0.0686</td>\n",
              "      <td>120.019</td>\n",
              "      <td>4</td>\n",
              "    </tr>\n",
              "    <tr>\n",
              "      <th>1</th>\n",
              "      <td>壊さなきゃいけないもの</td>\n",
              "      <td>元カレです Special Edition</td>\n",
              "      <td>AKB48</td>\n",
              "      <td>2022-05-18</td>\n",
              "      <td>298960</td>\n",
              "      <td>27</td>\n",
              "      <td>0.0788</td>\n",
              "      <td>0.320</td>\n",
              "      <td>0.868</td>\n",
              "      <td>0.000000</td>\n",
              "      <td>0.3400</td>\n",
              "      <td>-1.772</td>\n",
              "      <td>0.486</td>\n",
              "      <td>1</td>\n",
              "      <td>5</td>\n",
              "      <td>0.0457</td>\n",
              "      <td>163.870</td>\n",
              "      <td>4</td>\n",
              "    </tr>\n",
              "    <tr>\n",
              "      <th>2</th>\n",
              "      <td>臆病なナマケモノ</td>\n",
              "      <td>元カレです Special Edition</td>\n",
              "      <td>AKB48</td>\n",
              "      <td>2022-05-18</td>\n",
              "      <td>285186</td>\n",
              "      <td>21</td>\n",
              "      <td>0.0337</td>\n",
              "      <td>0.464</td>\n",
              "      <td>0.874</td>\n",
              "      <td>0.000000</td>\n",
              "      <td>0.3280</td>\n",
              "      <td>-1.553</td>\n",
              "      <td>0.378</td>\n",
              "      <td>1</td>\n",
              "      <td>10</td>\n",
              "      <td>0.0439</td>\n",
              "      <td>82.013</td>\n",
              "      <td>4</td>\n",
              "    </tr>\n",
              "    <tr>\n",
              "      <th>3</th>\n",
              "      <td>Loss of time</td>\n",
              "      <td>元カレです Special Edition</td>\n",
              "      <td>AKB48</td>\n",
              "      <td>2022-05-18</td>\n",
              "      <td>224746</td>\n",
              "      <td>21</td>\n",
              "      <td>0.0355</td>\n",
              "      <td>0.452</td>\n",
              "      <td>0.933</td>\n",
              "      <td>0.000000</td>\n",
              "      <td>0.2680</td>\n",
              "      <td>-2.105</td>\n",
              "      <td>0.587</td>\n",
              "      <td>1</td>\n",
              "      <td>9</td>\n",
              "      <td>0.0867</td>\n",
              "      <td>171.946</td>\n",
              "      <td>4</td>\n",
              "    </tr>\n",
              "    <tr>\n",
              "      <th>4</th>\n",
              "      <td>ヤラカソウ</td>\n",
              "      <td>元カレです Special Edition</td>\n",
              "      <td>AKB48</td>\n",
              "      <td>2022-05-18</td>\n",
              "      <td>276813</td>\n",
              "      <td>17</td>\n",
              "      <td>0.0542</td>\n",
              "      <td>0.617</td>\n",
              "      <td>0.956</td>\n",
              "      <td>0.000000</td>\n",
              "      <td>0.3350</td>\n",
              "      <td>-1.924</td>\n",
              "      <td>0.732</td>\n",
              "      <td>1</td>\n",
              "      <td>11</td>\n",
              "      <td>0.1280</td>\n",
              "      <td>148.010</td>\n",
              "      <td>4</td>\n",
              "    </tr>\n",
              "    <tr>\n",
              "      <th>...</th>\n",
              "      <td>...</td>\n",
              "      <td>...</td>\n",
              "      <td>...</td>\n",
              "      <td>...</td>\n",
              "      <td>...</td>\n",
              "      <td>...</td>\n",
              "      <td>...</td>\n",
              "      <td>...</td>\n",
              "      <td>...</td>\n",
              "      <td>...</td>\n",
              "      <td>...</td>\n",
              "      <td>...</td>\n",
              "      <td>...</td>\n",
              "      <td>...</td>\n",
              "      <td>...</td>\n",
              "      <td>...</td>\n",
              "      <td>...</td>\n",
              "      <td>...</td>\n",
              "    </tr>\n",
              "    <tr>\n",
              "      <th>677</th>\n",
              "      <td>根も葉もRumor</td>\n",
              "      <td>根も葉もRumor Special Edition</td>\n",
              "      <td>AKB48</td>\n",
              "      <td>2021-09-29</td>\n",
              "      <td>259173</td>\n",
              "      <td>28</td>\n",
              "      <td>0.0758</td>\n",
              "      <td>0.657</td>\n",
              "      <td>0.946</td>\n",
              "      <td>0.000000</td>\n",
              "      <td>0.1120</td>\n",
              "      <td>-2.187</td>\n",
              "      <td>0.797</td>\n",
              "      <td>0</td>\n",
              "      <td>5</td>\n",
              "      <td>0.0956</td>\n",
              "      <td>135.037</td>\n",
              "      <td>4</td>\n",
              "    </tr>\n",
              "    <tr>\n",
              "      <th>678</th>\n",
              "      <td>大騒ぎ天国(Second Generation)</td>\n",
              "      <td>根も葉もRumor Special Edition</td>\n",
              "      <td>AKB48</td>\n",
              "      <td>2021-09-29</td>\n",
              "      <td>197200</td>\n",
              "      <td>16</td>\n",
              "      <td>0.1410</td>\n",
              "      <td>0.559</td>\n",
              "      <td>0.972</td>\n",
              "      <td>0.000000</td>\n",
              "      <td>0.3250</td>\n",
              "      <td>-1.652</td>\n",
              "      <td>0.886</td>\n",
              "      <td>1</td>\n",
              "      <td>8</td>\n",
              "      <td>0.0885</td>\n",
              "      <td>165.142</td>\n",
              "      <td>4</td>\n",
              "    </tr>\n",
              "    <tr>\n",
              "      <th>679</th>\n",
              "      <td>西高東低(Team 8)</td>\n",
              "      <td>根も葉もRumor Special Edition</td>\n",
              "      <td>AKB48</td>\n",
              "      <td>2021-09-29</td>\n",
              "      <td>258545</td>\n",
              "      <td>15</td>\n",
              "      <td>0.0991</td>\n",
              "      <td>0.463</td>\n",
              "      <td>0.933</td>\n",
              "      <td>0.000001</td>\n",
              "      <td>0.3210</td>\n",
              "      <td>-2.300</td>\n",
              "      <td>0.508</td>\n",
              "      <td>1</td>\n",
              "      <td>0</td>\n",
              "      <td>0.0879</td>\n",
              "      <td>159.932</td>\n",
              "      <td>4</td>\n",
              "    </tr>\n",
              "    <tr>\n",
              "      <th>680</th>\n",
              "      <td>君がいなくなる12月(横山由依)</td>\n",
              "      <td>根も葉もRumor Special Edition</td>\n",
              "      <td>AKB48</td>\n",
              "      <td>2021-09-29</td>\n",
              "      <td>350653</td>\n",
              "      <td>17</td>\n",
              "      <td>0.7120</td>\n",
              "      <td>0.496</td>\n",
              "      <td>0.537</td>\n",
              "      <td>0.000139</td>\n",
              "      <td>0.2730</td>\n",
              "      <td>-4.474</td>\n",
              "      <td>0.266</td>\n",
              "      <td>1</td>\n",
              "      <td>11</td>\n",
              "      <td>0.0274</td>\n",
              "      <td>78.025</td>\n",
              "      <td>4</td>\n",
              "    </tr>\n",
              "    <tr>\n",
              "      <th>681</th>\n",
              "      <td>ブラックジャガー(First Generation)</td>\n",
              "      <td>根も葉もRumor Special Edition</td>\n",
              "      <td>AKB48</td>\n",
              "      <td>2021-09-29</td>\n",
              "      <td>275786</td>\n",
              "      <td>11</td>\n",
              "      <td>0.1300</td>\n",
              "      <td>0.577</td>\n",
              "      <td>0.935</td>\n",
              "      <td>0.000000</td>\n",
              "      <td>0.3030</td>\n",
              "      <td>-2.022</td>\n",
              "      <td>0.641</td>\n",
              "      <td>0</td>\n",
              "      <td>7</td>\n",
              "      <td>0.0763</td>\n",
              "      <td>128.906</td>\n",
              "      <td>4</td>\n",
              "    </tr>\n",
              "  </tbody>\n",
              "</table>\n",
              "<p>682 rows × 18 columns</p>\n",
              "</div>\n",
              "      <button class=\"colab-df-convert\" onclick=\"convertToInteractive('df-b48868ac-e642-4761-89f3-5848e04da1e2')\"\n",
              "              title=\"Convert this dataframe to an interactive table.\"\n",
              "              style=\"display:none;\">\n",
              "        \n",
              "  <svg xmlns=\"http://www.w3.org/2000/svg\" height=\"24px\"viewBox=\"0 0 24 24\"\n",
              "       width=\"24px\">\n",
              "    <path d=\"M0 0h24v24H0V0z\" fill=\"none\"/>\n",
              "    <path d=\"M18.56 5.44l.94 2.06.94-2.06 2.06-.94-2.06-.94-.94-2.06-.94 2.06-2.06.94zm-11 1L8.5 8.5l.94-2.06 2.06-.94-2.06-.94L8.5 2.5l-.94 2.06-2.06.94zm10 10l.94 2.06.94-2.06 2.06-.94-2.06-.94-.94-2.06-.94 2.06-2.06.94z\"/><path d=\"M17.41 7.96l-1.37-1.37c-.4-.4-.92-.59-1.43-.59-.52 0-1.04.2-1.43.59L10.3 9.45l-7.72 7.72c-.78.78-.78 2.05 0 2.83L4 21.41c.39.39.9.59 1.41.59.51 0 1.02-.2 1.41-.59l7.78-7.78 2.81-2.81c.8-.78.8-2.07 0-2.86zM5.41 20L4 18.59l7.72-7.72 1.47 1.35L5.41 20z\"/>\n",
              "  </svg>\n",
              "      </button>\n",
              "      \n",
              "  <style>\n",
              "    .colab-df-container {\n",
              "      display:flex;\n",
              "      flex-wrap:wrap;\n",
              "      gap: 12px;\n",
              "    }\n",
              "\n",
              "    .colab-df-convert {\n",
              "      background-color: #E8F0FE;\n",
              "      border: none;\n",
              "      border-radius: 50%;\n",
              "      cursor: pointer;\n",
              "      display: none;\n",
              "      fill: #1967D2;\n",
              "      height: 32px;\n",
              "      padding: 0 0 0 0;\n",
              "      width: 32px;\n",
              "    }\n",
              "\n",
              "    .colab-df-convert:hover {\n",
              "      background-color: #E2EBFA;\n",
              "      box-shadow: 0px 1px 2px rgba(60, 64, 67, 0.3), 0px 1px 3px 1px rgba(60, 64, 67, 0.15);\n",
              "      fill: #174EA6;\n",
              "    }\n",
              "\n",
              "    [theme=dark] .colab-df-convert {\n",
              "      background-color: #3B4455;\n",
              "      fill: #D2E3FC;\n",
              "    }\n",
              "\n",
              "    [theme=dark] .colab-df-convert:hover {\n",
              "      background-color: #434B5C;\n",
              "      box-shadow: 0px 1px 3px 1px rgba(0, 0, 0, 0.15);\n",
              "      filter: drop-shadow(0px 1px 2px rgba(0, 0, 0, 0.3));\n",
              "      fill: #FFFFFF;\n",
              "    }\n",
              "  </style>\n",
              "\n",
              "      <script>\n",
              "        const buttonEl =\n",
              "          document.querySelector('#df-b48868ac-e642-4761-89f3-5848e04da1e2 button.colab-df-convert');\n",
              "        buttonEl.style.display =\n",
              "          google.colab.kernel.accessAllowed ? 'block' : 'none';\n",
              "\n",
              "        async function convertToInteractive(key) {\n",
              "          const element = document.querySelector('#df-b48868ac-e642-4761-89f3-5848e04da1e2');\n",
              "          const dataTable =\n",
              "            await google.colab.kernel.invokeFunction('convertToInteractive',\n",
              "                                                     [key], {});\n",
              "          if (!dataTable) return;\n",
              "\n",
              "          const docLinkHtml = 'Like what you see? Visit the ' +\n",
              "            '<a target=\"_blank\" href=https://colab.research.google.com/notebooks/data_table.ipynb>data table notebook</a>'\n",
              "            + ' to learn more about interactive tables.';\n",
              "          element.innerHTML = '';\n",
              "          dataTable['output_type'] = 'display_data';\n",
              "          await google.colab.output.renderOutput(dataTable, element);\n",
              "          const docLink = document.createElement('div');\n",
              "          docLink.innerHTML = docLinkHtml;\n",
              "          element.appendChild(docLink);\n",
              "        }\n",
              "      </script>\n",
              "    </div>\n",
              "  </div>\n",
              "  "
            ],
            "text/plain": [
              "                          title                      album artist  \\\n",
              "0                         元カレです      元カレです Special Edition  AKB48   \n",
              "1                   壊さなきゃいけないもの      元カレです Special Edition  AKB48   \n",
              "2                      臆病なナマケモノ      元カレです Special Edition  AKB48   \n",
              "3                  Loss of time      元カレです Special Edition  AKB48   \n",
              "4                         ヤラカソウ      元カレです Special Edition  AKB48   \n",
              "..                          ...                        ...    ...   \n",
              "677                   根も葉もRumor  根も葉もRumor Special Edition  AKB48   \n",
              "678    大騒ぎ天国(Second Generation)  根も葉もRumor Special Edition  AKB48   \n",
              "679                西高東低(Team 8)  根も葉もRumor Special Edition  AKB48   \n",
              "680            君がいなくなる12月(横山由依)  根も葉もRumor Special Edition  AKB48   \n",
              "681  ブラックジャガー(First Generation)  根も葉もRumor Special Edition  AKB48   \n",
              "\n",
              "    release_date  length  popularity  acousticness  danceability  energy  \\\n",
              "0     2022-05-18  228600          31        0.4390         0.698   0.956   \n",
              "1     2022-05-18  298960          27        0.0788         0.320   0.868   \n",
              "2     2022-05-18  285186          21        0.0337         0.464   0.874   \n",
              "3     2022-05-18  224746          21        0.0355         0.452   0.933   \n",
              "4     2022-05-18  276813          17        0.0542         0.617   0.956   \n",
              "..           ...     ...         ...           ...           ...     ...   \n",
              "677   2021-09-29  259173          28        0.0758         0.657   0.946   \n",
              "678   2021-09-29  197200          16        0.1410         0.559   0.972   \n",
              "679   2021-09-29  258545          15        0.0991         0.463   0.933   \n",
              "680   2021-09-29  350653          17        0.7120         0.496   0.537   \n",
              "681   2021-09-29  275786          11        0.1300         0.577   0.935   \n",
              "\n",
              "     instrumentalness  liveness  loudness  valence  mode  key  speechiness  \\\n",
              "0            0.000000    0.0975    -1.832    0.805     1    5       0.0686   \n",
              "1            0.000000    0.3400    -1.772    0.486     1    5       0.0457   \n",
              "2            0.000000    0.3280    -1.553    0.378     1   10       0.0439   \n",
              "3            0.000000    0.2680    -2.105    0.587     1    9       0.0867   \n",
              "4            0.000000    0.3350    -1.924    0.732     1   11       0.1280   \n",
              "..                ...       ...       ...      ...   ...  ...          ...   \n",
              "677          0.000000    0.1120    -2.187    0.797     0    5       0.0956   \n",
              "678          0.000000    0.3250    -1.652    0.886     1    8       0.0885   \n",
              "679          0.000001    0.3210    -2.300    0.508     1    0       0.0879   \n",
              "680          0.000139    0.2730    -4.474    0.266     1   11       0.0274   \n",
              "681          0.000000    0.3030    -2.022    0.641     0    7       0.0763   \n",
              "\n",
              "       tempo  time_signature  \n",
              "0    120.019               4  \n",
              "1    163.870               4  \n",
              "2     82.013               4  \n",
              "3    171.946               4  \n",
              "4    148.010               4  \n",
              "..       ...             ...  \n",
              "677  135.037               4  \n",
              "678  165.142               4  \n",
              "679  159.932               4  \n",
              "680   78.025               4  \n",
              "681  128.906               4  \n",
              "\n",
              "[682 rows x 18 columns]"
            ]
          },
          "execution_count": 7,
          "metadata": {},
          "output_type": "execute_result"
        }
      ],
      "source": [
        "df"
      ]
    },
    {
      "cell_type": "markdown",
      "metadata": {
        "id": "WplHzlJMfOBn"
      },
      "source": [
        "#### **3.5. Jika ingin menggunakan dataset unggahan/yang tersimpan di Drive**"
      ]
    },
    {
      "cell_type": "code",
      "execution_count": null,
      "metadata": {
        "id": "06t7xdugfbU1"
      },
      "outputs": [],
      "source": [
        "# kita akan mengakses data yang terdapat pada google drive, sehingga aksesnya perlu dibuat terlebih dahulu\n",
        "from google.colab import drive\n",
        "drive.mount('/content/drive', force_remount=True)"
      ]
    },
    {
      "cell_type": "code",
      "execution_count": null,
      "metadata": {
        "id": "xnbvWvTVe3LC"
      },
      "outputs": [],
      "source": [
        "df = pd.read_csv('/content/Spotify_AKB48.csv')"
      ]
    },
    {
      "cell_type": "code",
      "execution_count": null,
      "metadata": {
        "id": "jLxFmkLVfgWe"
      },
      "outputs": [],
      "source": [
        "df"
      ]
    },
    {
      "cell_type": "markdown",
      "metadata": {
        "id": "LNRmgju2xPNV"
      },
      "source": [
        "## ***Exploratory data analysis* (EDA) dan *Feature Engineering***\n",
        "\n",
        "Referensi :\n",
        "1. [Preliminary data analysis on Spotify data using API (Trishala S, Web Mining (IS688, Spring 2021) on Medium](https://medium.com/web-mining-is688-spring-2021/preliminary-data-analysis-on-spotify-data-using-api-a84bb0aae00c)\n",
        "2. Hands-on materials from Summer Club Explorer 2022 - Data Science, Generation Girl"
      ]
    },
    {
      "cell_type": "markdown",
      "metadata": {
        "id": "B-ZvUFbSyvkn"
      },
      "source": [
        "### **1. Data overview**"
      ]
    },
    {
      "cell_type": "markdown",
      "metadata": {
        "id": "aNMia_Xajmt8"
      },
      "source": [
        "#### a. Data overview"
      ]
    },
    {
      "cell_type": "code",
      "execution_count": null,
      "metadata": {
        "colab": {
          "base_uri": "https://localhost:8080/",
          "height": 565
        },
        "id": "YEeixFNgy3eE",
        "outputId": "a116d3c0-822a-4a13-fd8f-95cb9ddf0c82"
      },
      "outputs": [
        {
          "data": {
            "text/html": [
              "\n",
              "  <div id=\"df-316096bd-1184-4221-ae3e-00132f28400f\">\n",
              "    <div class=\"colab-df-container\">\n",
              "      <div>\n",
              "<style scoped>\n",
              "    .dataframe tbody tr th:only-of-type {\n",
              "        vertical-align: middle;\n",
              "    }\n",
              "\n",
              "    .dataframe tbody tr th {\n",
              "        vertical-align: top;\n",
              "    }\n",
              "\n",
              "    .dataframe thead th {\n",
              "        text-align: right;\n",
              "    }\n",
              "</style>\n",
              "<table border=\"1\" class=\"dataframe\">\n",
              "  <thead>\n",
              "    <tr style=\"text-align: right;\">\n",
              "      <th></th>\n",
              "      <th>title</th>\n",
              "      <th>album</th>\n",
              "      <th>artist</th>\n",
              "      <th>release_date</th>\n",
              "      <th>length</th>\n",
              "      <th>popularity</th>\n",
              "      <th>acousticness</th>\n",
              "      <th>danceability</th>\n",
              "      <th>energy</th>\n",
              "      <th>instrumentalness</th>\n",
              "      <th>liveness</th>\n",
              "      <th>loudness</th>\n",
              "      <th>valence</th>\n",
              "      <th>mode</th>\n",
              "      <th>key</th>\n",
              "      <th>speechiness</th>\n",
              "      <th>tempo</th>\n",
              "      <th>time_signature</th>\n",
              "    </tr>\n",
              "  </thead>\n",
              "  <tbody>\n",
              "    <tr>\n",
              "      <th>0</th>\n",
              "      <td>元カレです</td>\n",
              "      <td>元カレです Special Edition</td>\n",
              "      <td>AKB48</td>\n",
              "      <td>2022-05-18</td>\n",
              "      <td>228600</td>\n",
              "      <td>31</td>\n",
              "      <td>0.4390</td>\n",
              "      <td>0.698</td>\n",
              "      <td>0.956</td>\n",
              "      <td>0.0</td>\n",
              "      <td>0.0975</td>\n",
              "      <td>-1.832</td>\n",
              "      <td>0.805</td>\n",
              "      <td>1</td>\n",
              "      <td>5</td>\n",
              "      <td>0.0686</td>\n",
              "      <td>120.019</td>\n",
              "      <td>4</td>\n",
              "    </tr>\n",
              "    <tr>\n",
              "      <th>1</th>\n",
              "      <td>壊さなきゃいけないもの</td>\n",
              "      <td>元カレです Special Edition</td>\n",
              "      <td>AKB48</td>\n",
              "      <td>2022-05-18</td>\n",
              "      <td>298960</td>\n",
              "      <td>27</td>\n",
              "      <td>0.0788</td>\n",
              "      <td>0.320</td>\n",
              "      <td>0.868</td>\n",
              "      <td>0.0</td>\n",
              "      <td>0.3400</td>\n",
              "      <td>-1.772</td>\n",
              "      <td>0.486</td>\n",
              "      <td>1</td>\n",
              "      <td>5</td>\n",
              "      <td>0.0457</td>\n",
              "      <td>163.870</td>\n",
              "      <td>4</td>\n",
              "    </tr>\n",
              "    <tr>\n",
              "      <th>2</th>\n",
              "      <td>臆病なナマケモノ</td>\n",
              "      <td>元カレです Special Edition</td>\n",
              "      <td>AKB48</td>\n",
              "      <td>2022-05-18</td>\n",
              "      <td>285186</td>\n",
              "      <td>21</td>\n",
              "      <td>0.0337</td>\n",
              "      <td>0.464</td>\n",
              "      <td>0.874</td>\n",
              "      <td>0.0</td>\n",
              "      <td>0.3280</td>\n",
              "      <td>-1.553</td>\n",
              "      <td>0.378</td>\n",
              "      <td>1</td>\n",
              "      <td>10</td>\n",
              "      <td>0.0439</td>\n",
              "      <td>82.013</td>\n",
              "      <td>4</td>\n",
              "    </tr>\n",
              "    <tr>\n",
              "      <th>3</th>\n",
              "      <td>Loss of time</td>\n",
              "      <td>元カレです Special Edition</td>\n",
              "      <td>AKB48</td>\n",
              "      <td>2022-05-18</td>\n",
              "      <td>224746</td>\n",
              "      <td>21</td>\n",
              "      <td>0.0355</td>\n",
              "      <td>0.452</td>\n",
              "      <td>0.933</td>\n",
              "      <td>0.0</td>\n",
              "      <td>0.2680</td>\n",
              "      <td>-2.105</td>\n",
              "      <td>0.587</td>\n",
              "      <td>1</td>\n",
              "      <td>9</td>\n",
              "      <td>0.0867</td>\n",
              "      <td>171.946</td>\n",
              "      <td>4</td>\n",
              "    </tr>\n",
              "    <tr>\n",
              "      <th>4</th>\n",
              "      <td>ヤラカソウ</td>\n",
              "      <td>元カレです Special Edition</td>\n",
              "      <td>AKB48</td>\n",
              "      <td>2022-05-18</td>\n",
              "      <td>276813</td>\n",
              "      <td>17</td>\n",
              "      <td>0.0542</td>\n",
              "      <td>0.617</td>\n",
              "      <td>0.956</td>\n",
              "      <td>0.0</td>\n",
              "      <td>0.3350</td>\n",
              "      <td>-1.924</td>\n",
              "      <td>0.732</td>\n",
              "      <td>1</td>\n",
              "      <td>11</td>\n",
              "      <td>0.1280</td>\n",
              "      <td>148.010</td>\n",
              "      <td>4</td>\n",
              "    </tr>\n",
              "  </tbody>\n",
              "</table>\n",
              "</div>\n",
              "      <button class=\"colab-df-convert\" onclick=\"convertToInteractive('df-316096bd-1184-4221-ae3e-00132f28400f')\"\n",
              "              title=\"Convert this dataframe to an interactive table.\"\n",
              "              style=\"display:none;\">\n",
              "        \n",
              "  <svg xmlns=\"http://www.w3.org/2000/svg\" height=\"24px\"viewBox=\"0 0 24 24\"\n",
              "       width=\"24px\">\n",
              "    <path d=\"M0 0h24v24H0V0z\" fill=\"none\"/>\n",
              "    <path d=\"M18.56 5.44l.94 2.06.94-2.06 2.06-.94-2.06-.94-.94-2.06-.94 2.06-2.06.94zm-11 1L8.5 8.5l.94-2.06 2.06-.94-2.06-.94L8.5 2.5l-.94 2.06-2.06.94zm10 10l.94 2.06.94-2.06 2.06-.94-2.06-.94-.94-2.06-.94 2.06-2.06.94z\"/><path d=\"M17.41 7.96l-1.37-1.37c-.4-.4-.92-.59-1.43-.59-.52 0-1.04.2-1.43.59L10.3 9.45l-7.72 7.72c-.78.78-.78 2.05 0 2.83L4 21.41c.39.39.9.59 1.41.59.51 0 1.02-.2 1.41-.59l7.78-7.78 2.81-2.81c.8-.78.8-2.07 0-2.86zM5.41 20L4 18.59l7.72-7.72 1.47 1.35L5.41 20z\"/>\n",
              "  </svg>\n",
              "      </button>\n",
              "      \n",
              "  <style>\n",
              "    .colab-df-container {\n",
              "      display:flex;\n",
              "      flex-wrap:wrap;\n",
              "      gap: 12px;\n",
              "    }\n",
              "\n",
              "    .colab-df-convert {\n",
              "      background-color: #E8F0FE;\n",
              "      border: none;\n",
              "      border-radius: 50%;\n",
              "      cursor: pointer;\n",
              "      display: none;\n",
              "      fill: #1967D2;\n",
              "      height: 32px;\n",
              "      padding: 0 0 0 0;\n",
              "      width: 32px;\n",
              "    }\n",
              "\n",
              "    .colab-df-convert:hover {\n",
              "      background-color: #E2EBFA;\n",
              "      box-shadow: 0px 1px 2px rgba(60, 64, 67, 0.3), 0px 1px 3px 1px rgba(60, 64, 67, 0.15);\n",
              "      fill: #174EA6;\n",
              "    }\n",
              "\n",
              "    [theme=dark] .colab-df-convert {\n",
              "      background-color: #3B4455;\n",
              "      fill: #D2E3FC;\n",
              "    }\n",
              "\n",
              "    [theme=dark] .colab-df-convert:hover {\n",
              "      background-color: #434B5C;\n",
              "      box-shadow: 0px 1px 3px 1px rgba(0, 0, 0, 0.15);\n",
              "      filter: drop-shadow(0px 1px 2px rgba(0, 0, 0, 0.3));\n",
              "      fill: #FFFFFF;\n",
              "    }\n",
              "  </style>\n",
              "\n",
              "      <script>\n",
              "        const buttonEl =\n",
              "          document.querySelector('#df-316096bd-1184-4221-ae3e-00132f28400f button.colab-df-convert');\n",
              "        buttonEl.style.display =\n",
              "          google.colab.kernel.accessAllowed ? 'block' : 'none';\n",
              "\n",
              "        async function convertToInteractive(key) {\n",
              "          const element = document.querySelector('#df-316096bd-1184-4221-ae3e-00132f28400f');\n",
              "          const dataTable =\n",
              "            await google.colab.kernel.invokeFunction('convertToInteractive',\n",
              "                                                     [key], {});\n",
              "          if (!dataTable) return;\n",
              "\n",
              "          const docLinkHtml = 'Like what you see? Visit the ' +\n",
              "            '<a target=\"_blank\" href=https://colab.research.google.com/notebooks/data_table.ipynb>data table notebook</a>'\n",
              "            + ' to learn more about interactive tables.';\n",
              "          element.innerHTML = '';\n",
              "          dataTable['output_type'] = 'display_data';\n",
              "          await google.colab.output.renderOutput(dataTable, element);\n",
              "          const docLink = document.createElement('div');\n",
              "          docLink.innerHTML = docLinkHtml;\n",
              "          element.appendChild(docLink);\n",
              "        }\n",
              "      </script>\n",
              "    </div>\n",
              "  </div>\n",
              "  "
            ],
            "text/plain": [
              "          title                  album artist release_date  length  \\\n",
              "0         元カレです  元カレです Special Edition  AKB48   2022-05-18  228600   \n",
              "1   壊さなきゃいけないもの  元カレです Special Edition  AKB48   2022-05-18  298960   \n",
              "2      臆病なナマケモノ  元カレです Special Edition  AKB48   2022-05-18  285186   \n",
              "3  Loss of time  元カレです Special Edition  AKB48   2022-05-18  224746   \n",
              "4         ヤラカソウ  元カレです Special Edition  AKB48   2022-05-18  276813   \n",
              "\n",
              "   popularity  acousticness  danceability  energy  instrumentalness  liveness  \\\n",
              "0          31        0.4390         0.698   0.956               0.0    0.0975   \n",
              "1          27        0.0788         0.320   0.868               0.0    0.3400   \n",
              "2          21        0.0337         0.464   0.874               0.0    0.3280   \n",
              "3          21        0.0355         0.452   0.933               0.0    0.2680   \n",
              "4          17        0.0542         0.617   0.956               0.0    0.3350   \n",
              "\n",
              "   loudness  valence  mode  key  speechiness    tempo  time_signature  \n",
              "0    -1.832    0.805     1    5       0.0686  120.019               4  \n",
              "1    -1.772    0.486     1    5       0.0457  163.870               4  \n",
              "2    -1.553    0.378     1   10       0.0439   82.013               4  \n",
              "3    -2.105    0.587     1    9       0.0867  171.946               4  \n",
              "4    -1.924    0.732     1   11       0.1280  148.010               4  "
            ]
          },
          "execution_count": 7,
          "metadata": {},
          "output_type": "execute_result"
        }
      ],
      "source": [
        "df.head()"
      ]
    },
    {
      "cell_type": "code",
      "execution_count": null,
      "metadata": {
        "colab": {
          "base_uri": "https://localhost:8080/"
        },
        "id": "a20WA-yOyk9B",
        "outputId": "ce4b0566-7916-4f86-b554-3ae9efbac848"
      },
      "outputs": [
        {
          "name": "stdout",
          "output_type": "stream",
          "text": [
            "<class 'pandas.core.frame.DataFrame'>\n",
            "RangeIndex: 682 entries, 0 to 681\n",
            "Data columns (total 18 columns):\n",
            " #   Column            Non-Null Count  Dtype  \n",
            "---  ------            --------------  -----  \n",
            " 0   title             682 non-null    object \n",
            " 1   album             682 non-null    object \n",
            " 2   artist            682 non-null    object \n",
            " 3   release_date      682 non-null    object \n",
            " 4   length            682 non-null    int64  \n",
            " 5   popularity        682 non-null    int64  \n",
            " 6   acousticness      682 non-null    float64\n",
            " 7   danceability      682 non-null    float64\n",
            " 8   energy            682 non-null    float64\n",
            " 9   instrumentalness  682 non-null    float64\n",
            " 10  liveness          682 non-null    float64\n",
            " 11  loudness          682 non-null    float64\n",
            " 12  valence           682 non-null    float64\n",
            " 13  mode              682 non-null    int64  \n",
            " 14  key               682 non-null    int64  \n",
            " 15  speechiness       682 non-null    float64\n",
            " 16  tempo             682 non-null    float64\n",
            " 17  time_signature    682 non-null    int64  \n",
            "dtypes: float64(9), int64(5), object(4)\n",
            "memory usage: 96.0+ KB\n",
            "None\n"
          ]
        }
      ],
      "source": [
        "print(df.info())"
      ]
    },
    {
      "cell_type": "markdown",
      "metadata": {
        "id": "EZWgTKPkv9UJ"
      },
      "source": [
        "#### b. Mengecek dan menghapus duplikat data"
      ]
    },
    {
      "cell_type": "code",
      "execution_count": null,
      "metadata": {
        "colab": {
          "base_uri": "https://localhost:8080/"
        },
        "id": "SuPDw6jqTHPu",
        "outputId": "5ae8b41f-6e8d-4b88-9307-4ab7aedd80bf"
      },
      "outputs": [
        {
          "data": {
            "text/plain": [
              "0"
            ]
          },
          "execution_count": 10,
          "metadata": {},
          "output_type": "execute_result"
        }
      ],
      "source": [
        "df.duplicated().sum()"
      ]
    },
    {
      "cell_type": "code",
      "execution_count": null,
      "metadata": {
        "colab": {
          "base_uri": "https://localhost:8080/"
        },
        "id": "VSVM2qniTIEh",
        "outputId": "1961bd35-0f49-48c9-da7c-9d3648b5ebe3"
      },
      "outputs": [
        {
          "data": {
            "text/plain": [
              "682"
            ]
          },
          "execution_count": 11,
          "metadata": {},
          "output_type": "execute_result"
        }
      ],
      "source": [
        "(~df.duplicated()).sum()"
      ]
    },
    {
      "cell_type": "code",
      "execution_count": null,
      "metadata": {
        "id": "cjGsHXyPOW0R"
      },
      "outputs": [],
      "source": [
        "# df = df.drop_duplicates()\n",
        "# df"
      ]
    },
    {
      "cell_type": "markdown",
      "metadata": {
        "id": "KbpZBzllgye9"
      },
      "source": [
        "#### c. Mengecek dan menghapus *missing values*"
      ]
    },
    {
      "cell_type": "code",
      "execution_count": null,
      "metadata": {
        "colab": {
          "base_uri": "https://localhost:8080/"
        },
        "id": "LO2pAfCXg6Qp",
        "outputId": "0922589f-8c43-45a0-b62a-ea9f6f6ba642"
      },
      "outputs": [
        {
          "name": "stdout",
          "output_type": "stream",
          "text": [
            "0\n"
          ]
        }
      ],
      "source": [
        "print(df.isnull().values.sum())"
      ]
    },
    {
      "cell_type": "markdown",
      "metadata": {
        "id": "QxruHST8gSzR"
      },
      "source": [
        "### **2. *Exploratory Data Analysis* (EDA)**"
      ]
    },
    {
      "cell_type": "code",
      "execution_count": null,
      "metadata": {
        "colab": {
          "base_uri": "https://localhost:8080/",
          "height": 365
        },
        "id": "ESdwnL2Tgkj6",
        "outputId": "fa2cf64c-b45c-4b22-e48a-1c5c35cb46c1"
      },
      "outputs": [
        {
          "data": {
            "text/html": [
              "\n",
              "  <div id=\"df-0e12ae9d-268d-4a08-9ac1-7a20ea911ceb\">\n",
              "    <div class=\"colab-df-container\">\n",
              "      <div>\n",
              "<style scoped>\n",
              "    .dataframe tbody tr th:only-of-type {\n",
              "        vertical-align: middle;\n",
              "    }\n",
              "\n",
              "    .dataframe tbody tr th {\n",
              "        vertical-align: top;\n",
              "    }\n",
              "\n",
              "    .dataframe thead th {\n",
              "        text-align: right;\n",
              "    }\n",
              "</style>\n",
              "<table border=\"1\" class=\"dataframe\">\n",
              "  <thead>\n",
              "    <tr style=\"text-align: right;\">\n",
              "      <th></th>\n",
              "      <th>length</th>\n",
              "      <th>popularity</th>\n",
              "      <th>acousticness</th>\n",
              "      <th>danceability</th>\n",
              "      <th>energy</th>\n",
              "      <th>instrumentalness</th>\n",
              "      <th>liveness</th>\n",
              "      <th>loudness</th>\n",
              "      <th>valence</th>\n",
              "      <th>mode</th>\n",
              "      <th>key</th>\n",
              "      <th>speechiness</th>\n",
              "      <th>tempo</th>\n",
              "      <th>time_signature</th>\n",
              "    </tr>\n",
              "  </thead>\n",
              "  <tbody>\n",
              "    <tr>\n",
              "      <th>count</th>\n",
              "      <td>682.000000</td>\n",
              "      <td>682.000000</td>\n",
              "      <td>682.000000</td>\n",
              "      <td>682.000000</td>\n",
              "      <td>682.000000</td>\n",
              "      <td>682.000000</td>\n",
              "      <td>682.000000</td>\n",
              "      <td>682.000000</td>\n",
              "      <td>682.000000</td>\n",
              "      <td>682.000000</td>\n",
              "      <td>682.000000</td>\n",
              "      <td>682.000000</td>\n",
              "      <td>682.000000</td>\n",
              "      <td>682.000000</td>\n",
              "    </tr>\n",
              "    <tr>\n",
              "      <th>mean</th>\n",
              "      <td>262164.802053</td>\n",
              "      <td>10.967742</td>\n",
              "      <td>0.213757</td>\n",
              "      <td>0.528073</td>\n",
              "      <td>0.872893</td>\n",
              "      <td>0.003156</td>\n",
              "      <td>0.235288</td>\n",
              "      <td>-3.780770</td>\n",
              "      <td>0.620642</td>\n",
              "      <td>0.665689</td>\n",
              "      <td>5.067449</td>\n",
              "      <td>0.061302</td>\n",
              "      <td>134.098440</td>\n",
              "      <td>3.964809</td>\n",
              "    </tr>\n",
              "    <tr>\n",
              "      <th>std</th>\n",
              "      <td>35379.404679</td>\n",
              "      <td>7.512622</td>\n",
              "      <td>0.214225</td>\n",
              "      <td>0.093336</td>\n",
              "      <td>0.133876</td>\n",
              "      <td>0.022256</td>\n",
              "      <td>0.121446</td>\n",
              "      <td>1.546732</td>\n",
              "      <td>0.183702</td>\n",
              "      <td>0.472095</td>\n",
              "      <td>3.406588</td>\n",
              "      <td>0.035805</td>\n",
              "      <td>26.832736</td>\n",
              "      <td>0.227207</td>\n",
              "    </tr>\n",
              "    <tr>\n",
              "      <th>min</th>\n",
              "      <td>59480.000000</td>\n",
              "      <td>0.000000</td>\n",
              "      <td>0.000039</td>\n",
              "      <td>0.234000</td>\n",
              "      <td>0.169000</td>\n",
              "      <td>0.000000</td>\n",
              "      <td>0.017800</td>\n",
              "      <td>-11.559000</td>\n",
              "      <td>0.070100</td>\n",
              "      <td>0.000000</td>\n",
              "      <td>0.000000</td>\n",
              "      <td>0.023500</td>\n",
              "      <td>66.799000</td>\n",
              "      <td>1.000000</td>\n",
              "    </tr>\n",
              "    <tr>\n",
              "      <th>25%</th>\n",
              "      <td>238965.500000</td>\n",
              "      <td>6.000000</td>\n",
              "      <td>0.033275</td>\n",
              "      <td>0.464250</td>\n",
              "      <td>0.858000</td>\n",
              "      <td>0.000000</td>\n",
              "      <td>0.125000</td>\n",
              "      <td>-4.430500</td>\n",
              "      <td>0.498250</td>\n",
              "      <td>0.000000</td>\n",
              "      <td>2.000000</td>\n",
              "      <td>0.036500</td>\n",
              "      <td>118.178000</td>\n",
              "      <td>4.000000</td>\n",
              "    </tr>\n",
              "    <tr>\n",
              "      <th>50%</th>\n",
              "      <td>259400.000000</td>\n",
              "      <td>9.000000</td>\n",
              "      <td>0.144000</td>\n",
              "      <td>0.530000</td>\n",
              "      <td>0.918000</td>\n",
              "      <td>0.000000</td>\n",
              "      <td>0.240500</td>\n",
              "      <td>-3.492500</td>\n",
              "      <td>0.637000</td>\n",
              "      <td>1.000000</td>\n",
              "      <td>5.000000</td>\n",
              "      <td>0.050650</td>\n",
              "      <td>134.996500</td>\n",
              "      <td>4.000000</td>\n",
              "    </tr>\n",
              "    <tr>\n",
              "      <th>75%</th>\n",
              "      <td>284653.000000</td>\n",
              "      <td>14.000000</td>\n",
              "      <td>0.352750</td>\n",
              "      <td>0.595000</td>\n",
              "      <td>0.955000</td>\n",
              "      <td>0.000029</td>\n",
              "      <td>0.330750</td>\n",
              "      <td>-2.775000</td>\n",
              "      <td>0.756750</td>\n",
              "      <td>1.000000</td>\n",
              "      <td>8.000000</td>\n",
              "      <td>0.074625</td>\n",
              "      <td>154.027750</td>\n",
              "      <td>4.000000</td>\n",
              "    </tr>\n",
              "    <tr>\n",
              "      <th>max</th>\n",
              "      <td>404653.000000</td>\n",
              "      <td>46.000000</td>\n",
              "      <td>0.977000</td>\n",
              "      <td>0.846000</td>\n",
              "      <td>0.998000</td>\n",
              "      <td>0.365000</td>\n",
              "      <td>0.815000</td>\n",
              "      <td>-0.495000</td>\n",
              "      <td>0.970000</td>\n",
              "      <td>1.000000</td>\n",
              "      <td>11.000000</td>\n",
              "      <td>0.288000</td>\n",
              "      <td>206.125000</td>\n",
              "      <td>4.000000</td>\n",
              "    </tr>\n",
              "  </tbody>\n",
              "</table>\n",
              "</div>\n",
              "      <button class=\"colab-df-convert\" onclick=\"convertToInteractive('df-0e12ae9d-268d-4a08-9ac1-7a20ea911ceb')\"\n",
              "              title=\"Convert this dataframe to an interactive table.\"\n",
              "              style=\"display:none;\">\n",
              "        \n",
              "  <svg xmlns=\"http://www.w3.org/2000/svg\" height=\"24px\"viewBox=\"0 0 24 24\"\n",
              "       width=\"24px\">\n",
              "    <path d=\"M0 0h24v24H0V0z\" fill=\"none\"/>\n",
              "    <path d=\"M18.56 5.44l.94 2.06.94-2.06 2.06-.94-2.06-.94-.94-2.06-.94 2.06-2.06.94zm-11 1L8.5 8.5l.94-2.06 2.06-.94-2.06-.94L8.5 2.5l-.94 2.06-2.06.94zm10 10l.94 2.06.94-2.06 2.06-.94-2.06-.94-.94-2.06-.94 2.06-2.06.94z\"/><path d=\"M17.41 7.96l-1.37-1.37c-.4-.4-.92-.59-1.43-.59-.52 0-1.04.2-1.43.59L10.3 9.45l-7.72 7.72c-.78.78-.78 2.05 0 2.83L4 21.41c.39.39.9.59 1.41.59.51 0 1.02-.2 1.41-.59l7.78-7.78 2.81-2.81c.8-.78.8-2.07 0-2.86zM5.41 20L4 18.59l7.72-7.72 1.47 1.35L5.41 20z\"/>\n",
              "  </svg>\n",
              "      </button>\n",
              "      \n",
              "  <style>\n",
              "    .colab-df-container {\n",
              "      display:flex;\n",
              "      flex-wrap:wrap;\n",
              "      gap: 12px;\n",
              "    }\n",
              "\n",
              "    .colab-df-convert {\n",
              "      background-color: #E8F0FE;\n",
              "      border: none;\n",
              "      border-radius: 50%;\n",
              "      cursor: pointer;\n",
              "      display: none;\n",
              "      fill: #1967D2;\n",
              "      height: 32px;\n",
              "      padding: 0 0 0 0;\n",
              "      width: 32px;\n",
              "    }\n",
              "\n",
              "    .colab-df-convert:hover {\n",
              "      background-color: #E2EBFA;\n",
              "      box-shadow: 0px 1px 2px rgba(60, 64, 67, 0.3), 0px 1px 3px 1px rgba(60, 64, 67, 0.15);\n",
              "      fill: #174EA6;\n",
              "    }\n",
              "\n",
              "    [theme=dark] .colab-df-convert {\n",
              "      background-color: #3B4455;\n",
              "      fill: #D2E3FC;\n",
              "    }\n",
              "\n",
              "    [theme=dark] .colab-df-convert:hover {\n",
              "      background-color: #434B5C;\n",
              "      box-shadow: 0px 1px 3px 1px rgba(0, 0, 0, 0.15);\n",
              "      filter: drop-shadow(0px 1px 2px rgba(0, 0, 0, 0.3));\n",
              "      fill: #FFFFFF;\n",
              "    }\n",
              "  </style>\n",
              "\n",
              "      <script>\n",
              "        const buttonEl =\n",
              "          document.querySelector('#df-0e12ae9d-268d-4a08-9ac1-7a20ea911ceb button.colab-df-convert');\n",
              "        buttonEl.style.display =\n",
              "          google.colab.kernel.accessAllowed ? 'block' : 'none';\n",
              "\n",
              "        async function convertToInteractive(key) {\n",
              "          const element = document.querySelector('#df-0e12ae9d-268d-4a08-9ac1-7a20ea911ceb');\n",
              "          const dataTable =\n",
              "            await google.colab.kernel.invokeFunction('convertToInteractive',\n",
              "                                                     [key], {});\n",
              "          if (!dataTable) return;\n",
              "\n",
              "          const docLinkHtml = 'Like what you see? Visit the ' +\n",
              "            '<a target=\"_blank\" href=https://colab.research.google.com/notebooks/data_table.ipynb>data table notebook</a>'\n",
              "            + ' to learn more about interactive tables.';\n",
              "          element.innerHTML = '';\n",
              "          dataTable['output_type'] = 'display_data';\n",
              "          await google.colab.output.renderOutput(dataTable, element);\n",
              "          const docLink = document.createElement('div');\n",
              "          docLink.innerHTML = docLinkHtml;\n",
              "          element.appendChild(docLink);\n",
              "        }\n",
              "      </script>\n",
              "    </div>\n",
              "  </div>\n",
              "  "
            ],
            "text/plain": [
              "              length  popularity  acousticness  danceability      energy  \\\n",
              "count     682.000000  682.000000    682.000000    682.000000  682.000000   \n",
              "mean   262164.802053   10.967742      0.213757      0.528073    0.872893   \n",
              "std     35379.404679    7.512622      0.214225      0.093336    0.133876   \n",
              "min     59480.000000    0.000000      0.000039      0.234000    0.169000   \n",
              "25%    238965.500000    6.000000      0.033275      0.464250    0.858000   \n",
              "50%    259400.000000    9.000000      0.144000      0.530000    0.918000   \n",
              "75%    284653.000000   14.000000      0.352750      0.595000    0.955000   \n",
              "max    404653.000000   46.000000      0.977000      0.846000    0.998000   \n",
              "\n",
              "       instrumentalness    liveness    loudness     valence        mode  \\\n",
              "count        682.000000  682.000000  682.000000  682.000000  682.000000   \n",
              "mean           0.003156    0.235288   -3.780770    0.620642    0.665689   \n",
              "std            0.022256    0.121446    1.546732    0.183702    0.472095   \n",
              "min            0.000000    0.017800  -11.559000    0.070100    0.000000   \n",
              "25%            0.000000    0.125000   -4.430500    0.498250    0.000000   \n",
              "50%            0.000000    0.240500   -3.492500    0.637000    1.000000   \n",
              "75%            0.000029    0.330750   -2.775000    0.756750    1.000000   \n",
              "max            0.365000    0.815000   -0.495000    0.970000    1.000000   \n",
              "\n",
              "              key  speechiness       tempo  time_signature  \n",
              "count  682.000000   682.000000  682.000000      682.000000  \n",
              "mean     5.067449     0.061302  134.098440        3.964809  \n",
              "std      3.406588     0.035805   26.832736        0.227207  \n",
              "min      0.000000     0.023500   66.799000        1.000000  \n",
              "25%      2.000000     0.036500  118.178000        4.000000  \n",
              "50%      5.000000     0.050650  134.996500        4.000000  \n",
              "75%      8.000000     0.074625  154.027750        4.000000  \n",
              "max     11.000000     0.288000  206.125000        4.000000  "
            ]
          },
          "execution_count": 13,
          "metadata": {},
          "output_type": "execute_result"
        }
      ],
      "source": [
        "df.describe()"
      ]
    },
    {
      "cell_type": "code",
      "execution_count": null,
      "metadata": {
        "colab": {
          "base_uri": "https://localhost:8080/",
          "height": 593
        },
        "id": "x_mGCWUkhlYj",
        "outputId": "68970f7f-8efe-4001-c783-0b7e10e6f436"
      },
      "outputs": [
        {
          "data": {
            "text/plain": [
              "array([[<matplotlib.axes._subplots.AxesSubplot object at 0x7fce78b45510>,\n",
              "        <matplotlib.axes._subplots.AxesSubplot object at 0x7fce77fcbc90>,\n",
              "        <matplotlib.axes._subplots.AxesSubplot object at 0x7fce788a72d0>,\n",
              "        <matplotlib.axes._subplots.AxesSubplot object at 0x7fce782948d0>],\n",
              "       [<matplotlib.axes._subplots.AxesSubplot object at 0x7fce78599ed0>,\n",
              "        <matplotlib.axes._subplots.AxesSubplot object at 0x7fce788d8510>,\n",
              "        <matplotlib.axes._subplots.AxesSubplot object at 0x7fce782ceb90>,\n",
              "        <matplotlib.axes._subplots.AxesSubplot object at 0x7fce77d98110>],\n",
              "       [<matplotlib.axes._subplots.AxesSubplot object at 0x7fce77d98150>,\n",
              "        <matplotlib.axes._subplots.AxesSubplot object at 0x7fce78790850>,\n",
              "        <matplotlib.axes._subplots.AxesSubplot object at 0x7fce7860e310>,\n",
              "        <matplotlib.axes._subplots.AxesSubplot object at 0x7fce785c10d0>],\n",
              "       [<matplotlib.axes._subplots.AxesSubplot object at 0x7fce77ff8f90>,\n",
              "        <matplotlib.axes._subplots.AxesSubplot object at 0x7fce77af85d0>,\n",
              "        <matplotlib.axes._subplots.AxesSubplot object at 0x7fce78af5bd0>,\n",
              "        <matplotlib.axes._subplots.AxesSubplot object at 0x7fce78ab7210>]],\n",
              "      dtype=object)"
            ]
          },
          "execution_count": 14,
          "metadata": {},
          "output_type": "execute_result"
        },
        {
          "data": {
            "text/plain": [
              "<Figure size 36000x28800 with 0 Axes>"
            ]
          },
          "metadata": {},
          "output_type": "display_data"
        },
        {
          "data": {
            "image/png": "[encoded data removed]",
            "text/plain": [
              "<Figure size 432x288 with 16 Axes>"
            ]
          },
          "metadata": {},
          "output_type": "display_data"
        }
      ],
      "source": [
        "plt.figure(figsize=(500,400)) # TANYAAAA!!\n",
        "df.hist(column = ['length', 'popularity', 'acousticness', 'danceability', 'energy', 'instrumentalness', 'liveness',\n",
        "                  'loudness', 'valence', 'mode', 'key', 'speechiness', 'tempo', 'time_signature'],\n",
        "        bins=20)"
      ]
    },
    {
      "cell_type": "code",
      "execution_count": null,
      "metadata": {
        "colab": {
          "base_uri": "https://localhost:8080/",
          "height": 652
        },
        "id": "t602-hMlMSHi",
        "outputId": "2ddbf4a2-b541-4622-88a1-d8e15e6f8943"
      },
      "outputs": [
        {
          "data": {
            "text/html": [
              "\n",
              "  <div id=\"df-719b15bc-0116-4b27-802b-9ca582785931\">\n",
              "    <div class=\"colab-df-container\">\n",
              "      <div>\n",
              "<style scoped>\n",
              "    .dataframe tbody tr th:only-of-type {\n",
              "        vertical-align: middle;\n",
              "    }\n",
              "\n",
              "    .dataframe tbody tr th {\n",
              "        vertical-align: top;\n",
              "    }\n",
              "\n",
              "    .dataframe thead th {\n",
              "        text-align: right;\n",
              "    }\n",
              "</style>\n",
              "<table border=\"1\" class=\"dataframe\">\n",
              "  <thead>\n",
              "    <tr style=\"text-align: right;\">\n",
              "      <th></th>\n",
              "      <th>title</th>\n",
              "      <th>album</th>\n",
              "      <th>artist</th>\n",
              "      <th>release_date</th>\n",
              "      <th>length</th>\n",
              "      <th>popularity</th>\n",
              "      <th>acousticness</th>\n",
              "      <th>danceability</th>\n",
              "      <th>energy</th>\n",
              "      <th>instrumentalness</th>\n",
              "      <th>liveness</th>\n",
              "      <th>loudness</th>\n",
              "      <th>valence</th>\n",
              "      <th>mode</th>\n",
              "      <th>key</th>\n",
              "      <th>speechiness</th>\n",
              "      <th>tempo</th>\n",
              "      <th>time_signature</th>\n",
              "    </tr>\n",
              "  </thead>\n",
              "  <tbody>\n",
              "    <tr>\n",
              "      <th>674</th>\n",
              "      <td>Sugar Rush - From \"Wreck-It Ralph\"/Soundtrack ...</td>\n",
              "      <td>Wreck-It Ralph</td>\n",
              "      <td>Various Artists</td>\n",
              "      <td>2012-01-01</td>\n",
              "      <td>194826</td>\n",
              "      <td>46</td>\n",
              "      <td>0.000039</td>\n",
              "      <td>0.588</td>\n",
              "      <td>0.867</td>\n",
              "      <td>0.000027</td>\n",
              "      <td>0.0457</td>\n",
              "      <td>-3.533</td>\n",
              "      <td>0.790</td>\n",
              "      <td>0</td>\n",
              "      <td>11</td>\n",
              "      <td>0.0331</td>\n",
              "      <td>132.026</td>\n",
              "      <td>4</td>\n",
              "    </tr>\n",
              "    <tr>\n",
              "      <th>121</th>\n",
              "      <td>恋するフォーチュンクッキー</td>\n",
              "      <td>恋するフォーチュンクッキー &lt;Type-A&gt; 通常盤</td>\n",
              "      <td>AKB48</td>\n",
              "      <td>2013-08-21</td>\n",
              "      <td>284226</td>\n",
              "      <td>44</td>\n",
              "      <td>0.242000</td>\n",
              "      <td>0.685</td>\n",
              "      <td>0.885</td>\n",
              "      <td>0.000000</td>\n",
              "      <td>0.3230</td>\n",
              "      <td>-5.677</td>\n",
              "      <td>0.951</td>\n",
              "      <td>1</td>\n",
              "      <td>2</td>\n",
              "      <td>0.0395</td>\n",
              "      <td>122.010</td>\n",
              "      <td>4</td>\n",
              "    </tr>\n",
              "    <tr>\n",
              "      <th>51</th>\n",
              "      <td>フライングゲット</td>\n",
              "      <td>フライングゲット&lt;通常盤Type-A&gt;</td>\n",
              "      <td>AKB48</td>\n",
              "      <td>2011-08-24</td>\n",
              "      <td>253280</td>\n",
              "      <td>42</td>\n",
              "      <td>0.056500</td>\n",
              "      <td>0.515</td>\n",
              "      <td>0.948</td>\n",
              "      <td>0.000003</td>\n",
              "      <td>0.3700</td>\n",
              "      <td>-5.821</td>\n",
              "      <td>0.620</td>\n",
              "      <td>0</td>\n",
              "      <td>0</td>\n",
              "      <td>0.1210</td>\n",
              "      <td>131.055</td>\n",
              "      <td>4</td>\n",
              "    </tr>\n",
              "    <tr>\n",
              "      <th>6</th>\n",
              "      <td>大声ダイヤモンド</td>\n",
              "      <td>大声ダイヤモンド</td>\n",
              "      <td>AKB48</td>\n",
              "      <td>2008-10-22</td>\n",
              "      <td>246480</td>\n",
              "      <td>42</td>\n",
              "      <td>0.436000</td>\n",
              "      <td>0.418</td>\n",
              "      <td>0.958</td>\n",
              "      <td>0.000000</td>\n",
              "      <td>0.1540</td>\n",
              "      <td>-5.320</td>\n",
              "      <td>0.690</td>\n",
              "      <td>1</td>\n",
              "      <td>2</td>\n",
              "      <td>0.0615</td>\n",
              "      <td>174.119</td>\n",
              "      <td>4</td>\n",
              "    </tr>\n",
              "    <tr>\n",
              "      <th>23</th>\n",
              "      <td>ポニーテールとシュシュ</td>\n",
              "      <td>ポニーテールとシュシュ&lt;Type-A&gt;</td>\n",
              "      <td>AKB48</td>\n",
              "      <td>2010-05-26</td>\n",
              "      <td>269546</td>\n",
              "      <td>39</td>\n",
              "      <td>0.018700</td>\n",
              "      <td>0.416</td>\n",
              "      <td>0.923</td>\n",
              "      <td>0.000148</td>\n",
              "      <td>0.1360</td>\n",
              "      <td>-7.419</td>\n",
              "      <td>0.610</td>\n",
              "      <td>1</td>\n",
              "      <td>6</td>\n",
              "      <td>0.0787</td>\n",
              "      <td>160.028</td>\n",
              "      <td>4</td>\n",
              "    </tr>\n",
              "  </tbody>\n",
              "</table>\n",
              "</div>\n",
              "      <button class=\"colab-df-convert\" onclick=\"convertToInteractive('df-719b15bc-0116-4b27-802b-9ca582785931')\"\n",
              "              title=\"Convert this dataframe to an interactive table.\"\n",
              "              style=\"display:none;\">\n",
              "        \n",
              "  <svg xmlns=\"http://www.w3.org/2000/svg\" height=\"24px\"viewBox=\"0 0 24 24\"\n",
              "       width=\"24px\">\n",
              "    <path d=\"M0 0h24v24H0V0z\" fill=\"none\"/>\n",
              "    <path d=\"M18.56 5.44l.94 2.06.94-2.06 2.06-.94-2.06-.94-.94-2.06-.94 2.06-2.06.94zm-11 1L8.5 8.5l.94-2.06 2.06-.94-2.06-.94L8.5 2.5l-.94 2.06-2.06.94zm10 10l.94 2.06.94-2.06 2.06-.94-2.06-.94-.94-2.06-.94 2.06-2.06.94z\"/><path d=\"M17.41 7.96l-1.37-1.37c-.4-.4-.92-.59-1.43-.59-.52 0-1.04.2-1.43.59L10.3 9.45l-7.72 7.72c-.78.78-.78 2.05 0 2.83L4 21.41c.39.39.9.59 1.41.59.51 0 1.02-.2 1.41-.59l7.78-7.78 2.81-2.81c.8-.78.8-2.07 0-2.86zM5.41 20L4 18.59l7.72-7.72 1.47 1.35L5.41 20z\"/>\n",
              "  </svg>\n",
              "      </button>\n",
              "      \n",
              "  <style>\n",
              "    .colab-df-container {\n",
              "      display:flex;\n",
              "      flex-wrap:wrap;\n",
              "      gap: 12px;\n",
              "    }\n",
              "\n",
              "    .colab-df-convert {\n",
              "      background-color: #E8F0FE;\n",
              "      border: none;\n",
              "      border-radius: 50%;\n",
              "      cursor: pointer;\n",
              "      display: none;\n",
              "      fill: #1967D2;\n",
              "      height: 32px;\n",
              "      padding: 0 0 0 0;\n",
              "      width: 32px;\n",
              "    }\n",
              "\n",
              "    .colab-df-convert:hover {\n",
              "      background-color: #E2EBFA;\n",
              "      box-shadow: 0px 1px 2px rgba(60, 64, 67, 0.3), 0px 1px 3px 1px rgba(60, 64, 67, 0.15);\n",
              "      fill: #174EA6;\n",
              "    }\n",
              "\n",
              "    [theme=dark] .colab-df-convert {\n",
              "      background-color: #3B4455;\n",
              "      fill: #D2E3FC;\n",
              "    }\n",
              "\n",
              "    [theme=dark] .colab-df-convert:hover {\n",
              "      background-color: #434B5C;\n",
              "      box-shadow: 0px 1px 3px 1px rgba(0, 0, 0, 0.15);\n",
              "      filter: drop-shadow(0px 1px 2px rgba(0, 0, 0, 0.3));\n",
              "      fill: #FFFFFF;\n",
              "    }\n",
              "  </style>\n",
              "\n",
              "      <script>\n",
              "        const buttonEl =\n",
              "          document.querySelector('#df-719b15bc-0116-4b27-802b-9ca582785931 button.colab-df-convert');\n",
              "        buttonEl.style.display =\n",
              "          google.colab.kernel.accessAllowed ? 'block' : 'none';\n",
              "\n",
              "        async function convertToInteractive(key) {\n",
              "          const element = document.querySelector('#df-719b15bc-0116-4b27-802b-9ca582785931');\n",
              "          const dataTable =\n",
              "            await google.colab.kernel.invokeFunction('convertToInteractive',\n",
              "                                                     [key], {});\n",
              "          if (!dataTable) return;\n",
              "\n",
              "          const docLinkHtml = 'Like what you see? Visit the ' +\n",
              "            '<a target=\"_blank\" href=https://colab.research.google.com/notebooks/data_table.ipynb>data table notebook</a>'\n",
              "            + ' to learn more about interactive tables.';\n",
              "          element.innerHTML = '';\n",
              "          dataTable['output_type'] = 'display_data';\n",
              "          await google.colab.output.renderOutput(dataTable, element);\n",
              "          const docLink = document.createElement('div');\n",
              "          docLink.innerHTML = docLinkHtml;\n",
              "          element.appendChild(docLink);\n",
              "        }\n",
              "      </script>\n",
              "    </div>\n",
              "  </div>\n",
              "  "
            ],
            "text/plain": [
              "                                                 title  \\\n",
              "674  Sugar Rush - From \"Wreck-It Ralph\"/Soundtrack ...   \n",
              "121                                      恋するフォーチュンクッキー   \n",
              "51                                            フライングゲット   \n",
              "6                                             大声ダイヤモンド   \n",
              "23                                         ポニーテールとシュシュ   \n",
              "\n",
              "                          album           artist release_date  length  \\\n",
              "674              Wreck-It Ralph  Various Artists   2012-01-01  194826   \n",
              "121  恋するフォーチュンクッキー <Type-A> 通常盤            AKB48   2013-08-21  284226   \n",
              "51          フライングゲット<通常盤Type-A>            AKB48   2011-08-24  253280   \n",
              "6                      大声ダイヤモンド            AKB48   2008-10-22  246480   \n",
              "23          ポニーテールとシュシュ<Type-A>            AKB48   2010-05-26  269546   \n",
              "\n",
              "     popularity  acousticness  danceability  energy  instrumentalness  \\\n",
              "674          46      0.000039         0.588   0.867          0.000027   \n",
              "121          44      0.242000         0.685   0.885          0.000000   \n",
              "51           42      0.056500         0.515   0.948          0.000003   \n",
              "6            42      0.436000         0.418   0.958          0.000000   \n",
              "23           39      0.018700         0.416   0.923          0.000148   \n",
              "\n",
              "     liveness  loudness  valence  mode  key  speechiness    tempo  \\\n",
              "674    0.0457    -3.533    0.790     0   11       0.0331  132.026   \n",
              "121    0.3230    -5.677    0.951     1    2       0.0395  122.010   \n",
              "51     0.3700    -5.821    0.620     0    0       0.1210  131.055   \n",
              "6      0.1540    -5.320    0.690     1    2       0.0615  174.119   \n",
              "23     0.1360    -7.419    0.610     1    6       0.0787  160.028   \n",
              "\n",
              "     time_signature  \n",
              "674               4  \n",
              "121               4  \n",
              "51                4  \n",
              "6                 4  \n",
              "23                4  "
            ]
          },
          "execution_count": 15,
          "metadata": {},
          "output_type": "execute_result"
        }
      ],
      "source": [
        "sorted_df = df.sort_values('popularity', ascending = False)\n",
        "sorted_df.head()"
      ]
    },
    {
      "cell_type": "code",
      "execution_count": null,
      "metadata": {
        "colab": {
          "base_uri": "https://localhost:8080/",
          "height": 843
        },
        "id": "wMvFxMB9jbZj",
        "outputId": "aa732bad-871b-44ed-e72a-97c9cb27cc6a"
      },
      "outputs": [
        {
          "data": {
            "text/html": [
              "\n",
              "  <div id=\"df-48513603-275a-4d6a-b80e-16882f221b49\">\n",
              "    <div class=\"colab-df-container\">\n",
              "      <div>\n",
              "<style scoped>\n",
              "    .dataframe tbody tr th:only-of-type {\n",
              "        vertical-align: middle;\n",
              "    }\n",
              "\n",
              "    .dataframe tbody tr th {\n",
              "        vertical-align: top;\n",
              "    }\n",
              "\n",
              "    .dataframe thead th {\n",
              "        text-align: right;\n",
              "    }\n",
              "</style>\n",
              "<table border=\"1\" class=\"dataframe\">\n",
              "  <thead>\n",
              "    <tr style=\"text-align: right;\">\n",
              "      <th></th>\n",
              "      <th>title</th>\n",
              "      <th>album</th>\n",
              "      <th>artist</th>\n",
              "      <th>release_date</th>\n",
              "      <th>length</th>\n",
              "      <th>popularity</th>\n",
              "      <th>acousticness</th>\n",
              "      <th>danceability</th>\n",
              "      <th>energy</th>\n",
              "      <th>instrumentalness</th>\n",
              "      <th>liveness</th>\n",
              "      <th>loudness</th>\n",
              "      <th>valence</th>\n",
              "      <th>mode</th>\n",
              "      <th>key</th>\n",
              "      <th>speechiness</th>\n",
              "      <th>tempo</th>\n",
              "      <th>time_signature</th>\n",
              "    </tr>\n",
              "  </thead>\n",
              "  <tbody>\n",
              "    <tr>\n",
              "      <th>407</th>\n",
              "      <td>ボーイフレンドの作り方(TeamK)</td>\n",
              "      <td>AKB48 Team K 4th stage 「最終ベルが鳴る」 ~studio rec...</td>\n",
              "      <td>AKB48</td>\n",
              "      <td>2013-01-01</td>\n",
              "      <td>260693</td>\n",
              "      <td>9</td>\n",
              "      <td>0.0854</td>\n",
              "      <td>0.425</td>\n",
              "      <td>0.905</td>\n",
              "      <td>0.000000</td>\n",
              "      <td>0.3340</td>\n",
              "      <td>-3.805</td>\n",
              "      <td>0.770</td>\n",
              "      <td>1</td>\n",
              "      <td>10</td>\n",
              "      <td>0.0657</td>\n",
              "      <td>206.125</td>\n",
              "      <td>4</td>\n",
              "    </tr>\n",
              "    <tr>\n",
              "      <th>369</th>\n",
              "      <td>ロックだよ、人生は...(ひまわり組)</td>\n",
              "      <td>AKB48 ひまわり組 2nd stage 「夢を死なせるわけにいかない」 ~studio ...</td>\n",
              "      <td>AKB48</td>\n",
              "      <td>2013-01-01</td>\n",
              "      <td>249426</td>\n",
              "      <td>3</td>\n",
              "      <td>0.0177</td>\n",
              "      <td>0.428</td>\n",
              "      <td>0.892</td>\n",
              "      <td>0.000002</td>\n",
              "      <td>0.0798</td>\n",
              "      <td>-4.023</td>\n",
              "      <td>0.419</td>\n",
              "      <td>1</td>\n",
              "      <td>0</td>\n",
              "      <td>0.0977</td>\n",
              "      <td>199.966</td>\n",
              "      <td>4</td>\n",
              "    </tr>\n",
              "    <tr>\n",
              "      <th>636</th>\n",
              "      <td>雨の動物園(チームK Ver.)</td>\n",
              "      <td>Team K 2nd stage 「青春ガールズ」 〜studio recordings コ...</td>\n",
              "      <td>AKB48</td>\n",
              "      <td>2013-01-09</td>\n",
              "      <td>278200</td>\n",
              "      <td>6</td>\n",
              "      <td>0.1760</td>\n",
              "      <td>0.420</td>\n",
              "      <td>0.891</td>\n",
              "      <td>0.000463</td>\n",
              "      <td>0.1340</td>\n",
              "      <td>-3.611</td>\n",
              "      <td>0.904</td>\n",
              "      <td>1</td>\n",
              "      <td>2</td>\n",
              "      <td>0.0372</td>\n",
              "      <td>199.832</td>\n",
              "      <td>4</td>\n",
              "    </tr>\n",
              "    <tr>\n",
              "      <th>434</th>\n",
              "      <td>潮風の招待状(TeamB)</td>\n",
              "      <td>AKB48 Team B 5th stage 「シアターの女神」 ~studio recor...</td>\n",
              "      <td>AKB48</td>\n",
              "      <td>2013-01-01</td>\n",
              "      <td>239653</td>\n",
              "      <td>7</td>\n",
              "      <td>0.5670</td>\n",
              "      <td>0.410</td>\n",
              "      <td>0.642</td>\n",
              "      <td>0.000000</td>\n",
              "      <td>0.3690</td>\n",
              "      <td>-5.328</td>\n",
              "      <td>0.514</td>\n",
              "      <td>1</td>\n",
              "      <td>2</td>\n",
              "      <td>0.0390</td>\n",
              "      <td>199.802</td>\n",
              "      <td>4</td>\n",
              "    </tr>\n",
              "    <tr>\n",
              "      <th>614</th>\n",
              "      <td>恋のPLAN(チームA Ver.)</td>\n",
              "      <td>Team A 2nd stage 「会いたかった」 〜studio recordings コ...</td>\n",
              "      <td>AKB48</td>\n",
              "      <td>2013-01-09</td>\n",
              "      <td>249813</td>\n",
              "      <td>7</td>\n",
              "      <td>0.2590</td>\n",
              "      <td>0.393</td>\n",
              "      <td>0.886</td>\n",
              "      <td>0.000054</td>\n",
              "      <td>0.3300</td>\n",
              "      <td>-3.169</td>\n",
              "      <td>0.808</td>\n",
              "      <td>1</td>\n",
              "      <td>7</td>\n",
              "      <td>0.1200</td>\n",
              "      <td>199.769</td>\n",
              "      <td>4</td>\n",
              "    </tr>\n",
              "  </tbody>\n",
              "</table>\n",
              "</div>\n",
              "      <button class=\"colab-df-convert\" onclick=\"convertToInteractive('df-48513603-275a-4d6a-b80e-16882f221b49')\"\n",
              "              title=\"Convert this dataframe to an interactive table.\"\n",
              "              style=\"display:none;\">\n",
              "        \n",
              "  <svg xmlns=\"http://www.w3.org/2000/svg\" height=\"24px\"viewBox=\"0 0 24 24\"\n",
              "       width=\"24px\">\n",
              "    <path d=\"M0 0h24v24H0V0z\" fill=\"none\"/>\n",
              "    <path d=\"M18.56 5.44l.94 2.06.94-2.06 2.06-.94-2.06-.94-.94-2.06-.94 2.06-2.06.94zm-11 1L8.5 8.5l.94-2.06 2.06-.94-2.06-.94L8.5 2.5l-.94 2.06-2.06.94zm10 10l.94 2.06.94-2.06 2.06-.94-2.06-.94-.94-2.06-.94 2.06-2.06.94z\"/><path d=\"M17.41 7.96l-1.37-1.37c-.4-.4-.92-.59-1.43-.59-.52 0-1.04.2-1.43.59L10.3 9.45l-7.72 7.72c-.78.78-.78 2.05 0 2.83L4 21.41c.39.39.9.59 1.41.59.51 0 1.02-.2 1.41-.59l7.78-7.78 2.81-2.81c.8-.78.8-2.07 0-2.86zM5.41 20L4 18.59l7.72-7.72 1.47 1.35L5.41 20z\"/>\n",
              "  </svg>\n",
              "      </button>\n",
              "      \n",
              "  <style>\n",
              "    .colab-df-container {\n",
              "      display:flex;\n",
              "      flex-wrap:wrap;\n",
              "      gap: 12px;\n",
              "    }\n",
              "\n",
              "    .colab-df-convert {\n",
              "      background-color: #E8F0FE;\n",
              "      border: none;\n",
              "      border-radius: 50%;\n",
              "      cursor: pointer;\n",
              "      display: none;\n",
              "      fill: #1967D2;\n",
              "      height: 32px;\n",
              "      padding: 0 0 0 0;\n",
              "      width: 32px;\n",
              "    }\n",
              "\n",
              "    .colab-df-convert:hover {\n",
              "      background-color: #E2EBFA;\n",
              "      box-shadow: 0px 1px 2px rgba(60, 64, 67, 0.3), 0px 1px 3px 1px rgba(60, 64, 67, 0.15);\n",
              "      fill: #174EA6;\n",
              "    }\n",
              "\n",
              "    [theme=dark] .colab-df-convert {\n",
              "      background-color: #3B4455;\n",
              "      fill: #D2E3FC;\n",
              "    }\n",
              "\n",
              "    [theme=dark] .colab-df-convert:hover {\n",
              "      background-color: #434B5C;\n",
              "      box-shadow: 0px 1px 3px 1px rgba(0, 0, 0, 0.15);\n",
              "      filter: drop-shadow(0px 1px 2px rgba(0, 0, 0, 0.3));\n",
              "      fill: #FFFFFF;\n",
              "    }\n",
              "  </style>\n",
              "\n",
              "      <script>\n",
              "        const buttonEl =\n",
              "          document.querySelector('#df-48513603-275a-4d6a-b80e-16882f221b49 button.colab-df-convert');\n",
              "        buttonEl.style.display =\n",
              "          google.colab.kernel.accessAllowed ? 'block' : 'none';\n",
              "\n",
              "        async function convertToInteractive(key) {\n",
              "          const element = document.querySelector('#df-48513603-275a-4d6a-b80e-16882f221b49');\n",
              "          const dataTable =\n",
              "            await google.colab.kernel.invokeFunction('convertToInteractive',\n",
              "                                                     [key], {});\n",
              "          if (!dataTable) return;\n",
              "\n",
              "          const docLinkHtml = 'Like what you see? Visit the ' +\n",
              "            '<a target=\"_blank\" href=https://colab.research.google.com/notebooks/data_table.ipynb>data table notebook</a>'\n",
              "            + ' to learn more about interactive tables.';\n",
              "          element.innerHTML = '';\n",
              "          dataTable['output_type'] = 'display_data';\n",
              "          await google.colab.output.renderOutput(dataTable, element);\n",
              "          const docLink = document.createElement('div');\n",
              "          docLink.innerHTML = docLinkHtml;\n",
              "          element.appendChild(docLink);\n",
              "        }\n",
              "      </script>\n",
              "    </div>\n",
              "  </div>\n",
              "  "
            ],
            "text/plain": [
              "                    title                                              album  \\\n",
              "407    ボーイフレンドの作り方(TeamK)  AKB48 Team K 4th stage 「最終ベルが鳴る」 ~studio rec...   \n",
              "369  ロックだよ、人生は...(ひまわり組)  AKB48 ひまわり組 2nd stage 「夢を死なせるわけにいかない」 ~studio ...   \n",
              "636      雨の動物園(チームK Ver.)  Team K 2nd stage 「青春ガールズ」 〜studio recordings コ...   \n",
              "434         潮風の招待状(TeamB)  AKB48 Team B 5th stage 「シアターの女神」 ~studio recor...   \n",
              "614     恋のPLAN(チームA Ver.)  Team A 2nd stage 「会いたかった」 〜studio recordings コ...   \n",
              "\n",
              "    artist release_date  length  popularity  acousticness  danceability  \\\n",
              "407  AKB48   2013-01-01  260693           9        0.0854         0.425   \n",
              "369  AKB48   2013-01-01  249426           3        0.0177         0.428   \n",
              "636  AKB48   2013-01-09  278200           6        0.1760         0.420   \n",
              "434  AKB48   2013-01-01  239653           7        0.5670         0.410   \n",
              "614  AKB48   2013-01-09  249813           7        0.2590         0.393   \n",
              "\n",
              "     energy  instrumentalness  liveness  loudness  valence  mode  key  \\\n",
              "407   0.905          0.000000    0.3340    -3.805    0.770     1   10   \n",
              "369   0.892          0.000002    0.0798    -4.023    0.419     1    0   \n",
              "636   0.891          0.000463    0.1340    -3.611    0.904     1    2   \n",
              "434   0.642          0.000000    0.3690    -5.328    0.514     1    2   \n",
              "614   0.886          0.000054    0.3300    -3.169    0.808     1    7   \n",
              "\n",
              "     speechiness    tempo  time_signature  \n",
              "407       0.0657  206.125               4  \n",
              "369       0.0977  199.966               4  \n",
              "636       0.0372  199.832               4  \n",
              "434       0.0390  199.802               4  \n",
              "614       0.1200  199.769               4  "
            ]
          },
          "execution_count": 8,
          "metadata": {},
          "output_type": "execute_result"
        }
      ],
      "source": [
        "sorted_df = df.sort_values('tempo', ascending = False)\n",
        "sorted_df.head()"
      ]
    },
    {
      "cell_type": "code",
      "execution_count": null,
      "metadata": {
        "colab": {
          "base_uri": "https://localhost:8080/",
          "height": 965
        },
        "id": "Tevfn3khjcwE",
        "outputId": "94907355-4e12-4a39-db37-f4c13a28bda8"
      },
      "outputs": [
        {
          "data": {
            "text/html": [
              "\n",
              "  <div id=\"df-29449ddc-f0e0-46f5-bd56-bf9cf7c1c387\">\n",
              "    <div class=\"colab-df-container\">\n",
              "      <div>\n",
              "<style scoped>\n",
              "    .dataframe tbody tr th:only-of-type {\n",
              "        vertical-align: middle;\n",
              "    }\n",
              "\n",
              "    .dataframe tbody tr th {\n",
              "        vertical-align: top;\n",
              "    }\n",
              "\n",
              "    .dataframe thead th {\n",
              "        text-align: right;\n",
              "    }\n",
              "</style>\n",
              "<table border=\"1\" class=\"dataframe\">\n",
              "  <thead>\n",
              "    <tr style=\"text-align: right;\">\n",
              "      <th></th>\n",
              "      <th>title</th>\n",
              "      <th>album</th>\n",
              "      <th>artist</th>\n",
              "      <th>release_date</th>\n",
              "      <th>length</th>\n",
              "      <th>popularity</th>\n",
              "      <th>acousticness</th>\n",
              "      <th>danceability</th>\n",
              "      <th>energy</th>\n",
              "      <th>instrumentalness</th>\n",
              "      <th>liveness</th>\n",
              "      <th>loudness</th>\n",
              "      <th>valence</th>\n",
              "      <th>mode</th>\n",
              "      <th>key</th>\n",
              "      <th>speechiness</th>\n",
              "      <th>tempo</th>\n",
              "      <th>time_signature</th>\n",
              "    </tr>\n",
              "  </thead>\n",
              "  <tbody>\n",
              "    <tr>\n",
              "      <th>666</th>\n",
              "      <td>ダルイカンジ</td>\n",
              "      <td>Team A 4th stage 「ただいま恋愛中」 〜studio recordings ...</td>\n",
              "      <td>AKB48</td>\n",
              "      <td>2013-01-09</td>\n",
              "      <td>234400</td>\n",
              "      <td>9</td>\n",
              "      <td>0.0268</td>\n",
              "      <td>0.744</td>\n",
              "      <td>0.937</td>\n",
              "      <td>0.000408</td>\n",
              "      <td>0.0371</td>\n",
              "      <td>-3.304</td>\n",
              "      <td>0.970</td>\n",
              "      <td>0</td>\n",
              "      <td>9</td>\n",
              "      <td>0.0508</td>\n",
              "      <td>131.981</td>\n",
              "      <td>4</td>\n",
              "    </tr>\n",
              "    <tr>\n",
              "      <th>413</th>\n",
              "      <td>16人姉妹の歌(TeamK)</td>\n",
              "      <td>AKB48 Team K 4th stage 「最終ベルが鳴る」 ~studio rec...</td>\n",
              "      <td>AKB48</td>\n",
              "      <td>2013-01-01</td>\n",
              "      <td>223560</td>\n",
              "      <td>7</td>\n",
              "      <td>0.4990</td>\n",
              "      <td>0.660</td>\n",
              "      <td>0.846</td>\n",
              "      <td>0.000000</td>\n",
              "      <td>0.3980</td>\n",
              "      <td>-2.849</td>\n",
              "      <td>0.968</td>\n",
              "      <td>1</td>\n",
              "      <td>2</td>\n",
              "      <td>0.1700</td>\n",
              "      <td>134.850</td>\n",
              "      <td>4</td>\n",
              "    </tr>\n",
              "    <tr>\n",
              "      <th>366</th>\n",
              "      <td>青春の稲妻(ひまわり組)</td>\n",
              "      <td>AKB48 ひまわり組 2nd stage 「夢を死なせるわけにいかない」 ~studio ...</td>\n",
              "      <td>AKB48</td>\n",
              "      <td>2013-01-01</td>\n",
              "      <td>284026</td>\n",
              "      <td>3</td>\n",
              "      <td>0.3690</td>\n",
              "      <td>0.687</td>\n",
              "      <td>0.912</td>\n",
              "      <td>0.000006</td>\n",
              "      <td>0.0696</td>\n",
              "      <td>-4.682</td>\n",
              "      <td>0.964</td>\n",
              "      <td>0</td>\n",
              "      <td>3</td>\n",
              "      <td>0.0447</td>\n",
              "      <td>110.052</td>\n",
              "      <td>4</td>\n",
              "    </tr>\n",
              "    <tr>\n",
              "      <th>94</th>\n",
              "      <td>素敵な三角関係(チームサプライズ)</td>\n",
              "      <td>素敵な三角関係(チームサプライズ)</td>\n",
              "      <td>AKB48</td>\n",
              "      <td>2012-11-07</td>\n",
              "      <td>264093</td>\n",
              "      <td>9</td>\n",
              "      <td>0.7360</td>\n",
              "      <td>0.540</td>\n",
              "      <td>0.793</td>\n",
              "      <td>0.000000</td>\n",
              "      <td>0.2970</td>\n",
              "      <td>-1.571</td>\n",
              "      <td>0.963</td>\n",
              "      <td>0</td>\n",
              "      <td>7</td>\n",
              "      <td>0.0280</td>\n",
              "      <td>188.062</td>\n",
              "      <td>4</td>\n",
              "    </tr>\n",
              "    <tr>\n",
              "      <th>353</th>\n",
              "      <td>ぐ~ぐ~おなか(岩佐美咲、前田敦子、前田亜美、仁藤萌乃、藤江れいな、石田晴香、小森美果、...</td>\n",
              "      <td>1830m</td>\n",
              "      <td>AKB48</td>\n",
              "      <td>2012-08-15</td>\n",
              "      <td>243226</td>\n",
              "      <td>8</td>\n",
              "      <td>0.1620</td>\n",
              "      <td>0.751</td>\n",
              "      <td>0.597</td>\n",
              "      <td>0.000000</td>\n",
              "      <td>0.2060</td>\n",
              "      <td>-5.934</td>\n",
              "      <td>0.961</td>\n",
              "      <td>1</td>\n",
              "      <td>2</td>\n",
              "      <td>0.0275</td>\n",
              "      <td>105.004</td>\n",
              "      <td>4</td>\n",
              "    </tr>\n",
              "  </tbody>\n",
              "</table>\n",
              "</div>\n",
              "      <button class=\"colab-df-convert\" onclick=\"convertToInteractive('df-29449ddc-f0e0-46f5-bd56-bf9cf7c1c387')\"\n",
              "              title=\"Convert this dataframe to an interactive table.\"\n",
              "              style=\"display:none;\">\n",
              "        \n",
              "  <svg xmlns=\"http://www.w3.org/2000/svg\" height=\"24px\"viewBox=\"0 0 24 24\"\n",
              "       width=\"24px\">\n",
              "    <path d=\"M0 0h24v24H0V0z\" fill=\"none\"/>\n",
              "    <path d=\"M18.56 5.44l.94 2.06.94-2.06 2.06-.94-2.06-.94-.94-2.06-.94 2.06-2.06.94zm-11 1L8.5 8.5l.94-2.06 2.06-.94-2.06-.94L8.5 2.5l-.94 2.06-2.06.94zm10 10l.94 2.06.94-2.06 2.06-.94-2.06-.94-.94-2.06-.94 2.06-2.06.94z\"/><path d=\"M17.41 7.96l-1.37-1.37c-.4-.4-.92-.59-1.43-.59-.52 0-1.04.2-1.43.59L10.3 9.45l-7.72 7.72c-.78.78-.78 2.05 0 2.83L4 21.41c.39.39.9.59 1.41.59.51 0 1.02-.2 1.41-.59l7.78-7.78 2.81-2.81c.8-.78.8-2.07 0-2.86zM5.41 20L4 18.59l7.72-7.72 1.47 1.35L5.41 20z\"/>\n",
              "  </svg>\n",
              "      </button>\n",
              "      \n",
              "  <style>\n",
              "    .colab-df-container {\n",
              "      display:flex;\n",
              "      flex-wrap:wrap;\n",
              "      gap: 12px;\n",
              "    }\n",
              "\n",
              "    .colab-df-convert {\n",
              "      background-color: #E8F0FE;\n",
              "      border: none;\n",
              "      border-radius: 50%;\n",
              "      cursor: pointer;\n",
              "      display: none;\n",
              "      fill: #1967D2;\n",
              "      height: 32px;\n",
              "      padding: 0 0 0 0;\n",
              "      width: 32px;\n",
              "    }\n",
              "\n",
              "    .colab-df-convert:hover {\n",
              "      background-color: #E2EBFA;\n",
              "      box-shadow: 0px 1px 2px rgba(60, 64, 67, 0.3), 0px 1px 3px 1px rgba(60, 64, 67, 0.15);\n",
              "      fill: #174EA6;\n",
              "    }\n",
              "\n",
              "    [theme=dark] .colab-df-convert {\n",
              "      background-color: #3B4455;\n",
              "      fill: #D2E3FC;\n",
              "    }\n",
              "\n",
              "    [theme=dark] .colab-df-convert:hover {\n",
              "      background-color: #434B5C;\n",
              "      box-shadow: 0px 1px 3px 1px rgba(0, 0, 0, 0.15);\n",
              "      filter: drop-shadow(0px 1px 2px rgba(0, 0, 0, 0.3));\n",
              "      fill: #FFFFFF;\n",
              "    }\n",
              "  </style>\n",
              "\n",
              "      <script>\n",
              "        const buttonEl =\n",
              "          document.querySelector('#df-29449ddc-f0e0-46f5-bd56-bf9cf7c1c387 button.colab-df-convert');\n",
              "        buttonEl.style.display =\n",
              "          google.colab.kernel.accessAllowed ? 'block' : 'none';\n",
              "\n",
              "        async function convertToInteractive(key) {\n",
              "          const element = document.querySelector('#df-29449ddc-f0e0-46f5-bd56-bf9cf7c1c387');\n",
              "          const dataTable =\n",
              "            await google.colab.kernel.invokeFunction('convertToInteractive',\n",
              "                                                     [key], {});\n",
              "          if (!dataTable) return;\n",
              "\n",
              "          const docLinkHtml = 'Like what you see? Visit the ' +\n",
              "            '<a target=\"_blank\" href=https://colab.research.google.com/notebooks/data_table.ipynb>data table notebook</a>'\n",
              "            + ' to learn more about interactive tables.';\n",
              "          element.innerHTML = '';\n",
              "          dataTable['output_type'] = 'display_data';\n",
              "          await google.colab.output.renderOutput(dataTable, element);\n",
              "          const docLink = document.createElement('div');\n",
              "          docLink.innerHTML = docLinkHtml;\n",
              "          element.appendChild(docLink);\n",
              "        }\n",
              "      </script>\n",
              "    </div>\n",
              "  </div>\n",
              "  "
            ],
            "text/plain": [
              "                                                 title  \\\n",
              "666                                             ダルイカンジ   \n",
              "413                                     16人姉妹の歌(TeamK)   \n",
              "366                                       青春の稲妻(ひまわり組)   \n",
              "94                                   素敵な三角関係(チームサプライズ)   \n",
              "353  ぐ~ぐ~おなか(岩佐美咲、前田敦子、前田亜美、仁藤萌乃、藤江れいな、石田晴香、小森美果、...   \n",
              "\n",
              "                                                 album artist release_date  \\\n",
              "666  Team A 4th stage 「ただいま恋愛中」 〜studio recordings ...  AKB48   2013-01-09   \n",
              "413  AKB48 Team K 4th stage 「最終ベルが鳴る」 ~studio rec...  AKB48   2013-01-01   \n",
              "366  AKB48 ひまわり組 2nd stage 「夢を死なせるわけにいかない」 ~studio ...  AKB48   2013-01-01   \n",
              "94                                   素敵な三角関係(チームサプライズ)  AKB48   2012-11-07   \n",
              "353                                              1830m  AKB48   2012-08-15   \n",
              "\n",
              "     length  popularity  acousticness  danceability  energy  instrumentalness  \\\n",
              "666  234400           9        0.0268         0.744   0.937          0.000408   \n",
              "413  223560           7        0.4990         0.660   0.846          0.000000   \n",
              "366  284026           3        0.3690         0.687   0.912          0.000006   \n",
              "94   264093           9        0.7360         0.540   0.793          0.000000   \n",
              "353  243226           8        0.1620         0.751   0.597          0.000000   \n",
              "\n",
              "     liveness  loudness  valence  mode  key  speechiness    tempo  \\\n",
              "666    0.0371    -3.304    0.970     0    9       0.0508  131.981   \n",
              "413    0.3980    -2.849    0.968     1    2       0.1700  134.850   \n",
              "366    0.0696    -4.682    0.964     0    3       0.0447  110.052   \n",
              "94     0.2970    -1.571    0.963     0    7       0.0280  188.062   \n",
              "353    0.2060    -5.934    0.961     1    2       0.0275  105.004   \n",
              "\n",
              "     time_signature  \n",
              "666               4  \n",
              "413               4  \n",
              "366               4  \n",
              "94                4  \n",
              "353               4  "
            ]
          },
          "execution_count": 9,
          "metadata": {},
          "output_type": "execute_result"
        }
      ],
      "source": [
        "sorted_df = df.sort_values('valence', ascending = False)\n",
        "sorted_df.head()"
      ]
    },
    {
      "cell_type": "code",
      "execution_count": null,
      "metadata": {
        "colab": {
          "base_uri": "https://localhost:8080/",
          "height": 774
        },
        "id": "VpoZ0YJBdUvQ",
        "outputId": "c1ea3122-dccb-4828-d1fd-4df65354491e"
      },
      "outputs": [
        {
          "data": {
            "text/html": [
              "\n",
              "  <div id=\"df-4cdf2cd3-962f-44b5-b038-690fe78cec70\">\n",
              "    <div class=\"colab-df-container\">\n",
              "      <div>\n",
              "<style scoped>\n",
              "    .dataframe tbody tr th:only-of-type {\n",
              "        vertical-align: middle;\n",
              "    }\n",
              "\n",
              "    .dataframe tbody tr th {\n",
              "        vertical-align: top;\n",
              "    }\n",
              "\n",
              "    .dataframe thead th {\n",
              "        text-align: right;\n",
              "    }\n",
              "</style>\n",
              "<table border=\"1\" class=\"dataframe\">\n",
              "  <thead>\n",
              "    <tr style=\"text-align: right;\">\n",
              "      <th></th>\n",
              "      <th>title</th>\n",
              "      <th>album</th>\n",
              "      <th>artist</th>\n",
              "      <th>release_date</th>\n",
              "      <th>length</th>\n",
              "      <th>popularity</th>\n",
              "      <th>acousticness</th>\n",
              "      <th>danceability</th>\n",
              "      <th>energy</th>\n",
              "      <th>instrumentalness</th>\n",
              "      <th>liveness</th>\n",
              "      <th>loudness</th>\n",
              "      <th>valence</th>\n",
              "      <th>mode</th>\n",
              "      <th>key</th>\n",
              "      <th>speechiness</th>\n",
              "      <th>tempo</th>\n",
              "      <th>time_signature</th>\n",
              "    </tr>\n",
              "  </thead>\n",
              "  <tbody>\n",
              "    <tr>\n",
              "      <th>38</th>\n",
              "      <td>胡桃とダイアローグ(歌:team A)</td>\n",
              "      <td>チャンスの順番&lt;Type-A&gt;</td>\n",
              "      <td>AKB48</td>\n",
              "      <td>2010-12-08</td>\n",
              "      <td>197866</td>\n",
              "      <td>21</td>\n",
              "      <td>0.05600</td>\n",
              "      <td>0.846</td>\n",
              "      <td>0.725</td>\n",
              "      <td>0.000214</td>\n",
              "      <td>0.3080</td>\n",
              "      <td>-8.137</td>\n",
              "      <td>0.954</td>\n",
              "      <td>0</td>\n",
              "      <td>8</td>\n",
              "      <td>0.1340</td>\n",
              "      <td>136.030</td>\n",
              "      <td>4</td>\n",
              "    </tr>\n",
              "    <tr>\n",
              "      <th>178</th>\n",
              "      <td>履物と傘の物語</td>\n",
              "      <td>Green Flash 劇場盤</td>\n",
              "      <td>AKB48</td>\n",
              "      <td>2015-03-04</td>\n",
              "      <td>284480</td>\n",
              "      <td>3</td>\n",
              "      <td>0.91100</td>\n",
              "      <td>0.757</td>\n",
              "      <td>0.169</td>\n",
              "      <td>0.000000</td>\n",
              "      <td>0.0895</td>\n",
              "      <td>-9.569</td>\n",
              "      <td>0.378</td>\n",
              "      <td>1</td>\n",
              "      <td>1</td>\n",
              "      <td>0.0288</td>\n",
              "      <td>89.760</td>\n",
              "      <td>3</td>\n",
              "    </tr>\n",
              "    <tr>\n",
              "      <th>22</th>\n",
              "      <td>マジジョテッペンブルース</td>\n",
              "      <td>マジジョテッペンブルース</td>\n",
              "      <td>AKB48</td>\n",
              "      <td>2010-05-26</td>\n",
              "      <td>226173</td>\n",
              "      <td>25</td>\n",
              "      <td>0.00765</td>\n",
              "      <td>0.751</td>\n",
              "      <td>0.599</td>\n",
              "      <td>0.000021</td>\n",
              "      <td>0.3040</td>\n",
              "      <td>-8.572</td>\n",
              "      <td>0.910</td>\n",
              "      <td>0</td>\n",
              "      <td>11</td>\n",
              "      <td>0.0583</td>\n",
              "      <td>131.991</td>\n",
              "      <td>4</td>\n",
              "    </tr>\n",
              "    <tr>\n",
              "      <th>353</th>\n",
              "      <td>ぐ~ぐ~おなか(岩佐美咲、前田敦子、前田亜美、仁藤萌乃、藤江れいな、石田晴香、小森美果、...</td>\n",
              "      <td>1830m</td>\n",
              "      <td>AKB48</td>\n",
              "      <td>2012-08-15</td>\n",
              "      <td>243226</td>\n",
              "      <td>8</td>\n",
              "      <td>0.16200</td>\n",
              "      <td>0.751</td>\n",
              "      <td>0.597</td>\n",
              "      <td>0.000000</td>\n",
              "      <td>0.2060</td>\n",
              "      <td>-5.934</td>\n",
              "      <td>0.961</td>\n",
              "      <td>1</td>\n",
              "      <td>2</td>\n",
              "      <td>0.0275</td>\n",
              "      <td>105.004</td>\n",
              "      <td>4</td>\n",
              "    </tr>\n",
              "    <tr>\n",
              "      <th>182</th>\n",
              "      <td>履物と傘の物語</td>\n",
              "      <td>Green Flash Type N【初回限定盤】</td>\n",
              "      <td>AKB48</td>\n",
              "      <td>2015-03-04</td>\n",
              "      <td>284480</td>\n",
              "      <td>5</td>\n",
              "      <td>0.91200</td>\n",
              "      <td>0.747</td>\n",
              "      <td>0.169</td>\n",
              "      <td>0.000000</td>\n",
              "      <td>0.0916</td>\n",
              "      <td>-9.562</td>\n",
              "      <td>0.373</td>\n",
              "      <td>1</td>\n",
              "      <td>1</td>\n",
              "      <td>0.0291</td>\n",
              "      <td>89.762</td>\n",
              "      <td>3</td>\n",
              "    </tr>\n",
              "  </tbody>\n",
              "</table>\n",
              "</div>\n",
              "      <button class=\"colab-df-convert\" onclick=\"convertToInteractive('df-4cdf2cd3-962f-44b5-b038-690fe78cec70')\"\n",
              "              title=\"Convert this dataframe to an interactive table.\"\n",
              "              style=\"display:none;\">\n",
              "        \n",
              "  <svg xmlns=\"http://www.w3.org/2000/svg\" height=\"24px\"viewBox=\"0 0 24 24\"\n",
              "       width=\"24px\">\n",
              "    <path d=\"M0 0h24v24H0V0z\" fill=\"none\"/>\n",
              "    <path d=\"M18.56 5.44l.94 2.06.94-2.06 2.06-.94-2.06-.94-.94-2.06-.94 2.06-2.06.94zm-11 1L8.5 8.5l.94-2.06 2.06-.94-2.06-.94L8.5 2.5l-.94 2.06-2.06.94zm10 10l.94 2.06.94-2.06 2.06-.94-2.06-.94-.94-2.06-.94 2.06-2.06.94z\"/><path d=\"M17.41 7.96l-1.37-1.37c-.4-.4-.92-.59-1.43-.59-.52 0-1.04.2-1.43.59L10.3 9.45l-7.72 7.72c-.78.78-.78 2.05 0 2.83L4 21.41c.39.39.9.59 1.41.59.51 0 1.02-.2 1.41-.59l7.78-7.78 2.81-2.81c.8-.78.8-2.07 0-2.86zM5.41 20L4 18.59l7.72-7.72 1.47 1.35L5.41 20z\"/>\n",
              "  </svg>\n",
              "      </button>\n",
              "      \n",
              "  <style>\n",
              "    .colab-df-container {\n",
              "      display:flex;\n",
              "      flex-wrap:wrap;\n",
              "      gap: 12px;\n",
              "    }\n",
              "\n",
              "    .colab-df-convert {\n",
              "      background-color: #E8F0FE;\n",
              "      border: none;\n",
              "      border-radius: 50%;\n",
              "      cursor: pointer;\n",
              "      display: none;\n",
              "      fill: #1967D2;\n",
              "      height: 32px;\n",
              "      padding: 0 0 0 0;\n",
              "      width: 32px;\n",
              "    }\n",
              "\n",
              "    .colab-df-convert:hover {\n",
              "      background-color: #E2EBFA;\n",
              "      box-shadow: 0px 1px 2px rgba(60, 64, 67, 0.3), 0px 1px 3px 1px rgba(60, 64, 67, 0.15);\n",
              "      fill: #174EA6;\n",
              "    }\n",
              "\n",
              "    [theme=dark] .colab-df-convert {\n",
              "      background-color: #3B4455;\n",
              "      fill: #D2E3FC;\n",
              "    }\n",
              "\n",
              "    [theme=dark] .colab-df-convert:hover {\n",
              "      background-color: #434B5C;\n",
              "      box-shadow: 0px 1px 3px 1px rgba(0, 0, 0, 0.15);\n",
              "      filter: drop-shadow(0px 1px 2px rgba(0, 0, 0, 0.3));\n",
              "      fill: #FFFFFF;\n",
              "    }\n",
              "  </style>\n",
              "\n",
              "      <script>\n",
              "        const buttonEl =\n",
              "          document.querySelector('#df-4cdf2cd3-962f-44b5-b038-690fe78cec70 button.colab-df-convert');\n",
              "        buttonEl.style.display =\n",
              "          google.colab.kernel.accessAllowed ? 'block' : 'none';\n",
              "\n",
              "        async function convertToInteractive(key) {\n",
              "          const element = document.querySelector('#df-4cdf2cd3-962f-44b5-b038-690fe78cec70');\n",
              "          const dataTable =\n",
              "            await google.colab.kernel.invokeFunction('convertToInteractive',\n",
              "                                                     [key], {});\n",
              "          if (!dataTable) return;\n",
              "\n",
              "          const docLinkHtml = 'Like what you see? Visit the ' +\n",
              "            '<a target=\"_blank\" href=https://colab.research.google.com/notebooks/data_table.ipynb>data table notebook</a>'\n",
              "            + ' to learn more about interactive tables.';\n",
              "          element.innerHTML = '';\n",
              "          dataTable['output_type'] = 'display_data';\n",
              "          await google.colab.output.renderOutput(dataTable, element);\n",
              "          const docLink = document.createElement('div');\n",
              "          docLink.innerHTML = docLinkHtml;\n",
              "          element.appendChild(docLink);\n",
              "        }\n",
              "      </script>\n",
              "    </div>\n",
              "  </div>\n",
              "  "
            ],
            "text/plain": [
              "                                                 title  \\\n",
              "38                                 胡桃とダイアローグ(歌:team A)   \n",
              "178                                            履物と傘の物語   \n",
              "22                                        マジジョテッペンブルース   \n",
              "353  ぐ~ぐ~おなか(岩佐美咲、前田敦子、前田亜美、仁藤萌乃、藤江れいな、石田晴香、小森美果、...   \n",
              "182                                            履物と傘の物語   \n",
              "\n",
              "                         album artist release_date  length  popularity  \\\n",
              "38             チャンスの順番<Type-A>  AKB48   2010-12-08  197866          21   \n",
              "178            Green Flash 劇場盤  AKB48   2015-03-04  284480           3   \n",
              "22                マジジョテッペンブルース  AKB48   2010-05-26  226173          25   \n",
              "353                      1830m  AKB48   2012-08-15  243226           8   \n",
              "182  Green Flash Type N【初回限定盤】  AKB48   2015-03-04  284480           5   \n",
              "\n",
              "     acousticness  danceability  energy  instrumentalness  liveness  loudness  \\\n",
              "38        0.05600         0.846   0.725          0.000214    0.3080    -8.137   \n",
              "178       0.91100         0.757   0.169          0.000000    0.0895    -9.569   \n",
              "22        0.00765         0.751   0.599          0.000021    0.3040    -8.572   \n",
              "353       0.16200         0.751   0.597          0.000000    0.2060    -5.934   \n",
              "182       0.91200         0.747   0.169          0.000000    0.0916    -9.562   \n",
              "\n",
              "     valence  mode  key  speechiness    tempo  time_signature  \n",
              "38     0.954     0    8       0.1340  136.030               4  \n",
              "178    0.378     1    1       0.0288   89.760               3  \n",
              "22     0.910     0   11       0.0583  131.991               4  \n",
              "353    0.961     1    2       0.0275  105.004               4  \n",
              "182    0.373     1    1       0.0291   89.762               3  "
            ]
          },
          "execution_count": 10,
          "metadata": {},
          "output_type": "execute_result"
        }
      ],
      "source": [
        "sorted_df = df.sort_values('danceability', ascending = False)\n",
        "sorted_df.head()"
      ]
    },
    {
      "cell_type": "code",
      "execution_count": null,
      "metadata": {
        "colab": {
          "base_uri": "https://localhost:8080/",
          "height": 739
        },
        "id": "7NZyLu9Edc2F",
        "outputId": "07449ff3-c9d3-41c3-ea85-d868ee4f8332"
      },
      "outputs": [
        {
          "data": {
            "text/html": [
              "\n",
              "  <div id=\"df-05a3b67e-49b5-4c3a-8472-1519de04d011\">\n",
              "    <div class=\"colab-df-container\">\n",
              "      <div>\n",
              "<style scoped>\n",
              "    .dataframe tbody tr th:only-of-type {\n",
              "        vertical-align: middle;\n",
              "    }\n",
              "\n",
              "    .dataframe tbody tr th {\n",
              "        vertical-align: top;\n",
              "    }\n",
              "\n",
              "    .dataframe thead th {\n",
              "        text-align: right;\n",
              "    }\n",
              "</style>\n",
              "<table border=\"1\" class=\"dataframe\">\n",
              "  <thead>\n",
              "    <tr style=\"text-align: right;\">\n",
              "      <th></th>\n",
              "      <th>title</th>\n",
              "      <th>album</th>\n",
              "      <th>artist</th>\n",
              "      <th>release_date</th>\n",
              "      <th>length</th>\n",
              "      <th>popularity</th>\n",
              "      <th>acousticness</th>\n",
              "      <th>danceability</th>\n",
              "      <th>energy</th>\n",
              "      <th>instrumentalness</th>\n",
              "      <th>liveness</th>\n",
              "      <th>loudness</th>\n",
              "      <th>valence</th>\n",
              "      <th>mode</th>\n",
              "      <th>key</th>\n",
              "      <th>speechiness</th>\n",
              "      <th>tempo</th>\n",
              "      <th>time_signature</th>\n",
              "    </tr>\n",
              "  </thead>\n",
              "  <tbody>\n",
              "    <tr>\n",
              "      <th>431</th>\n",
              "      <td>100メートルコンビニ(TeamB)</td>\n",
              "      <td>AKB48 Team B 5th stage 「シアターの女神」 ~studio recor...</td>\n",
              "      <td>AKB48</td>\n",
              "      <td>2013-01-01</td>\n",
              "      <td>234333</td>\n",
              "      <td>10</td>\n",
              "      <td>0.1220</td>\n",
              "      <td>0.582</td>\n",
              "      <td>0.998</td>\n",
              "      <td>0.000021</td>\n",
              "      <td>0.508</td>\n",
              "      <td>-3.177</td>\n",
              "      <td>0.835</td>\n",
              "      <td>0</td>\n",
              "      <td>5</td>\n",
              "      <td>0.0736</td>\n",
              "      <td>146.015</td>\n",
              "      <td>4</td>\n",
              "    </tr>\n",
              "    <tr>\n",
              "      <th>447</th>\n",
              "      <td>女子高生はやめられない(TeamB)</td>\n",
              "      <td>AKB48 Team B 4th stage 「アイドルの夜明け」 ~studio rec...</td>\n",
              "      <td>AKB48</td>\n",
              "      <td>2013-01-01</td>\n",
              "      <td>264133</td>\n",
              "      <td>6</td>\n",
              "      <td>0.1070</td>\n",
              "      <td>0.596</td>\n",
              "      <td>0.997</td>\n",
              "      <td>0.000725</td>\n",
              "      <td>0.262</td>\n",
              "      <td>-3.612</td>\n",
              "      <td>0.765</td>\n",
              "      <td>1</td>\n",
              "      <td>0</td>\n",
              "      <td>0.0481</td>\n",
              "      <td>136.039</td>\n",
              "      <td>4</td>\n",
              "    </tr>\n",
              "    <tr>\n",
              "      <th>74</th>\n",
              "      <td>君のために僕は…</td>\n",
              "      <td>君のために僕は…</td>\n",
              "      <td>AKB48</td>\n",
              "      <td>2012-05-23</td>\n",
              "      <td>302360</td>\n",
              "      <td>6</td>\n",
              "      <td>0.1330</td>\n",
              "      <td>0.461</td>\n",
              "      <td>0.996</td>\n",
              "      <td>0.028500</td>\n",
              "      <td>0.503</td>\n",
              "      <td>-5.661</td>\n",
              "      <td>0.169</td>\n",
              "      <td>0</td>\n",
              "      <td>2</td>\n",
              "      <td>0.1210</td>\n",
              "      <td>136.003</td>\n",
              "      <td>4</td>\n",
              "    </tr>\n",
              "    <tr>\n",
              "      <th>564</th>\n",
              "      <td>ミュージックジャンキー(Team B)</td>\n",
              "      <td>0と1の間【Million Singles】</td>\n",
              "      <td>AKB48</td>\n",
              "      <td>2015-11-18</td>\n",
              "      <td>229280</td>\n",
              "      <td>3</td>\n",
              "      <td>0.0624</td>\n",
              "      <td>0.502</td>\n",
              "      <td>0.996</td>\n",
              "      <td>0.000000</td>\n",
              "      <td>0.336</td>\n",
              "      <td>-2.840</td>\n",
              "      <td>0.248</td>\n",
              "      <td>0</td>\n",
              "      <td>9</td>\n",
              "      <td>0.1580</td>\n",
              "      <td>149.945</td>\n",
              "      <td>4</td>\n",
              "    </tr>\n",
              "    <tr>\n",
              "      <th>598</th>\n",
              "      <td>誕生日の夜(チームA Ver.)</td>\n",
              "      <td>Team A 3rd stage 「誰かのために」 〜studio recordings コ...</td>\n",
              "      <td>AKB48</td>\n",
              "      <td>2013-01-09</td>\n",
              "      <td>293906</td>\n",
              "      <td>5</td>\n",
              "      <td>0.0124</td>\n",
              "      <td>0.617</td>\n",
              "      <td>0.996</td>\n",
              "      <td>0.000656</td>\n",
              "      <td>0.186</td>\n",
              "      <td>-2.859</td>\n",
              "      <td>0.390</td>\n",
              "      <td>0</td>\n",
              "      <td>11</td>\n",
              "      <td>0.1610</td>\n",
              "      <td>128.033</td>\n",
              "      <td>4</td>\n",
              "    </tr>\n",
              "  </tbody>\n",
              "</table>\n",
              "</div>\n",
              "      <button class=\"colab-df-convert\" onclick=\"convertToInteractive('df-05a3b67e-49b5-4c3a-8472-1519de04d011')\"\n",
              "              title=\"Convert this dataframe to an interactive table.\"\n",
              "              style=\"display:none;\">\n",
              "        \n",
              "  <svg xmlns=\"http://www.w3.org/2000/svg\" height=\"24px\"viewBox=\"0 0 24 24\"\n",
              "       width=\"24px\">\n",
              "    <path d=\"M0 0h24v24H0V0z\" fill=\"none\"/>\n",
              "    <path d=\"M18.56 5.44l.94 2.06.94-2.06 2.06-.94-2.06-.94-.94-2.06-.94 2.06-2.06.94zm-11 1L8.5 8.5l.94-2.06 2.06-.94-2.06-.94L8.5 2.5l-.94 2.06-2.06.94zm10 10l.94 2.06.94-2.06 2.06-.94-2.06-.94-.94-2.06-.94 2.06-2.06.94z\"/><path d=\"M17.41 7.96l-1.37-1.37c-.4-.4-.92-.59-1.43-.59-.52 0-1.04.2-1.43.59L10.3 9.45l-7.72 7.72c-.78.78-.78 2.05 0 2.83L4 21.41c.39.39.9.59 1.41.59.51 0 1.02-.2 1.41-.59l7.78-7.78 2.81-2.81c.8-.78.8-2.07 0-2.86zM5.41 20L4 18.59l7.72-7.72 1.47 1.35L5.41 20z\"/>\n",
              "  </svg>\n",
              "      </button>\n",
              "      \n",
              "  <style>\n",
              "    .colab-df-container {\n",
              "      display:flex;\n",
              "      flex-wrap:wrap;\n",
              "      gap: 12px;\n",
              "    }\n",
              "\n",
              "    .colab-df-convert {\n",
              "      background-color: #E8F0FE;\n",
              "      border: none;\n",
              "      border-radius: 50%;\n",
              "      cursor: pointer;\n",
              "      display: none;\n",
              "      fill: #1967D2;\n",
              "      height: 32px;\n",
              "      padding: 0 0 0 0;\n",
              "      width: 32px;\n",
              "    }\n",
              "\n",
              "    .colab-df-convert:hover {\n",
              "      background-color: #E2EBFA;\n",
              "      box-shadow: 0px 1px 2px rgba(60, 64, 67, 0.3), 0px 1px 3px 1px rgba(60, 64, 67, 0.15);\n",
              "      fill: #174EA6;\n",
              "    }\n",
              "\n",
              "    [theme=dark] .colab-df-convert {\n",
              "      background-color: #3B4455;\n",
              "      fill: #D2E3FC;\n",
              "    }\n",
              "\n",
              "    [theme=dark] .colab-df-convert:hover {\n",
              "      background-color: #434B5C;\n",
              "      box-shadow: 0px 1px 3px 1px rgba(0, 0, 0, 0.15);\n",
              "      filter: drop-shadow(0px 1px 2px rgba(0, 0, 0, 0.3));\n",
              "      fill: #FFFFFF;\n",
              "    }\n",
              "  </style>\n",
              "\n",
              "      <script>\n",
              "        const buttonEl =\n",
              "          document.querySelector('#df-05a3b67e-49b5-4c3a-8472-1519de04d011 button.colab-df-convert');\n",
              "        buttonEl.style.display =\n",
              "          google.colab.kernel.accessAllowed ? 'block' : 'none';\n",
              "\n",
              "        async function convertToInteractive(key) {\n",
              "          const element = document.querySelector('#df-05a3b67e-49b5-4c3a-8472-1519de04d011');\n",
              "          const dataTable =\n",
              "            await google.colab.kernel.invokeFunction('convertToInteractive',\n",
              "                                                     [key], {});\n",
              "          if (!dataTable) return;\n",
              "\n",
              "          const docLinkHtml = 'Like what you see? Visit the ' +\n",
              "            '<a target=\"_blank\" href=https://colab.research.google.com/notebooks/data_table.ipynb>data table notebook</a>'\n",
              "            + ' to learn more about interactive tables.';\n",
              "          element.innerHTML = '';\n",
              "          dataTable['output_type'] = 'display_data';\n",
              "          await google.colab.output.renderOutput(dataTable, element);\n",
              "          const docLink = document.createElement('div');\n",
              "          docLink.innerHTML = docLinkHtml;\n",
              "          element.appendChild(docLink);\n",
              "        }\n",
              "      </script>\n",
              "    </div>\n",
              "  </div>\n",
              "  "
            ],
            "text/plain": [
              "                   title                                              album  \\\n",
              "431   100メートルコンビニ(TeamB)  AKB48 Team B 5th stage 「シアターの女神」 ~studio recor...   \n",
              "447   女子高生はやめられない(TeamB)  AKB48 Team B 4th stage 「アイドルの夜明け」 ~studio rec...   \n",
              "74              君のために僕は…                                           君のために僕は…   \n",
              "564  ミュージックジャンキー(Team B)                             0と1の間【Million Singles】   \n",
              "598     誕生日の夜(チームA Ver.)  Team A 3rd stage 「誰かのために」 〜studio recordings コ...   \n",
              "\n",
              "    artist release_date  length  popularity  acousticness  danceability  \\\n",
              "431  AKB48   2013-01-01  234333          10        0.1220         0.582   \n",
              "447  AKB48   2013-01-01  264133           6        0.1070         0.596   \n",
              "74   AKB48   2012-05-23  302360           6        0.1330         0.461   \n",
              "564  AKB48   2015-11-18  229280           3        0.0624         0.502   \n",
              "598  AKB48   2013-01-09  293906           5        0.0124         0.617   \n",
              "\n",
              "     energy  instrumentalness  liveness  loudness  valence  mode  key  \\\n",
              "431   0.998          0.000021     0.508    -3.177    0.835     0    5   \n",
              "447   0.997          0.000725     0.262    -3.612    0.765     1    0   \n",
              "74    0.996          0.028500     0.503    -5.661    0.169     0    2   \n",
              "564   0.996          0.000000     0.336    -2.840    0.248     0    9   \n",
              "598   0.996          0.000656     0.186    -2.859    0.390     0   11   \n",
              "\n",
              "     speechiness    tempo  time_signature  \n",
              "431       0.0736  146.015               4  \n",
              "447       0.0481  136.039               4  \n",
              "74        0.1210  136.003               4  \n",
              "564       0.1580  149.945               4  \n",
              "598       0.1610  128.033               4  "
            ]
          },
          "execution_count": 11,
          "metadata": {},
          "output_type": "execute_result"
        }
      ],
      "source": [
        "sorted_df = df.sort_values('energy', ascending = False)\n",
        "sorted_df.head()"
      ]
    },
    {
      "cell_type": "code",
      "execution_count": null,
      "metadata": {
        "colab": {
          "base_uri": "https://localhost:8080/",
          "height": 791
        },
        "id": "o6B4gHORHYvD",
        "outputId": "1a25bc6d-2b10-4777-f724-ff3b3884c090"
      },
      "outputs": [
        {
          "data": {
            "text/html": [
              "\n",
              "  <div id=\"df-df11f8a8-078e-42cc-9692-fce043cbe160\">\n",
              "    <div class=\"colab-df-container\">\n",
              "      <div>\n",
              "<style scoped>\n",
              "    .dataframe tbody tr th:only-of-type {\n",
              "        vertical-align: middle;\n",
              "    }\n",
              "\n",
              "    .dataframe tbody tr th {\n",
              "        vertical-align: top;\n",
              "    }\n",
              "\n",
              "    .dataframe thead th {\n",
              "        text-align: right;\n",
              "    }\n",
              "</style>\n",
              "<table border=\"1\" class=\"dataframe\">\n",
              "  <thead>\n",
              "    <tr style=\"text-align: right;\">\n",
              "      <th></th>\n",
              "      <th>title</th>\n",
              "      <th>album</th>\n",
              "      <th>artist</th>\n",
              "      <th>release_date</th>\n",
              "      <th>length</th>\n",
              "      <th>popularity</th>\n",
              "      <th>acousticness</th>\n",
              "      <th>danceability</th>\n",
              "      <th>energy</th>\n",
              "      <th>instrumentalness</th>\n",
              "      <th>liveness</th>\n",
              "      <th>loudness</th>\n",
              "      <th>valence</th>\n",
              "      <th>mode</th>\n",
              "      <th>key</th>\n",
              "      <th>speechiness</th>\n",
              "      <th>tempo</th>\n",
              "      <th>time_signature</th>\n",
              "    </tr>\n",
              "  </thead>\n",
              "  <tbody>\n",
              "    <tr>\n",
              "      <th>343</th>\n",
              "      <td>思い出のほとんど(高橋みなみ、前田敦子)</td>\n",
              "      <td>1830m</td>\n",
              "      <td>AKB48</td>\n",
              "      <td>2012-08-15</td>\n",
              "      <td>404653</td>\n",
              "      <td>22</td>\n",
              "      <td>0.7910</td>\n",
              "      <td>0.506</td>\n",
              "      <td>0.407</td>\n",
              "      <td>0.000000</td>\n",
              "      <td>0.128</td>\n",
              "      <td>-6.303</td>\n",
              "      <td>0.136</td>\n",
              "      <td>1</td>\n",
              "      <td>8</td>\n",
              "      <td>0.0258</td>\n",
              "      <td>145.797</td>\n",
              "      <td>4</td>\n",
              "    </tr>\n",
              "    <tr>\n",
              "      <th>193</th>\n",
              "      <td>出逢いの日、別れの日(ゲンソー&amp;ジキソー)</td>\n",
              "      <td>僕たちは戦わない【劇場盤】</td>\n",
              "      <td>AKB48</td>\n",
              "      <td>2015-05-20</td>\n",
              "      <td>387213</td>\n",
              "      <td>6</td>\n",
              "      <td>0.6030</td>\n",
              "      <td>0.602</td>\n",
              "      <td>0.842</td>\n",
              "      <td>0.000000</td>\n",
              "      <td>0.140</td>\n",
              "      <td>-3.251</td>\n",
              "      <td>0.493</td>\n",
              "      <td>1</td>\n",
              "      <td>0</td>\n",
              "      <td>0.0263</td>\n",
              "      <td>99.015</td>\n",
              "      <td>4</td>\n",
              "    </tr>\n",
              "    <tr>\n",
              "      <th>107</th>\n",
              "      <td>So long !</td>\n",
              "      <td>So long !&lt;TYPE-A&gt;初回限定盤</td>\n",
              "      <td>AKB48</td>\n",
              "      <td>2013-02-20</td>\n",
              "      <td>364426</td>\n",
              "      <td>18</td>\n",
              "      <td>0.6060</td>\n",
              "      <td>0.437</td>\n",
              "      <td>0.730</td>\n",
              "      <td>0.000003</td>\n",
              "      <td>0.157</td>\n",
              "      <td>-2.917</td>\n",
              "      <td>0.563</td>\n",
              "      <td>1</td>\n",
              "      <td>10</td>\n",
              "      <td>0.0309</td>\n",
              "      <td>184.121</td>\n",
              "      <td>4</td>\n",
              "    </tr>\n",
              "    <tr>\n",
              "      <th>487</th>\n",
              "      <td>長い光(TeamA)</td>\n",
              "      <td>AKB48 Team A 5th stage 「恋愛禁止条例」 ~studio record...</td>\n",
              "      <td>AKB48</td>\n",
              "      <td>2013-01-01</td>\n",
              "      <td>362546</td>\n",
              "      <td>13</td>\n",
              "      <td>0.0481</td>\n",
              "      <td>0.537</td>\n",
              "      <td>0.911</td>\n",
              "      <td>0.000001</td>\n",
              "      <td>0.146</td>\n",
              "      <td>-3.646</td>\n",
              "      <td>0.382</td>\n",
              "      <td>0</td>\n",
              "      <td>5</td>\n",
              "      <td>0.0683</td>\n",
              "      <td>139.915</td>\n",
              "      <td>4</td>\n",
              "    </tr>\n",
              "    <tr>\n",
              "      <th>556</th>\n",
              "      <td>7回目の「レミゼ」(小嶋陽菜)</td>\n",
              "      <td>ここがロドスだ、ここで跳べ!&lt;Type A&gt;【初回限定盤】</td>\n",
              "      <td>AKB48</td>\n",
              "      <td>2015-01-21</td>\n",
              "      <td>361639</td>\n",
              "      <td>4</td>\n",
              "      <td>0.7030</td>\n",
              "      <td>0.623</td>\n",
              "      <td>0.886</td>\n",
              "      <td>0.000000</td>\n",
              "      <td>0.316</td>\n",
              "      <td>-3.100</td>\n",
              "      <td>0.790</td>\n",
              "      <td>1</td>\n",
              "      <td>0</td>\n",
              "      <td>0.0330</td>\n",
              "      <td>106.021</td>\n",
              "      <td>4</td>\n",
              "    </tr>\n",
              "  </tbody>\n",
              "</table>\n",
              "</div>\n",
              "      <button class=\"colab-df-convert\" onclick=\"convertToInteractive('df-df11f8a8-078e-42cc-9692-fce043cbe160')\"\n",
              "              title=\"Convert this dataframe to an interactive table.\"\n",
              "              style=\"display:none;\">\n",
              "        \n",
              "  <svg xmlns=\"http://www.w3.org/2000/svg\" height=\"24px\"viewBox=\"0 0 24 24\"\n",
              "       width=\"24px\">\n",
              "    <path d=\"M0 0h24v24H0V0z\" fill=\"none\"/>\n",
              "    <path d=\"M18.56 5.44l.94 2.06.94-2.06 2.06-.94-2.06-.94-.94-2.06-.94 2.06-2.06.94zm-11 1L8.5 8.5l.94-2.06 2.06-.94-2.06-.94L8.5 2.5l-.94 2.06-2.06.94zm10 10l.94 2.06.94-2.06 2.06-.94-2.06-.94-.94-2.06-.94 2.06-2.06.94z\"/><path d=\"M17.41 7.96l-1.37-1.37c-.4-.4-.92-.59-1.43-.59-.52 0-1.04.2-1.43.59L10.3 9.45l-7.72 7.72c-.78.78-.78 2.05 0 2.83L4 21.41c.39.39.9.59 1.41.59.51 0 1.02-.2 1.41-.59l7.78-7.78 2.81-2.81c.8-.78.8-2.07 0-2.86zM5.41 20L4 18.59l7.72-7.72 1.47 1.35L5.41 20z\"/>\n",
              "  </svg>\n",
              "      </button>\n",
              "      \n",
              "  <style>\n",
              "    .colab-df-container {\n",
              "      display:flex;\n",
              "      flex-wrap:wrap;\n",
              "      gap: 12px;\n",
              "    }\n",
              "\n",
              "    .colab-df-convert {\n",
              "      background-color: #E8F0FE;\n",
              "      border: none;\n",
              "      border-radius: 50%;\n",
              "      cursor: pointer;\n",
              "      display: none;\n",
              "      fill: #1967D2;\n",
              "      height: 32px;\n",
              "      padding: 0 0 0 0;\n",
              "      width: 32px;\n",
              "    }\n",
              "\n",
              "    .colab-df-convert:hover {\n",
              "      background-color: #E2EBFA;\n",
              "      box-shadow: 0px 1px 2px rgba(60, 64, 67, 0.3), 0px 1px 3px 1px rgba(60, 64, 67, 0.15);\n",
              "      fill: #174EA6;\n",
              "    }\n",
              "\n",
              "    [theme=dark] .colab-df-convert {\n",
              "      background-color: #3B4455;\n",
              "      fill: #D2E3FC;\n",
              "    }\n",
              "\n",
              "    [theme=dark] .colab-df-convert:hover {\n",
              "      background-color: #434B5C;\n",
              "      box-shadow: 0px 1px 3px 1px rgba(0, 0, 0, 0.15);\n",
              "      filter: drop-shadow(0px 1px 2px rgba(0, 0, 0, 0.3));\n",
              "      fill: #FFFFFF;\n",
              "    }\n",
              "  </style>\n",
              "\n",
              "      <script>\n",
              "        const buttonEl =\n",
              "          document.querySelector('#df-df11f8a8-078e-42cc-9692-fce043cbe160 button.colab-df-convert');\n",
              "        buttonEl.style.display =\n",
              "          google.colab.kernel.accessAllowed ? 'block' : 'none';\n",
              "\n",
              "        async function convertToInteractive(key) {\n",
              "          const element = document.querySelector('#df-df11f8a8-078e-42cc-9692-fce043cbe160');\n",
              "          const dataTable =\n",
              "            await google.colab.kernel.invokeFunction('convertToInteractive',\n",
              "                                                     [key], {});\n",
              "          if (!dataTable) return;\n",
              "\n",
              "          const docLinkHtml = 'Like what you see? Visit the ' +\n",
              "            '<a target=\"_blank\" href=https://colab.research.google.com/notebooks/data_table.ipynb>data table notebook</a>'\n",
              "            + ' to learn more about interactive tables.';\n",
              "          element.innerHTML = '';\n",
              "          dataTable['output_type'] = 'display_data';\n",
              "          await google.colab.output.renderOutput(dataTable, element);\n",
              "          const docLink = document.createElement('div');\n",
              "          docLink.innerHTML = docLinkHtml;\n",
              "          element.appendChild(docLink);\n",
              "        }\n",
              "      </script>\n",
              "    </div>\n",
              "  </div>\n",
              "  "
            ],
            "text/plain": [
              "                     title                                              album  \\\n",
              "343   思い出のほとんど(高橋みなみ、前田敦子)                                              1830m   \n",
              "193  出逢いの日、別れの日(ゲンソー&ジキソー)                                      僕たちは戦わない【劇場盤】   \n",
              "107              So long !                             So long !<TYPE-A>初回限定盤   \n",
              "487             長い光(TeamA)  AKB48 Team A 5th stage 「恋愛禁止条例」 ~studio record...   \n",
              "556        7回目の「レミゼ」(小嶋陽菜)                      ここがロドスだ、ここで跳べ!<Type A>【初回限定盤】   \n",
              "\n",
              "    artist release_date  length  popularity  acousticness  danceability  \\\n",
              "343  AKB48   2012-08-15  404653          22        0.7910         0.506   \n",
              "193  AKB48   2015-05-20  387213           6        0.6030         0.602   \n",
              "107  AKB48   2013-02-20  364426          18        0.6060         0.437   \n",
              "487  AKB48   2013-01-01  362546          13        0.0481         0.537   \n",
              "556  AKB48   2015-01-21  361639           4        0.7030         0.623   \n",
              "\n",
              "     energy  instrumentalness  liveness  loudness  valence  mode  key  \\\n",
              "343   0.407          0.000000     0.128    -6.303    0.136     1    8   \n",
              "193   0.842          0.000000     0.140    -3.251    0.493     1    0   \n",
              "107   0.730          0.000003     0.157    -2.917    0.563     1   10   \n",
              "487   0.911          0.000001     0.146    -3.646    0.382     0    5   \n",
              "556   0.886          0.000000     0.316    -3.100    0.790     1    0   \n",
              "\n",
              "     speechiness    tempo  time_signature  \n",
              "343       0.0258  145.797               4  \n",
              "193       0.0263   99.015               4  \n",
              "107       0.0309  184.121               4  \n",
              "487       0.0683  139.915               4  \n",
              "556       0.0330  106.021               4  "
            ]
          },
          "execution_count": 23,
          "metadata": {},
          "output_type": "execute_result"
        }
      ],
      "source": [
        "sorted_df = df.sort_values('length', ascending = False)\n",
        "sorted_df.head()"
      ]
    },
    {
      "cell_type": "markdown",
      "metadata": {
        "id": "EKa05V4bjJTT"
      },
      "source": [
        "### **3. *Feature Engineering***"
      ]
    },
    {
      "cell_type": "code",
      "execution_count": null,
      "metadata": {
        "colab": {
          "base_uri": "https://localhost:8080/",
          "height": 866
        },
        "id": "3jzc-XNNjUg2",
        "outputId": "92a7f8b5-d183-4954-d129-cbad3a17b70f"
      },
      "outputs": [
        {
          "name": "stderr",
          "output_type": "stream",
          "text": [
            "/usr/local/lib/python3.7/dist-packages/ipykernel_launcher.py:2: DeprecationWarning: `np.bool` is a deprecated alias for the builtin `bool`. To silence this warning, use `bool` by itself. Doing this will not modify any behavior and is safe. If you specifically wanted the numpy scalar type, use `np.bool_` here.\n",
            "Deprecated in NumPy 1.20; for more details and guidance: https://numpy.org/devdocs/release/1.20.0-notes.html#deprecations\n",
            "  \n"
          ]
        },
        {
          "data": {
            "text/plain": [
              "<matplotlib.axes._subplots.AxesSubplot at 0x7fca33ad8d10>"
            ]
          },
          "execution_count": 22,
          "metadata": {},
          "output_type": "execute_result"
        },
        {
          "data": {
            "image/png": "[encoded data removed]",
            "text/plain": [
              "<Figure size 864x864 with 2 Axes>"
            ]
          },
          "metadata": {},
          "output_type": "display_data"
        }
      ],
      "source": [
        "# hanya memilih nilai korelasi di \"upper triangle\" -- menghindari duplikasi nilai\n",
        "mask = np.triu(np.ones_like(df.drop(columns=['title', 'album', 'artist', 'release_date']).corr(), dtype=np.bool)) # TANYA!!!\n",
        "\n",
        "# buat heatmap\n",
        "plt.figure(figsize=(12,12))\n",
        "sns.heatmap(df.corr(), annot=True, mask=mask)"
      ]
    },
    {
      "cell_type": "code",
      "execution_count": null,
      "metadata": {
        "colab": {
          "base_uri": "https://localhost:8080/",
          "height": 423
        },
        "id": "lKTm5lJgsTVT",
        "outputId": "9feb3774-daa9-4fec-92aa-600e6a8ae354"
      },
      "outputs": [
        {
          "data": {
            "text/plain": [
              "Text(0.5, 1.0, 'Loudness and Energy')"
            ]
          },
          "execution_count": 17,
          "metadata": {},
          "output_type": "execute_result"
        },
        {
          "data": {
            "image/png": "[encoded data removed]",
            "text/plain": [
              "<Figure size 576x432 with 1 Axes>"
            ]
          },
          "metadata": {},
          "output_type": "display_data"
        }
      ],
      "source": [
        "plt.figure(figsize=(8, 6))\n",
        "plt.scatter(df['energy'], df['loudness'])\n",
        "plt.xlabel(\"Loudness\")\n",
        "plt.ylabel(\"Energy\")\n",
        "plt.title(\"Loudness and Energy\", size=16)"
      ]
    },
    {
      "cell_type": "code",
      "execution_count": null,
      "metadata": {
        "colab": {
          "base_uri": "https://localhost:8080/",
          "height": 386
        },
        "id": "_qj4RvDf6zku",
        "outputId": "810b5fbc-3e49-44e8-b66c-a7baafde2032"
      },
      "outputs": [
        {
          "data": {
            "text/plain": [
              "<seaborn.axisgrid.FacetGrid at 0x7fce784aed50>"
            ]
          },
          "execution_count": 18,
          "metadata": {},
          "output_type": "execute_result"
        },
        {
          "data": {
            "image/png": "[encoded data removed]",
            "text/plain": [
              "<Figure size 360x360 with 1 Axes>"
            ]
          },
          "metadata": {},
          "output_type": "display_data"
        }
      ],
      "source": [
        "sns.lmplot(x='energy',y='loudness', data = df)"
      ]
    },
    {
      "cell_type": "code",
      "execution_count": null,
      "metadata": {
        "colab": {
          "base_uri": "https://localhost:8080/",
          "height": 423
        },
        "id": "0SOZrZb5tWN-",
        "outputId": "3549f246-70f2-4e17-aa11-a19e1eb58c97"
      },
      "outputs": [
        {
          "data": {
            "text/plain": [
              "Text(0.5, 1.0, 'Valence and Danceability')"
            ]
          },
          "execution_count": 19,
          "metadata": {},
          "output_type": "execute_result"
        },
        {
          "data": {
            "image/png": "[encoded data removed]",
            "text/plain": [
              "<Figure size 576x432 with 1 Axes>"
            ]
          },
          "metadata": {},
          "output_type": "display_data"
        }
      ],
      "source": [
        "plt.figure(figsize=(8, 6))\n",
        "plt.scatter(df['valence'], df['danceability'])\n",
        "plt.xlabel(\"Valence\")\n",
        "plt.ylabel(\"Danceability\")\n",
        "plt.title(\"Valence and Danceability\", size=16)"
      ]
    },
    {
      "cell_type": "code",
      "execution_count": null,
      "metadata": {
        "colab": {
          "base_uri": "https://localhost:8080/",
          "height": 386
        },
        "id": "Wq7iD8t-EqSX",
        "outputId": "60e3bc57-2f44-4ee9-8404-2143017697f6"
      },
      "outputs": [
        {
          "data": {
            "text/plain": [
              "<seaborn.axisgrid.FacetGrid at 0x7fce78227110>"
            ]
          },
          "execution_count": 20,
          "metadata": {},
          "output_type": "execute_result"
        },
        {
          "data": {
            "image/png": "[encoded data removed]",
            "text/plain": [
              "<Figure size 360x360 with 1 Axes>"
            ]
          },
          "metadata": {},
          "output_type": "display_data"
        }
      ],
      "source": [
        "sns.lmplot(x='valence',y='danceability', data = df)"
      ]
    },
    {
      "cell_type": "code",
      "execution_count": null,
      "metadata": {
        "colab": {
          "base_uri": "https://localhost:8080/",
          "height": 423
        },
        "id": "GGPBctYmtxCC",
        "outputId": "e798105b-9cc6-4cf4-f9ed-547d1b624d6d"
      },
      "outputs": [
        {
          "data": {
            "text/plain": [
              "Text(0.5, 1.0, 'Speechiness and Energy')"
            ]
          },
          "execution_count": 21,
          "metadata": {},
          "output_type": "execute_result"
        },
        {
          "data": {
            "image/png": "[encoded data removed]",
            "text/plain": [
              "<Figure size 576x432 with 1 Axes>"
            ]
          },
          "metadata": {},
          "output_type": "display_data"
        }
      ],
      "source": [
        "plt.figure(figsize=(8, 6))\n",
        "plt.scatter(df['energy'], df['speechiness'])\n",
        "plt.xlabel(\"Speechiness\")\n",
        "plt.ylabel(\"Energy\")\n",
        "plt.title(\"Speechiness and Energy\", size=16)"
      ]
    },
    {
      "cell_type": "code",
      "execution_count": null,
      "metadata": {
        "colab": {
          "base_uri": "https://localhost:8080/",
          "height": 386
        },
        "id": "93NFE3k2ErfG",
        "outputId": "d0f02ed7-3969-4562-b17f-17f3934c2304"
      },
      "outputs": [
        {
          "data": {
            "text/plain": [
              "<seaborn.axisgrid.FacetGrid at 0x7fce780581d0>"
            ]
          },
          "execution_count": 22,
          "metadata": {},
          "output_type": "execute_result"
        },
        {
          "data": {
            "image/png": "[encoded data removed]",
            "text/plain": [
              "<Figure size 360x360 with 1 Axes>"
            ]
          },
          "metadata": {},
          "output_type": "display_data"
        }
      ],
      "source": [
        "sns.lmplot(x='energy',y='speechiness', data = df)"
      ]
    },
    {
      "cell_type": "markdown",
      "metadata": {
        "id": "53e4yOrH6XxD"
      },
      "source": [
        "## ***Model Building* dan *Model Evaluation***"
      ]
    },
    {
      "cell_type": "markdown",
      "metadata": {
        "id": "lAOjV40GHuHA"
      },
      "source": [
        "### **Mengimport library yang diperlukan dan memilih variabel yang akan dianalisis**"
      ]
    },
    {
      "cell_type": "code",
      "execution_count": null,
      "metadata": {
        "id": "MZeCoCyk3HKr"
      },
      "outputs": [],
      "source": [
        "# import libraries yang dibutuhkan\n",
        "from sklearn.model_selection import train_test_split\n",
        "from sklearn.linear_model import LinearRegression\n",
        "from sklearn import metrics"
      ]
    },
    {
      "cell_type": "code",
      "execution_count": null,
      "metadata": {
        "id": "T1TgELML9Ydw"
      },
      "outputs": [],
      "source": [
        "features_df = df.drop(columns=['title', 'album', 'artist', 'release_date', 'time_signature'])"
      ]
    },
    {
      "cell_type": "markdown",
      "metadata": {
        "id": "oNrqGUhD7xJv"
      },
      "source": [
        "### **Model 1**: All-In-One\n",
        "\n",
        "1. **Independent variables (X) :** 'length', 'acousticness', 'danceability', 'energy', 'instrumentalness', 'liveness', 'loudness', 'valence', 'mode', 'key', 'speechiness', 'tempo'\n",
        "2. **Dependent variable (Y) :** 'popularity'"
      ]
    },
    {
      "cell_type": "markdown",
      "metadata": {
        "id": "D970NJewIJnT"
      },
      "source": [
        "#### a. Model Building"
      ]
    },
    {
      "cell_type": "code",
      "execution_count": null,
      "metadata": {
        "colab": {
          "base_uri": "https://localhost:8080/"
        },
        "id": "wpflX9sD3THa",
        "outputId": "cdb62398-6ecf-4101-a61f-6377b155110c"
      },
      "outputs": [
        {
          "name": "stdout",
          "output_type": "stream",
          "text": [
            "X_train :  (545, 12)\n",
            "X_test :  (137, 12)\n",
            "Y_train :  (545,)\n",
            "Y_test :  (137,)\n"
          ]
        }
      ],
      "source": [
        "# memilih kolom untuk digunakan sebagai fitur model -- menghilangkan target variabel dan kolom tidak penting lainnya\n",
        "x = features_df.drop(columns=['popularity'])\n",
        "# memilih kolom untuk digunakan sebagai variabel target\n",
        "y = features_df['popularity']\n",
        "\n",
        "# membagi data ke training dan testing data\n",
        "x_train, x_test, y_train, y_test = train_test_split(x, y, test_size=0.2)\n",
        "\n",
        "print(\"X_train : \", x_train.shape)\n",
        "print(\"X_test : \", x_test.shape)\n",
        "print(\"Y_train : \", y_train.shape)\n",
        "print(\"Y_test : \", y_test.shape)"
      ]
    },
    {
      "cell_type": "code",
      "execution_count": null,
      "metadata": {
        "colab": {
          "base_uri": "https://localhost:8080/"
        },
        "id": "GAdTxNFm34VH",
        "outputId": "ee4aa0e1-ba3f-41c0-9917-daa8c731f0be"
      },
      "outputs": [
        {
          "data": {
            "text/plain": [
              "LinearRegression()"
            ]
          },
          "execution_count": 40,
          "metadata": {},
          "output_type": "execute_result"
        }
      ],
      "source": [
        "# membuat model linear regression\n",
        "linear_regression_model = LinearRegression()\n",
        "# \"training\" model dengan dataset yang sesuai\n",
        "linear_regression_model.fit(x_train,y_train)"
      ]
    },
    {
      "cell_type": "code",
      "execution_count": null,
      "metadata": {
        "colab": {
          "base_uri": "https://localhost:8080/"
        },
        "id": "xwINod3z4IVw",
        "outputId": "adde43ad-770f-4064-c5ec-517cca3a2256"
      },
      "outputs": [
        {
          "data": {
            "text/plain": [
              "array([ 1.43035686e-05, -3.97498062e+00, -3.31772351e+00,  6.29121911e+00,\n",
              "        7.35690515e+00, -1.62319142e+00, -1.07389716e+00, -2.21692981e+00,\n",
              "        1.10024528e+00,  1.67011339e-01,  1.90633267e+01,  1.66656829e-02])"
            ]
          },
          "execution_count": 41,
          "metadata": {},
          "output_type": "execute_result"
        }
      ],
      "source": [
        "# mengambil koefisien yang didapatkan dari model\n",
        "linear_regression_model.coef_"
      ]
    },
    {
      "cell_type": "code",
      "execution_count": null,
      "metadata": {
        "colab": {
          "base_uri": "https://localhost:8080/",
          "height": 426
        },
        "id": "6eVe4oMdAZkW",
        "outputId": "41334c4f-05b5-4eeb-b46b-aa01eb71d283"
      },
      "outputs": [
        {
          "data": {
            "text/html": [
              "\n",
              "  <div id=\"df-be8edc67-47c1-4a94-ba7a-757378d67f99\">\n",
              "    <div class=\"colab-df-container\">\n",
              "      <div>\n",
              "<style scoped>\n",
              "    .dataframe tbody tr th:only-of-type {\n",
              "        vertical-align: middle;\n",
              "    }\n",
              "\n",
              "    .dataframe tbody tr th {\n",
              "        vertical-align: top;\n",
              "    }\n",
              "\n",
              "    .dataframe thead th {\n",
              "        text-align: right;\n",
              "    }\n",
              "</style>\n",
              "<table border=\"1\" class=\"dataframe\">\n",
              "  <thead>\n",
              "    <tr style=\"text-align: right;\">\n",
              "      <th></th>\n",
              "      <th>Coefficient</th>\n",
              "    </tr>\n",
              "  </thead>\n",
              "  <tbody>\n",
              "    <tr>\n",
              "      <th>length</th>\n",
              "      <td>0.000014</td>\n",
              "    </tr>\n",
              "    <tr>\n",
              "      <th>acousticness</th>\n",
              "      <td>-3.974981</td>\n",
              "    </tr>\n",
              "    <tr>\n",
              "      <th>danceability</th>\n",
              "      <td>-3.317724</td>\n",
              "    </tr>\n",
              "    <tr>\n",
              "      <th>energy</th>\n",
              "      <td>6.291219</td>\n",
              "    </tr>\n",
              "    <tr>\n",
              "      <th>instrumentalness</th>\n",
              "      <td>7.356905</td>\n",
              "    </tr>\n",
              "    <tr>\n",
              "      <th>liveness</th>\n",
              "      <td>-1.623191</td>\n",
              "    </tr>\n",
              "    <tr>\n",
              "      <th>loudness</th>\n",
              "      <td>-1.073897</td>\n",
              "    </tr>\n",
              "    <tr>\n",
              "      <th>valence</th>\n",
              "      <td>-2.216930</td>\n",
              "    </tr>\n",
              "    <tr>\n",
              "      <th>mode</th>\n",
              "      <td>1.100245</td>\n",
              "    </tr>\n",
              "    <tr>\n",
              "      <th>key</th>\n",
              "      <td>0.167011</td>\n",
              "    </tr>\n",
              "    <tr>\n",
              "      <th>speechiness</th>\n",
              "      <td>19.063327</td>\n",
              "    </tr>\n",
              "    <tr>\n",
              "      <th>tempo</th>\n",
              "      <td>0.016666</td>\n",
              "    </tr>\n",
              "  </tbody>\n",
              "</table>\n",
              "</div>\n",
              "      <button class=\"colab-df-convert\" onclick=\"convertToInteractive('df-be8edc67-47c1-4a94-ba7a-757378d67f99')\"\n",
              "              title=\"Convert this dataframe to an interactive table.\"\n",
              "              style=\"display:none;\">\n",
              "        \n",
              "  <svg xmlns=\"http://www.w3.org/2000/svg\" height=\"24px\"viewBox=\"0 0 24 24\"\n",
              "       width=\"24px\">\n",
              "    <path d=\"M0 0h24v24H0V0z\" fill=\"none\"/>\n",
              "    <path d=\"M18.56 5.44l.94 2.06.94-2.06 2.06-.94-2.06-.94-.94-2.06-.94 2.06-2.06.94zm-11 1L8.5 8.5l.94-2.06 2.06-.94-2.06-.94L8.5 2.5l-.94 2.06-2.06.94zm10 10l.94 2.06.94-2.06 2.06-.94-2.06-.94-.94-2.06-.94 2.06-2.06.94z\"/><path d=\"M17.41 7.96l-1.37-1.37c-.4-.4-.92-.59-1.43-.59-.52 0-1.04.2-1.43.59L10.3 9.45l-7.72 7.72c-.78.78-.78 2.05 0 2.83L4 21.41c.39.39.9.59 1.41.59.51 0 1.02-.2 1.41-.59l7.78-7.78 2.81-2.81c.8-.78.8-2.07 0-2.86zM5.41 20L4 18.59l7.72-7.72 1.47 1.35L5.41 20z\"/>\n",
              "  </svg>\n",
              "      </button>\n",
              "      \n",
              "  <style>\n",
              "    .colab-df-container {\n",
              "      display:flex;\n",
              "      flex-wrap:wrap;\n",
              "      gap: 12px;\n",
              "    }\n",
              "\n",
              "    .colab-df-convert {\n",
              "      background-color: #E8F0FE;\n",
              "      border: none;\n",
              "      border-radius: 50%;\n",
              "      cursor: pointer;\n",
              "      display: none;\n",
              "      fill: #1967D2;\n",
              "      height: 32px;\n",
              "      padding: 0 0 0 0;\n",
              "      width: 32px;\n",
              "    }\n",
              "\n",
              "    .colab-df-convert:hover {\n",
              "      background-color: #E2EBFA;\n",
              "      box-shadow: 0px 1px 2px rgba(60, 64, 67, 0.3), 0px 1px 3px 1px rgba(60, 64, 67, 0.15);\n",
              "      fill: #174EA6;\n",
              "    }\n",
              "\n",
              "    [theme=dark] .colab-df-convert {\n",
              "      background-color: #3B4455;\n",
              "      fill: #D2E3FC;\n",
              "    }\n",
              "\n",
              "    [theme=dark] .colab-df-convert:hover {\n",
              "      background-color: #434B5C;\n",
              "      box-shadow: 0px 1px 3px 1px rgba(0, 0, 0, 0.15);\n",
              "      filter: drop-shadow(0px 1px 2px rgba(0, 0, 0, 0.3));\n",
              "      fill: #FFFFFF;\n",
              "    }\n",
              "  </style>\n",
              "\n",
              "      <script>\n",
              "        const buttonEl =\n",
              "          document.querySelector('#df-be8edc67-47c1-4a94-ba7a-757378d67f99 button.colab-df-convert');\n",
              "        buttonEl.style.display =\n",
              "          google.colab.kernel.accessAllowed ? 'block' : 'none';\n",
              "\n",
              "        async function convertToInteractive(key) {\n",
              "          const element = document.querySelector('#df-be8edc67-47c1-4a94-ba7a-757378d67f99');\n",
              "          const dataTable =\n",
              "            await google.colab.kernel.invokeFunction('convertToInteractive',\n",
              "                                                     [key], {});\n",
              "          if (!dataTable) return;\n",
              "\n",
              "          const docLinkHtml = 'Like what you see? Visit the ' +\n",
              "            '<a target=\"_blank\" href=https://colab.research.google.com/notebooks/data_table.ipynb>data table notebook</a>'\n",
              "            + ' to learn more about interactive tables.';\n",
              "          element.innerHTML = '';\n",
              "          dataTable['output_type'] = 'display_data';\n",
              "          await google.colab.output.renderOutput(dataTable, element);\n",
              "          const docLink = document.createElement('div');\n",
              "          docLink.innerHTML = docLinkHtml;\n",
              "          element.appendChild(docLink);\n",
              "        }\n",
              "      </script>\n",
              "    </div>\n",
              "  </div>\n",
              "  "
            ],
            "text/plain": [
              "                  Coefficient\n",
              "length               0.000014\n",
              "acousticness        -3.974981\n",
              "danceability        -3.317724\n",
              "energy               6.291219\n",
              "instrumentalness     7.356905\n",
              "liveness            -1.623191\n",
              "loudness            -1.073897\n",
              "valence             -2.216930\n",
              "mode                 1.100245\n",
              "key                  0.167011\n",
              "speechiness         19.063327\n",
              "tempo                0.016666"
            ]
          },
          "execution_count": 42,
          "metadata": {},
          "output_type": "execute_result"
        }
      ],
      "source": [
        "# menampilkan hasil linear regression (koefisien dari model)\n",
        "coeff_df = pd.DataFrame(linear_regression_model.coef_, x.columns, columns = [\"Coefficient\"])\n",
        "coeff_df"
      ]
    },
    {
      "cell_type": "code",
      "execution_count": null,
      "metadata": {
        "colab": {
          "base_uri": "https://localhost:8080/"
        },
        "id": "v3eJYy384Xq8",
        "outputId": "a9519575-fbbd-4776-c1b9-a4c1bbb07100"
      },
      "outputs": [
        {
          "data": {
            "text/plain": [
              "-2.7927482593299366"
            ]
          },
          "execution_count": 43,
          "metadata": {},
          "output_type": "execute_result"
        }
      ],
      "source": [
        "# mengambil bias dari model\n",
        "linear_regression_model.intercept_"
      ]
    },
    {
      "cell_type": "markdown",
      "metadata": {
        "id": "dhoKCezrMbFg"
      },
      "source": [
        "#### b. Model Evaluation"
      ]
    },
    {
      "cell_type": "code",
      "execution_count": null,
      "metadata": {
        "id": "XfMHgYWR4Zt3"
      },
      "outputs": [],
      "source": [
        "# menggunakan model untuk memprediksi nilai matematika menggunakan testing dataset\n",
        "predictions = linear_regression_model.predict(x_test)"
      ]
    },
    {
      "cell_type": "code",
      "execution_count": null,
      "metadata": {
        "colab": {
          "base_uri": "https://localhost:8080/",
          "height": 206
        },
        "id": "MJaY9NVhm5TQ",
        "outputId": "0b13117e-77bd-4cca-8863-6c10474cb987"
      },
      "outputs": [
        {
          "data": {
            "text/html": [
              "\n",
              "  <div id=\"df-0ad36976-5dcb-47f1-ba8f-d75a9ee442c5\">\n",
              "    <div class=\"colab-df-container\">\n",
              "      <div>\n",
              "<style scoped>\n",
              "    .dataframe tbody tr th:only-of-type {\n",
              "        vertical-align: middle;\n",
              "    }\n",
              "\n",
              "    .dataframe tbody tr th {\n",
              "        vertical-align: top;\n",
              "    }\n",
              "\n",
              "    .dataframe thead th {\n",
              "        text-align: right;\n",
              "    }\n",
              "</style>\n",
              "<table border=\"1\" class=\"dataframe\">\n",
              "  <thead>\n",
              "    <tr style=\"text-align: right;\">\n",
              "      <th></th>\n",
              "      <th>length</th>\n",
              "      <th>acousticness</th>\n",
              "      <th>danceability</th>\n",
              "      <th>energy</th>\n",
              "      <th>instrumentalness</th>\n",
              "      <th>liveness</th>\n",
              "      <th>loudness</th>\n",
              "      <th>valence</th>\n",
              "      <th>mode</th>\n",
              "      <th>key</th>\n",
              "      <th>speechiness</th>\n",
              "      <th>tempo</th>\n",
              "      <th>popularity</th>\n",
              "      <th>PREDICTED SCORE</th>\n",
              "    </tr>\n",
              "  </thead>\n",
              "  <tbody>\n",
              "    <tr>\n",
              "      <th>645</th>\n",
              "      <td>291386</td>\n",
              "      <td>0.00655</td>\n",
              "      <td>0.565</td>\n",
              "      <td>0.827</td>\n",
              "      <td>0.000002</td>\n",
              "      <td>0.261</td>\n",
              "      <td>-3.485</td>\n",
              "      <td>0.632</td>\n",
              "      <td>1</td>\n",
              "      <td>2</td>\n",
              "      <td>0.0321</td>\n",
              "      <td>120.005</td>\n",
              "      <td>6</td>\n",
              "      <td>10.641359</td>\n",
              "    </tr>\n",
              "    <tr>\n",
              "      <th>347</th>\n",
              "      <td>242386</td>\n",
              "      <td>0.03210</td>\n",
              "      <td>0.533</td>\n",
              "      <td>0.987</td>\n",
              "      <td>0.000007</td>\n",
              "      <td>0.321</td>\n",
              "      <td>-2.407</td>\n",
              "      <td>0.717</td>\n",
              "      <td>1</td>\n",
              "      <td>8</td>\n",
              "      <td>0.1110</td>\n",
              "      <td>170.004</td>\n",
              "      <td>19</td>\n",
              "      <td>12.847664</td>\n",
              "    </tr>\n",
              "    <tr>\n",
              "      <th>211</th>\n",
              "      <td>335906</td>\n",
              "      <td>0.43300</td>\n",
              "      <td>0.513</td>\n",
              "      <td>0.974</td>\n",
              "      <td>0.000000</td>\n",
              "      <td>0.374</td>\n",
              "      <td>-2.249</td>\n",
              "      <td>0.647</td>\n",
              "      <td>1</td>\n",
              "      <td>9</td>\n",
              "      <td>0.0436</td>\n",
              "      <td>89.990</td>\n",
              "      <td>5</td>\n",
              "      <td>10.024416</td>\n",
              "    </tr>\n",
              "    <tr>\n",
              "      <th>54</th>\n",
              "      <td>253040</td>\n",
              "      <td>0.00339</td>\n",
              "      <td>0.478</td>\n",
              "      <td>0.796</td>\n",
              "      <td>0.000000</td>\n",
              "      <td>0.226</td>\n",
              "      <td>-7.481</td>\n",
              "      <td>0.597</td>\n",
              "      <td>1</td>\n",
              "      <td>1</td>\n",
              "      <td>0.0303</td>\n",
              "      <td>157.085</td>\n",
              "      <td>19</td>\n",
              "      <td>15.041371</td>\n",
              "    </tr>\n",
              "    <tr>\n",
              "      <th>371</th>\n",
              "      <td>250906</td>\n",
              "      <td>0.11300</td>\n",
              "      <td>0.459</td>\n",
              "      <td>0.923</td>\n",
              "      <td>0.000000</td>\n",
              "      <td>0.280</td>\n",
              "      <td>-3.607</td>\n",
              "      <td>0.700</td>\n",
              "      <td>0</td>\n",
              "      <td>2</td>\n",
              "      <td>0.0426</td>\n",
              "      <td>148.016</td>\n",
              "      <td>3</td>\n",
              "      <td>10.111001</td>\n",
              "    </tr>\n",
              "  </tbody>\n",
              "</table>\n",
              "</div>\n",
              "      <button class=\"colab-df-convert\" onclick=\"convertToInteractive('df-0ad36976-5dcb-47f1-ba8f-d75a9ee442c5')\"\n",
              "              title=\"Convert this dataframe to an interactive table.\"\n",
              "              style=\"display:none;\">\n",
              "        \n",
              "  <svg xmlns=\"http://www.w3.org/2000/svg\" height=\"24px\"viewBox=\"0 0 24 24\"\n",
              "       width=\"24px\">\n",
              "    <path d=\"M0 0h24v24H0V0z\" fill=\"none\"/>\n",
              "    <path d=\"M18.56 5.44l.94 2.06.94-2.06 2.06-.94-2.06-.94-.94-2.06-.94 2.06-2.06.94zm-11 1L8.5 8.5l.94-2.06 2.06-.94-2.06-.94L8.5 2.5l-.94 2.06-2.06.94zm10 10l.94 2.06.94-2.06 2.06-.94-2.06-.94-.94-2.06-.94 2.06-2.06.94z\"/><path d=\"M17.41 7.96l-1.37-1.37c-.4-.4-.92-.59-1.43-.59-.52 0-1.04.2-1.43.59L10.3 9.45l-7.72 7.72c-.78.78-.78 2.05 0 2.83L4 21.41c.39.39.9.59 1.41.59.51 0 1.02-.2 1.41-.59l7.78-7.78 2.81-2.81c.8-.78.8-2.07 0-2.86zM5.41 20L4 18.59l7.72-7.72 1.47 1.35L5.41 20z\"/>\n",
              "  </svg>\n",
              "      </button>\n",
              "      \n",
              "  <style>\n",
              "    .colab-df-container {\n",
              "      display:flex;\n",
              "      flex-wrap:wrap;\n",
              "      gap: 12px;\n",
              "    }\n",
              "\n",
              "    .colab-df-convert {\n",
              "      background-color: #E8F0FE;\n",
              "      border: none;\n",
              "      border-radius: 50%;\n",
              "      cursor: pointer;\n",
              "      display: none;\n",
              "      fill: #1967D2;\n",
              "      height: 32px;\n",
              "      padding: 0 0 0 0;\n",
              "      width: 32px;\n",
              "    }\n",
              "\n",
              "    .colab-df-convert:hover {\n",
              "      background-color: #E2EBFA;\n",
              "      box-shadow: 0px 1px 2px rgba(60, 64, 67, 0.3), 0px 1px 3px 1px rgba(60, 64, 67, 0.15);\n",
              "      fill: #174EA6;\n",
              "    }\n",
              "\n",
              "    [theme=dark] .colab-df-convert {\n",
              "      background-color: #3B4455;\n",
              "      fill: #D2E3FC;\n",
              "    }\n",
              "\n",
              "    [theme=dark] .colab-df-convert:hover {\n",
              "      background-color: #434B5C;\n",
              "      box-shadow: 0px 1px 3px 1px rgba(0, 0, 0, 0.15);\n",
              "      filter: drop-shadow(0px 1px 2px rgba(0, 0, 0, 0.3));\n",
              "      fill: #FFFFFF;\n",
              "    }\n",
              "  </style>\n",
              "\n",
              "      <script>\n",
              "        const buttonEl =\n",
              "          document.querySelector('#df-0ad36976-5dcb-47f1-ba8f-d75a9ee442c5 button.colab-df-convert');\n",
              "        buttonEl.style.display =\n",
              "          google.colab.kernel.accessAllowed ? 'block' : 'none';\n",
              "\n",
              "        async function convertToInteractive(key) {\n",
              "          const element = document.querySelector('#df-0ad36976-5dcb-47f1-ba8f-d75a9ee442c5');\n",
              "          const dataTable =\n",
              "            await google.colab.kernel.invokeFunction('convertToInteractive',\n",
              "                                                     [key], {});\n",
              "          if (!dataTable) return;\n",
              "\n",
              "          const docLinkHtml = 'Like what you see? Visit the ' +\n",
              "            '<a target=\"_blank\" href=https://colab.research.google.com/notebooks/data_table.ipynb>data table notebook</a>'\n",
              "            + ' to learn more about interactive tables.';\n",
              "          element.innerHTML = '';\n",
              "          dataTable['output_type'] = 'display_data';\n",
              "          await google.colab.output.renderOutput(dataTable, element);\n",
              "          const docLink = document.createElement('div');\n",
              "          docLink.innerHTML = docLinkHtml;\n",
              "          element.appendChild(docLink);\n",
              "        }\n",
              "      </script>\n",
              "    </div>\n",
              "  </div>\n",
              "  "
            ],
            "text/plain": [
              "     length  acousticness  danceability  energy  instrumentalness  liveness  \\\n",
              "645  291386       0.00655         0.565   0.827          0.000002     0.261   \n",
              "347  242386       0.03210         0.533   0.987          0.000007     0.321   \n",
              "211  335906       0.43300         0.513   0.974          0.000000     0.374   \n",
              "54   253040       0.00339         0.478   0.796          0.000000     0.226   \n",
              "371  250906       0.11300         0.459   0.923          0.000000     0.280   \n",
              "\n",
              "     loudness  valence  mode  key  speechiness    tempo  popularity  \\\n",
              "645    -3.485    0.632     1    2       0.0321  120.005           6   \n",
              "347    -2.407    0.717     1    8       0.1110  170.004          19   \n",
              "211    -2.249    0.647     1    9       0.0436   89.990           5   \n",
              "54     -7.481    0.597     1    1       0.0303  157.085          19   \n",
              "371    -3.607    0.700     0    2       0.0426  148.016           3   \n",
              "\n",
              "     PREDICTED SCORE  \n",
              "645        10.641359  \n",
              "347        12.847664  \n",
              "211        10.024416  \n",
              "54         15.041371  \n",
              "371        10.111001  "
            ]
          },
          "execution_count": 46,
          "metadata": {},
          "output_type": "execute_result"
        }
      ],
      "source": [
        "df_test_set = x_test\n",
        "df_test_set = df_test_set.join(y_test)\n",
        "df_test_set['PREDICTED SCORE'] = predictions\n",
        "df_test_set.head(5)"
      ]
    },
    {
      "cell_type": "code",
      "execution_count": null,
      "metadata": {
        "colab": {
          "base_uri": "https://localhost:8080/",
          "height": 421
        },
        "id": "Z9_rNWmMmLGZ",
        "outputId": "fe6feb7a-6535-4fd4-9ec6-373851503f76"
      },
      "outputs": [
        {
          "data": {
            "text/plain": [
              "Text(0, 0.5, 'Predicted')"
            ]
          },
          "execution_count": 47,
          "metadata": {},
          "output_type": "execute_result"
        },
        {
          "data": {
            "image/png": "[encoded data removed]",
            "text/plain": [
              "<Figure size 576x432 with 1 Axes>"
            ]
          },
          "metadata": {},
          "output_type": "display_data"
        }
      ],
      "source": [
        "# membandingkan hasil prediksi dan nilai asli\n",
        "plt.figure(figsize=(8, 6))\n",
        "plt.scatter(y_test, predictions)\n",
        "plt.title(\"Results\")\n",
        "plt.xlabel(\"Actual\")\n",
        "plt.ylabel(\"Predicted\")"
      ]
    },
    {
      "cell_type": "code",
      "execution_count": null,
      "metadata": {
        "colab": {
          "base_uri": "https://localhost:8080/",
          "height": 407
        },
        "id": "Og7rE3Yoo5Er",
        "outputId": "3a470d9f-f820-45f2-ca67-a3c1cb141242"
      },
      "outputs": [
        {
          "data": {
            "text/plain": [
              "<matplotlib.legend.Legend at 0x7fce70bbf050>"
            ]
          },
          "execution_count": 48,
          "metadata": {},
          "output_type": "execute_result"
        },
        {
          "data": {
            "image/png": "[encoded data removed]",
            "text/plain": [
              "<Figure size 720x432 with 1 Axes>"
            ]
          },
          "metadata": {},
          "output_type": "display_data"
        }
      ],
      "source": [
        "import numpy as np\n",
        "plt.figure(figsize=(10, 6))\n",
        "\n",
        "# mengurutkan nilai asli dari terkecil hingga tertinggi\n",
        "y_sorted = np.sort(y_test.tolist())\n",
        "y_sorted_index = np.argsort(y_test.tolist())\n",
        "\n",
        "# merubah urutan prediction score berdasarkan urutan y_sorted \n",
        "predictions_sorted = predictions[y_sorted_index]\n",
        "\n",
        "# plot kedua score\n",
        "plt.scatter(np.arange(0,len(y_sorted)), y_sorted, label='actual')\n",
        "plt.scatter(np.arange(0,len(y_sorted)), predictions_sorted, label='prediction')\n",
        "plt.title(\"Perbandingan nilai asli dengan prediksi model\")\n",
        "plt.legend()"
      ]
    },
    {
      "cell_type": "code",
      "execution_count": null,
      "metadata": {
        "colab": {
          "base_uri": "https://localhost:8080/"
        },
        "id": "TBKLg4IY4t9t",
        "outputId": "f2314b6b-8f5d-4fa0-87f8-41b31f76d7a1"
      },
      "outputs": [
        {
          "name": "stdout",
          "output_type": "stream",
          "text": [
            "MAE: 5.163162829643102\n",
            "MSE: 51.03567931485154\n",
            "RMSE: 7.14392604348978\n"
          ]
        }
      ],
      "source": [
        "# mengevaluasi model dengan 3 metrik berbeda\n",
        "print('MAE:', metrics.mean_absolute_error(y_test, predictions))\n",
        "print('MSE:', metrics.mean_squared_error(y_test, predictions))\n",
        "print('RMSE:', np.sqrt(metrics.mean_squared_error(y_test, predictions)))"
      ]
    },
    {
      "cell_type": "markdown",
      "metadata": {
        "id": "DHXZa4VaPs5H"
      },
      "source": [
        "### **Model 2**: Let's Dance and Sing Along\n",
        "\n",
        "1. **Independent variables (X) :** 'danceability', 'energy', 'loudness', 'valence', 'speechiness', 'tempo'\n",
        "2. **Dependent variable (Y) :** 'popularity'"
      ]
    },
    {
      "cell_type": "markdown",
      "metadata": {
        "id": "Lq7K78QnPs5K"
      },
      "source": [
        "#### a. Model Building"
      ]
    },
    {
      "cell_type": "code",
      "execution_count": null,
      "metadata": {
        "colab": {
          "base_uri": "https://localhost:8080/"
        },
        "id": "qa5DtKOoPs5L",
        "outputId": "0aaafea2-a7da-487a-ecb6-db5146d652f2"
      },
      "outputs": [
        {
          "name": "stdout",
          "output_type": "stream",
          "text": [
            "X_train :  (545, 6)\n",
            "X_test :  (137, 6)\n",
            "Y_train :  (545,)\n",
            "Y_test :  (137,)\n"
          ]
        }
      ],
      "source": [
        "# memilih kolom untuk digunakan sebagai fitur model -- menghilangkan target variabel dan kolom tidak penting lainnya\n",
        "x = features_df.drop(columns=['popularity', 'length', 'acousticness', 'instrumentalness', 'liveness', 'mode', 'key'])\n",
        "# memilih kolom untuk digunakan sebagai variabel target\n",
        "y = features_df['popularity']\n",
        "\n",
        "# membagi data ke training dan testing data\n",
        "x_train, x_test, y_train, y_test = train_test_split(x, y, test_size=0.2)\n",
        "\n",
        "print(\"X_train : \", x_train.shape)\n",
        "print(\"X_test : \", x_test.shape)\n",
        "print(\"Y_train : \", y_train.shape)\n",
        "print(\"Y_test : \", y_test.shape)"
      ]
    },
    {
      "cell_type": "code",
      "execution_count": null,
      "metadata": {
        "colab": {
          "base_uri": "https://localhost:8080/"
        },
        "id": "lUzG5Eh_Ps5O",
        "outputId": "d8d9b94b-6c29-4fa6-d039-a9333dbb266a"
      },
      "outputs": [
        {
          "data": {
            "text/plain": [
              "LinearRegression()"
            ]
          },
          "execution_count": 63,
          "metadata": {},
          "output_type": "execute_result"
        }
      ],
      "source": [
        "# membuat model linear regression\n",
        "linear_regression_model = LinearRegression()\n",
        "# \"training\" model dengan dataset yang sesuai\n",
        "linear_regression_model.fit(x_train,y_train)"
      ]
    },
    {
      "cell_type": "code",
      "execution_count": null,
      "metadata": {
        "colab": {
          "base_uri": "https://localhost:8080/"
        },
        "id": "62Gx5xrzPs5T",
        "outputId": "2fc46f70-85ba-4a5a-d46a-1228f44d2b14"
      },
      "outputs": [
        {
          "data": {
            "text/plain": [
              "array([-7.85419611,  9.0529615 , -1.26931363, -2.44469667,  6.23527819,\n",
              "        0.01733803])"
            ]
          },
          "execution_count": 64,
          "metadata": {},
          "output_type": "execute_result"
        }
      ],
      "source": [
        "# mengambil koefisien yang didapatkan dari model\n",
        "linear_regression_model.coef_"
      ]
    },
    {
      "cell_type": "code",
      "execution_count": null,
      "metadata": {
        "colab": {
          "base_uri": "https://localhost:8080/",
          "height": 238
        },
        "id": "MOJYVGKRPs5V",
        "outputId": "4358983f-948e-4730-becd-29cbb74ffab5"
      },
      "outputs": [
        {
          "data": {
            "text/html": [
              "\n",
              "  <div id=\"df-7fce1931-33ee-4a81-bc06-ed803237bc28\">\n",
              "    <div class=\"colab-df-container\">\n",
              "      <div>\n",
              "<style scoped>\n",
              "    .dataframe tbody tr th:only-of-type {\n",
              "        vertical-align: middle;\n",
              "    }\n",
              "\n",
              "    .dataframe tbody tr th {\n",
              "        vertical-align: top;\n",
              "    }\n",
              "\n",
              "    .dataframe thead th {\n",
              "        text-align: right;\n",
              "    }\n",
              "</style>\n",
              "<table border=\"1\" class=\"dataframe\">\n",
              "  <thead>\n",
              "    <tr style=\"text-align: right;\">\n",
              "      <th></th>\n",
              "      <th>Coefficient</th>\n",
              "    </tr>\n",
              "  </thead>\n",
              "  <tbody>\n",
              "    <tr>\n",
              "      <th>danceability</th>\n",
              "      <td>-7.854196</td>\n",
              "    </tr>\n",
              "    <tr>\n",
              "      <th>energy</th>\n",
              "      <td>9.052962</td>\n",
              "    </tr>\n",
              "    <tr>\n",
              "      <th>loudness</th>\n",
              "      <td>-1.269314</td>\n",
              "    </tr>\n",
              "    <tr>\n",
              "      <th>valence</th>\n",
              "      <td>-2.444697</td>\n",
              "    </tr>\n",
              "    <tr>\n",
              "      <th>speechiness</th>\n",
              "      <td>6.235278</td>\n",
              "    </tr>\n",
              "    <tr>\n",
              "      <th>tempo</th>\n",
              "      <td>0.017338</td>\n",
              "    </tr>\n",
              "  </tbody>\n",
              "</table>\n",
              "</div>\n",
              "      <button class=\"colab-df-convert\" onclick=\"convertToInteractive('df-7fce1931-33ee-4a81-bc06-ed803237bc28')\"\n",
              "              title=\"Convert this dataframe to an interactive table.\"\n",
              "              style=\"display:none;\">\n",
              "        \n",
              "  <svg xmlns=\"http://www.w3.org/2000/svg\" height=\"24px\"viewBox=\"0 0 24 24\"\n",
              "       width=\"24px\">\n",
              "    <path d=\"M0 0h24v24H0V0z\" fill=\"none\"/>\n",
              "    <path d=\"M18.56 5.44l.94 2.06.94-2.06 2.06-.94-2.06-.94-.94-2.06-.94 2.06-2.06.94zm-11 1L8.5 8.5l.94-2.06 2.06-.94-2.06-.94L8.5 2.5l-.94 2.06-2.06.94zm10 10l.94 2.06.94-2.06 2.06-.94-2.06-.94-.94-2.06-.94 2.06-2.06.94z\"/><path d=\"M17.41 7.96l-1.37-1.37c-.4-.4-.92-.59-1.43-.59-.52 0-1.04.2-1.43.59L10.3 9.45l-7.72 7.72c-.78.78-.78 2.05 0 2.83L4 21.41c.39.39.9.59 1.41.59.51 0 1.02-.2 1.41-.59l7.78-7.78 2.81-2.81c.8-.78.8-2.07 0-2.86zM5.41 20L4 18.59l7.72-7.72 1.47 1.35L5.41 20z\"/>\n",
              "  </svg>\n",
              "      </button>\n",
              "      \n",
              "  <style>\n",
              "    .colab-df-container {\n",
              "      display:flex;\n",
              "      flex-wrap:wrap;\n",
              "      gap: 12px;\n",
              "    }\n",
              "\n",
              "    .colab-df-convert {\n",
              "      background-color: #E8F0FE;\n",
              "      border: none;\n",
              "      border-radius: 50%;\n",
              "      cursor: pointer;\n",
              "      display: none;\n",
              "      fill: #1967D2;\n",
              "      height: 32px;\n",
              "      padding: 0 0 0 0;\n",
              "      width: 32px;\n",
              "    }\n",
              "\n",
              "    .colab-df-convert:hover {\n",
              "      background-color: #E2EBFA;\n",
              "      box-shadow: 0px 1px 2px rgba(60, 64, 67, 0.3), 0px 1px 3px 1px rgba(60, 64, 67, 0.15);\n",
              "      fill: #174EA6;\n",
              "    }\n",
              "\n",
              "    [theme=dark] .colab-df-convert {\n",
              "      background-color: #3B4455;\n",
              "      fill: #D2E3FC;\n",
              "    }\n",
              "\n",
              "    [theme=dark] .colab-df-convert:hover {\n",
              "      background-color: #434B5C;\n",
              "      box-shadow: 0px 1px 3px 1px rgba(0, 0, 0, 0.15);\n",
              "      filter: drop-shadow(0px 1px 2px rgba(0, 0, 0, 0.3));\n",
              "      fill: #FFFFFF;\n",
              "    }\n",
              "  </style>\n",
              "\n",
              "      <script>\n",
              "        const buttonEl =\n",
              "          document.querySelector('#df-7fce1931-33ee-4a81-bc06-ed803237bc28 button.colab-df-convert');\n",
              "        buttonEl.style.display =\n",
              "          google.colab.kernel.accessAllowed ? 'block' : 'none';\n",
              "\n",
              "        async function convertToInteractive(key) {\n",
              "          const element = document.querySelector('#df-7fce1931-33ee-4a81-bc06-ed803237bc28');\n",
              "          const dataTable =\n",
              "            await google.colab.kernel.invokeFunction('convertToInteractive',\n",
              "                                                     [key], {});\n",
              "          if (!dataTable) return;\n",
              "\n",
              "          const docLinkHtml = 'Like what you see? Visit the ' +\n",
              "            '<a target=\"_blank\" href=https://colab.research.google.com/notebooks/data_table.ipynb>data table notebook</a>'\n",
              "            + ' to learn more about interactive tables.';\n",
              "          element.innerHTML = '';\n",
              "          dataTable['output_type'] = 'display_data';\n",
              "          await google.colab.output.renderOutput(dataTable, element);\n",
              "          const docLink = document.createElement('div');\n",
              "          docLink.innerHTML = docLinkHtml;\n",
              "          element.appendChild(docLink);\n",
              "        }\n",
              "      </script>\n",
              "    </div>\n",
              "  </div>\n",
              "  "
            ],
            "text/plain": [
              "              Coefficient\n",
              "danceability    -7.854196\n",
              "energy           9.052962\n",
              "loudness        -1.269314\n",
              "valence         -2.444697\n",
              "speechiness      6.235278\n",
              "tempo            0.017338"
            ]
          },
          "execution_count": 65,
          "metadata": {},
          "output_type": "execute_result"
        }
      ],
      "source": [
        "# menampilkan hasil linear regression (koefisien dari model)\n",
        "coeff_df = pd.DataFrame(linear_regression_model.coef_, x.columns, columns = [\"Coefficient\"])\n",
        "coeff_df"
      ]
    },
    {
      "cell_type": "code",
      "execution_count": null,
      "metadata": {
        "colab": {
          "base_uri": "https://localhost:8080/"
        },
        "id": "Yj7NaBQmPs5W",
        "outputId": "48b567e2-7eb7-4047-8dc6-083aa7ff3ce4"
      },
      "outputs": [
        {
          "data": {
            "text/plain": [
              "1.2600592245545421"
            ]
          },
          "execution_count": 66,
          "metadata": {},
          "output_type": "execute_result"
        }
      ],
      "source": [
        "# mengambil bias dari model\n",
        "linear_regression_model.intercept_"
      ]
    },
    {
      "cell_type": "markdown",
      "metadata": {
        "id": "yBDL1UuuPs5Y"
      },
      "source": [
        "#### b. Model Evaluation"
      ]
    },
    {
      "cell_type": "code",
      "execution_count": null,
      "metadata": {
        "id": "56QzBNSHPs5a"
      },
      "outputs": [],
      "source": [
        "# menggunakan model untuk memprediksi nilai matematika menggunakan testing dataset\n",
        "predictions = linear_regression_model.predict(x_test)"
      ]
    },
    {
      "cell_type": "code",
      "execution_count": null,
      "metadata": {
        "colab": {
          "base_uri": "https://localhost:8080/",
          "height": 206
        },
        "id": "7-Qh4gakPs5b",
        "outputId": "1462860e-b2ef-455d-bd5b-23b89b52706c"
      },
      "outputs": [
        {
          "data": {
            "text/html": [
              "\n",
              "  <div id=\"df-cb3f8e72-af76-4f00-a9b2-98b1ab0e27a3\">\n",
              "    <div class=\"colab-df-container\">\n",
              "      <div>\n",
              "<style scoped>\n",
              "    .dataframe tbody tr th:only-of-type {\n",
              "        vertical-align: middle;\n",
              "    }\n",
              "\n",
              "    .dataframe tbody tr th {\n",
              "        vertical-align: top;\n",
              "    }\n",
              "\n",
              "    .dataframe thead th {\n",
              "        text-align: right;\n",
              "    }\n",
              "</style>\n",
              "<table border=\"1\" class=\"dataframe\">\n",
              "  <thead>\n",
              "    <tr style=\"text-align: right;\">\n",
              "      <th></th>\n",
              "      <th>danceability</th>\n",
              "      <th>energy</th>\n",
              "      <th>loudness</th>\n",
              "      <th>valence</th>\n",
              "      <th>speechiness</th>\n",
              "      <th>tempo</th>\n",
              "      <th>popularity</th>\n",
              "      <th>PREDICTED SCORE</th>\n",
              "    </tr>\n",
              "  </thead>\n",
              "  <tbody>\n",
              "    <tr>\n",
              "      <th>317</th>\n",
              "      <td>0.731</td>\n",
              "      <td>0.890</td>\n",
              "      <td>-2.374</td>\n",
              "      <td>0.517</td>\n",
              "      <td>0.0510</td>\n",
              "      <td>126.970</td>\n",
              "      <td>13</td>\n",
              "      <td>7.844628</td>\n",
              "    </tr>\n",
              "    <tr>\n",
              "      <th>460</th>\n",
              "      <td>0.588</td>\n",
              "      <td>0.903</td>\n",
              "      <td>-4.000</td>\n",
              "      <td>0.879</td>\n",
              "      <td>0.0440</td>\n",
              "      <td>117.034</td>\n",
              "      <td>10</td>\n",
              "      <td>10.048473</td>\n",
              "    </tr>\n",
              "    <tr>\n",
              "      <th>144</th>\n",
              "      <td>0.624</td>\n",
              "      <td>0.474</td>\n",
              "      <td>-6.772</td>\n",
              "      <td>0.519</td>\n",
              "      <td>0.0250</td>\n",
              "      <td>103.767</td>\n",
              "      <td>4</td>\n",
              "      <td>9.932136</td>\n",
              "    </tr>\n",
              "    <tr>\n",
              "      <th>603</th>\n",
              "      <td>0.567</td>\n",
              "      <td>0.970</td>\n",
              "      <td>-2.909</td>\n",
              "      <td>0.790</td>\n",
              "      <td>0.0733</td>\n",
              "      <td>143.011</td>\n",
              "      <td>7</td>\n",
              "      <td>10.285800</td>\n",
              "    </tr>\n",
              "    <tr>\n",
              "      <th>115</th>\n",
              "      <td>0.665</td>\n",
              "      <td>0.779</td>\n",
              "      <td>-6.371</td>\n",
              "      <td>0.880</td>\n",
              "      <td>0.0337</td>\n",
              "      <td>141.023</td>\n",
              "      <td>5</td>\n",
              "      <td>11.679929</td>\n",
              "    </tr>\n",
              "  </tbody>\n",
              "</table>\n",
              "</div>\n",
              "      <button class=\"colab-df-convert\" onclick=\"convertToInteractive('df-cb3f8e72-af76-4f00-a9b2-98b1ab0e27a3')\"\n",
              "              title=\"Convert this dataframe to an interactive table.\"\n",
              "              style=\"display:none;\">\n",
              "        \n",
              "  <svg xmlns=\"http://www.w3.org/2000/svg\" height=\"24px\"viewBox=\"0 0 24 24\"\n",
              "       width=\"24px\">\n",
              "    <path d=\"M0 0h24v24H0V0z\" fill=\"none\"/>\n",
              "    <path d=\"M18.56 5.44l.94 2.06.94-2.06 2.06-.94-2.06-.94-.94-2.06-.94 2.06-2.06.94zm-11 1L8.5 8.5l.94-2.06 2.06-.94-2.06-.94L8.5 2.5l-.94 2.06-2.06.94zm10 10l.94 2.06.94-2.06 2.06-.94-2.06-.94-.94-2.06-.94 2.06-2.06.94z\"/><path d=\"M17.41 7.96l-1.37-1.37c-.4-.4-.92-.59-1.43-.59-.52 0-1.04.2-1.43.59L10.3 9.45l-7.72 7.72c-.78.78-.78 2.05 0 2.83L4 21.41c.39.39.9.59 1.41.59.51 0 1.02-.2 1.41-.59l7.78-7.78 2.81-2.81c.8-.78.8-2.07 0-2.86zM5.41 20L4 18.59l7.72-7.72 1.47 1.35L5.41 20z\"/>\n",
              "  </svg>\n",
              "      </button>\n",
              "      \n",
              "  <style>\n",
              "    .colab-df-container {\n",
              "      display:flex;\n",
              "      flex-wrap:wrap;\n",
              "      gap: 12px;\n",
              "    }\n",
              "\n",
              "    .colab-df-convert {\n",
              "      background-color: #E8F0FE;\n",
              "      border: none;\n",
              "      border-radius: 50%;\n",
              "      cursor: pointer;\n",
              "      display: none;\n",
              "      fill: #1967D2;\n",
              "      height: 32px;\n",
              "      padding: 0 0 0 0;\n",
              "      width: 32px;\n",
              "    }\n",
              "\n",
              "    .colab-df-convert:hover {\n",
              "      background-color: #E2EBFA;\n",
              "      box-shadow: 0px 1px 2px rgba(60, 64, 67, 0.3), 0px 1px 3px 1px rgba(60, 64, 67, 0.15);\n",
              "      fill: #174EA6;\n",
              "    }\n",
              "\n",
              "    [theme=dark] .colab-df-convert {\n",
              "      background-color: #3B4455;\n",
              "      fill: #D2E3FC;\n",
              "    }\n",
              "\n",
              "    [theme=dark] .colab-df-convert:hover {\n",
              "      background-color: #434B5C;\n",
              "      box-shadow: 0px 1px 3px 1px rgba(0, 0, 0, 0.15);\n",
              "      filter: drop-shadow(0px 1px 2px rgba(0, 0, 0, 0.3));\n",
              "      fill: #FFFFFF;\n",
              "    }\n",
              "  </style>\n",
              "\n",
              "      <script>\n",
              "        const buttonEl =\n",
              "          document.querySelector('#df-cb3f8e72-af76-4f00-a9b2-98b1ab0e27a3 button.colab-df-convert');\n",
              "        buttonEl.style.display =\n",
              "          google.colab.kernel.accessAllowed ? 'block' : 'none';\n",
              "\n",
              "        async function convertToInteractive(key) {\n",
              "          const element = document.querySelector('#df-cb3f8e72-af76-4f00-a9b2-98b1ab0e27a3');\n",
              "          const dataTable =\n",
              "            await google.colab.kernel.invokeFunction('convertToInteractive',\n",
              "                                                     [key], {});\n",
              "          if (!dataTable) return;\n",
              "\n",
              "          const docLinkHtml = 'Like what you see? Visit the ' +\n",
              "            '<a target=\"_blank\" href=https://colab.research.google.com/notebooks/data_table.ipynb>data table notebook</a>'\n",
              "            + ' to learn more about interactive tables.';\n",
              "          element.innerHTML = '';\n",
              "          dataTable['output_type'] = 'display_data';\n",
              "          await google.colab.output.renderOutput(dataTable, element);\n",
              "          const docLink = document.createElement('div');\n",
              "          docLink.innerHTML = docLinkHtml;\n",
              "          element.appendChild(docLink);\n",
              "        }\n",
              "      </script>\n",
              "    </div>\n",
              "  </div>\n",
              "  "
            ],
            "text/plain": [
              "     danceability  energy  loudness  valence  speechiness    tempo  \\\n",
              "317         0.731   0.890    -2.374    0.517       0.0510  126.970   \n",
              "460         0.588   0.903    -4.000    0.879       0.0440  117.034   \n",
              "144         0.624   0.474    -6.772    0.519       0.0250  103.767   \n",
              "603         0.567   0.970    -2.909    0.790       0.0733  143.011   \n",
              "115         0.665   0.779    -6.371    0.880       0.0337  141.023   \n",
              "\n",
              "     popularity  PREDICTED SCORE  \n",
              "317          13         7.844628  \n",
              "460          10        10.048473  \n",
              "144           4         9.932136  \n",
              "603           7        10.285800  \n",
              "115           5        11.679929  "
            ]
          },
          "execution_count": 68,
          "metadata": {},
          "output_type": "execute_result"
        }
      ],
      "source": [
        "df_test_set = x_test\n",
        "df_test_set = df_test_set.join(y_test)\n",
        "df_test_set['PREDICTED SCORE'] = predictions\n",
        "df_test_set.head(5)"
      ]
    },
    {
      "cell_type": "code",
      "execution_count": null,
      "metadata": {
        "colab": {
          "base_uri": "https://localhost:8080/",
          "height": 421
        },
        "id": "oExne91UPs5d",
        "outputId": "d31e3e3e-5af7-4d4b-e661-8d80b8d33b8d"
      },
      "outputs": [
        {
          "data": {
            "text/plain": [
              "Text(0, 0.5, 'Predicted')"
            ]
          },
          "execution_count": 69,
          "metadata": {},
          "output_type": "execute_result"
        },
        {
          "data": {
            "image/png": "[encoded data removed]",
            "text/plain": [
              "<Figure size 576x432 with 1 Axes>"
            ]
          },
          "metadata": {},
          "output_type": "display_data"
        }
      ],
      "source": [
        "# membandingkan hasil prediksi dan nilai asli\n",
        "plt.figure(figsize=(8, 6))\n",
        "plt.scatter(y_test, predictions)\n",
        "plt.title(\"Results\")\n",
        "plt.xlabel(\"Actual\")\n",
        "plt.ylabel(\"Predicted\")"
      ]
    },
    {
      "cell_type": "code",
      "execution_count": null,
      "metadata": {
        "colab": {
          "base_uri": "https://localhost:8080/",
          "height": 407
        },
        "id": "g6c_-gy6Ps5f",
        "outputId": "050dacb4-eeed-42c8-96ff-344fee7bc173"
      },
      "outputs": [
        {
          "data": {
            "text/plain": [
              "<matplotlib.legend.Legend at 0x7fca2dfdb7d0>"
            ]
          },
          "execution_count": 70,
          "metadata": {},
          "output_type": "execute_result"
        },
        {
          "data": {
            "image/png": "[encoded data removed]",
            "text/plain": [
              "<Figure size 720x432 with 1 Axes>"
            ]
          },
          "metadata": {},
          "output_type": "display_data"
        }
      ],
      "source": [
        "import numpy as np\n",
        "plt.figure(figsize=(10, 6))\n",
        "\n",
        "# mengurutkan nilai asli dari terkecil hingga tertinggi\n",
        "y_sorted = np.sort(y_test.tolist())\n",
        "y_sorted_index = np.argsort(y_test.tolist())\n",
        "\n",
        "# merubah urutan prediction score berdasarkan urutan y_sorted \n",
        "predictions_sorted = predictions[y_sorted_index]\n",
        "\n",
        "# plot kedua score\n",
        "plt.scatter(np.arange(0,len(y_sorted)), y_sorted, label='actual')\n",
        "plt.scatter(np.arange(0,len(y_sorted)), predictions_sorted, label='prediction')\n",
        "plt.title(\"Perbandingan nilai asli dengan prediksi model\")\n",
        "plt.legend()"
      ]
    },
    {
      "cell_type": "code",
      "execution_count": null,
      "metadata": {
        "colab": {
          "base_uri": "https://localhost:8080/"
        },
        "id": "SwWDAgODPs5h",
        "outputId": "427ad63a-23c4-4a19-b5e8-8c612b5058d6"
      },
      "outputs": [
        {
          "name": "stdout",
          "output_type": "stream",
          "text": [
            "MAE: 4.84863031257623\n",
            "MSE: 40.075611856682336\n",
            "RMSE: 6.330530140255422\n"
          ]
        }
      ],
      "source": [
        "# mengevaluasi model dengan 3 metrik berbeda\n",
        "print('MAE:', metrics.mean_absolute_error(y_test, predictions))\n",
        "print('MSE:', metrics.mean_squared_error(y_test, predictions))\n",
        "print('RMSE:', np.sqrt(metrics.mean_squared_error(y_test, predictions)))"
      ]
    },
    {
      "cell_type": "markdown",
      "metadata": {
        "id": "p5BGBw46ROIc"
      },
      "source": [
        "### **Model 3**: Karaoke Mode\n",
        "\n",
        "1. **Independent variables (X) :** 'danceability', 'loudness', 'valence', 'speechiness', 'tempo'\n",
        "2. **Dependent variable (Y) :** 'popularity'"
      ]
    },
    {
      "cell_type": "markdown",
      "metadata": {
        "id": "6GHytl9mROIg"
      },
      "source": [
        "#### a. Model Building"
      ]
    },
    {
      "cell_type": "code",
      "execution_count": null,
      "metadata": {
        "colab": {
          "base_uri": "https://localhost:8080/"
        },
        "id": "5KEKMA-5ROIj",
        "outputId": "437b098e-05c3-4684-9708-0e3ac8500be2"
      },
      "outputs": [
        {
          "name": "stdout",
          "output_type": "stream",
          "text": [
            "X_train :  (545, 5)\n",
            "X_test :  (137, 5)\n",
            "Y_train :  (545,)\n",
            "Y_test :  (137,)\n"
          ]
        }
      ],
      "source": [
        "# memilih kolom untuk digunakan sebagai fitur model -- menghilangkan target variabel dan kolom tidak penting lainnya\n",
        "x = features_df.drop(columns=['popularity', 'length', 'acousticness', 'instrumentalness', 'liveness', 'mode', 'key', 'energy'])\n",
        "# memilih kolom untuk digunakan sebagai variabel target\n",
        "y = features_df['popularity']\n",
        "\n",
        "# membagi data ke training dan testing data\n",
        "x_train, x_test, y_train, y_test = train_test_split(x, y, test_size=0.2)\n",
        "\n",
        "print(\"X_train : \", x_train.shape)\n",
        "print(\"X_test : \", x_test.shape)\n",
        "print(\"Y_train : \", y_train.shape)\n",
        "print(\"Y_test : \", y_test.shape)"
      ]
    },
    {
      "cell_type": "code",
      "execution_count": null,
      "metadata": {
        "colab": {
          "base_uri": "https://localhost:8080/"
        },
        "id": "jxSF2ZdtROIm",
        "outputId": "c721c95c-6dad-4e75-e51d-e6616cd58ebe"
      },
      "outputs": [
        {
          "data": {
            "text/plain": [
              "LinearRegression()"
            ]
          },
          "execution_count": 83,
          "metadata": {},
          "output_type": "execute_result"
        }
      ],
      "source": [
        "# membuat model linear regression\n",
        "linear_regression_model = LinearRegression()\n",
        "# \"training\" model dengan dataset yang sesuai\n",
        "linear_regression_model.fit(x_train,y_train)"
      ]
    },
    {
      "cell_type": "code",
      "execution_count": null,
      "metadata": {
        "colab": {
          "base_uri": "https://localhost:8080/"
        },
        "id": "kYSg5hcuROIo",
        "outputId": "1e5c653e-7460-4d00-ba88-d0113ab11c39"
      },
      "outputs": [
        {
          "data": {
            "text/plain": [
              "array([-6.682794  , -0.78362358, -1.23480523, 23.14452511,  0.03081435])"
            ]
          },
          "execution_count": 84,
          "metadata": {},
          "output_type": "execute_result"
        }
      ],
      "source": [
        "# mengambil koefisien yang didapatkan dari model\n",
        "linear_regression_model.coef_"
      ]
    },
    {
      "cell_type": "code",
      "execution_count": null,
      "metadata": {
        "colab": {
          "base_uri": "https://localhost:8080/",
          "height": 206
        },
        "id": "Krf3KQvdROIq",
        "outputId": "03eea722-aaef-4964-a3ce-d25198c2c86f"
      },
      "outputs": [
        {
          "data": {
            "text/html": [
              "\n",
              "  <div id=\"df-41fce9f8-6d94-4e74-bc46-175ab387eb9a\">\n",
              "    <div class=\"colab-df-container\">\n",
              "      <div>\n",
              "<style scoped>\n",
              "    .dataframe tbody tr th:only-of-type {\n",
              "        vertical-align: middle;\n",
              "    }\n",
              "\n",
              "    .dataframe tbody tr th {\n",
              "        vertical-align: top;\n",
              "    }\n",
              "\n",
              "    .dataframe thead th {\n",
              "        text-align: right;\n",
              "    }\n",
              "</style>\n",
              "<table border=\"1\" class=\"dataframe\">\n",
              "  <thead>\n",
              "    <tr style=\"text-align: right;\">\n",
              "      <th></th>\n",
              "      <th>Coefficient</th>\n",
              "    </tr>\n",
              "  </thead>\n",
              "  <tbody>\n",
              "    <tr>\n",
              "      <th>danceability</th>\n",
              "      <td>-6.682794</td>\n",
              "    </tr>\n",
              "    <tr>\n",
              "      <th>loudness</th>\n",
              "      <td>-0.783624</td>\n",
              "    </tr>\n",
              "    <tr>\n",
              "      <th>valence</th>\n",
              "      <td>-1.234805</td>\n",
              "    </tr>\n",
              "    <tr>\n",
              "      <th>speechiness</th>\n",
              "      <td>23.144525</td>\n",
              "    </tr>\n",
              "    <tr>\n",
              "      <th>tempo</th>\n",
              "      <td>0.030814</td>\n",
              "    </tr>\n",
              "  </tbody>\n",
              "</table>\n",
              "</div>\n",
              "      <button class=\"colab-df-convert\" onclick=\"convertToInteractive('df-41fce9f8-6d94-4e74-bc46-175ab387eb9a')\"\n",
              "              title=\"Convert this dataframe to an interactive table.\"\n",
              "              style=\"display:none;\">\n",
              "        \n",
              "  <svg xmlns=\"http://www.w3.org/2000/svg\" height=\"24px\"viewBox=\"0 0 24 24\"\n",
              "       width=\"24px\">\n",
              "    <path d=\"M0 0h24v24H0V0z\" fill=\"none\"/>\n",
              "    <path d=\"M18.56 5.44l.94 2.06.94-2.06 2.06-.94-2.06-.94-.94-2.06-.94 2.06-2.06.94zm-11 1L8.5 8.5l.94-2.06 2.06-.94-2.06-.94L8.5 2.5l-.94 2.06-2.06.94zm10 10l.94 2.06.94-2.06 2.06-.94-2.06-.94-.94-2.06-.94 2.06-2.06.94z\"/><path d=\"M17.41 7.96l-1.37-1.37c-.4-.4-.92-.59-1.43-.59-.52 0-1.04.2-1.43.59L10.3 9.45l-7.72 7.72c-.78.78-.78 2.05 0 2.83L4 21.41c.39.39.9.59 1.41.59.51 0 1.02-.2 1.41-.59l7.78-7.78 2.81-2.81c.8-.78.8-2.07 0-2.86zM5.41 20L4 18.59l7.72-7.72 1.47 1.35L5.41 20z\"/>\n",
              "  </svg>\n",
              "      </button>\n",
              "      \n",
              "  <style>\n",
              "    .colab-df-container {\n",
              "      display:flex;\n",
              "      flex-wrap:wrap;\n",
              "      gap: 12px;\n",
              "    }\n",
              "\n",
              "    .colab-df-convert {\n",
              "      background-color: #E8F0FE;\n",
              "      border: none;\n",
              "      border-radius: 50%;\n",
              "      cursor: pointer;\n",
              "      display: none;\n",
              "      fill: #1967D2;\n",
              "      height: 32px;\n",
              "      padding: 0 0 0 0;\n",
              "      width: 32px;\n",
              "    }\n",
              "\n",
              "    .colab-df-convert:hover {\n",
              "      background-color: #E2EBFA;\n",
              "      box-shadow: 0px 1px 2px rgba(60, 64, 67, 0.3), 0px 1px 3px 1px rgba(60, 64, 67, 0.15);\n",
              "      fill: #174EA6;\n",
              "    }\n",
              "\n",
              "    [theme=dark] .colab-df-convert {\n",
              "      background-color: #3B4455;\n",
              "      fill: #D2E3FC;\n",
              "    }\n",
              "\n",
              "    [theme=dark] .colab-df-convert:hover {\n",
              "      background-color: #434B5C;\n",
              "      box-shadow: 0px 1px 3px 1px rgba(0, 0, 0, 0.15);\n",
              "      filter: drop-shadow(0px 1px 2px rgba(0, 0, 0, 0.3));\n",
              "      fill: #FFFFFF;\n",
              "    }\n",
              "  </style>\n",
              "\n",
              "      <script>\n",
              "        const buttonEl =\n",
              "          document.querySelector('#df-41fce9f8-6d94-4e74-bc46-175ab387eb9a button.colab-df-convert');\n",
              "        buttonEl.style.display =\n",
              "          google.colab.kernel.accessAllowed ? 'block' : 'none';\n",
              "\n",
              "        async function convertToInteractive(key) {\n",
              "          const element = document.querySelector('#df-41fce9f8-6d94-4e74-bc46-175ab387eb9a');\n",
              "          const dataTable =\n",
              "            await google.colab.kernel.invokeFunction('convertToInteractive',\n",
              "                                                     [key], {});\n",
              "          if (!dataTable) return;\n",
              "\n",
              "          const docLinkHtml = 'Like what you see? Visit the ' +\n",
              "            '<a target=\"_blank\" href=https://colab.research.google.com/notebooks/data_table.ipynb>data table notebook</a>'\n",
              "            + ' to learn more about interactive tables.';\n",
              "          element.innerHTML = '';\n",
              "          dataTable['output_type'] = 'display_data';\n",
              "          await google.colab.output.renderOutput(dataTable, element);\n",
              "          const docLink = document.createElement('div');\n",
              "          docLink.innerHTML = docLinkHtml;\n",
              "          element.appendChild(docLink);\n",
              "        }\n",
              "      </script>\n",
              "    </div>\n",
              "  </div>\n",
              "  "
            ],
            "text/plain": [
              "              Coefficient\n",
              "danceability    -6.682794\n",
              "loudness        -0.783624\n",
              "valence         -1.234805\n",
              "speechiness     23.144525\n",
              "tempo            0.030814"
            ]
          },
          "execution_count": 85,
          "metadata": {},
          "output_type": "execute_result"
        }
      ],
      "source": [
        "# menampilkan hasil linear regression (koefisien dari model)\n",
        "coeff_df = pd.DataFrame(linear_regression_model.coef_, x.columns, columns = [\"Coefficient\"])\n",
        "coeff_df"
      ]
    },
    {
      "cell_type": "code",
      "execution_count": null,
      "metadata": {
        "colab": {
          "base_uri": "https://localhost:8080/"
        },
        "id": "hD6kFe0fROIs",
        "outputId": "879b0216-7b32-476d-93b5-7b4a2b33b87b"
      },
      "outputs": [
        {
          "data": {
            "text/plain": [
              "6.916898796850765"
            ]
          },
          "execution_count": 86,
          "metadata": {},
          "output_type": "execute_result"
        }
      ],
      "source": [
        "# mengambil bias dari model\n",
        "linear_regression_model.intercept_"
      ]
    },
    {
      "cell_type": "markdown",
      "metadata": {
        "id": "rBZW-lglROIu"
      },
      "source": [
        "#### b. Model Evaluation"
      ]
    },
    {
      "cell_type": "code",
      "execution_count": null,
      "metadata": {
        "id": "zSdQoFfHROIv"
      },
      "outputs": [],
      "source": [
        "# menggunakan model untuk memprediksi nilai matematika menggunakan testing dataset\n",
        "predictions = linear_regression_model.predict(x_test)"
      ]
    },
    {
      "cell_type": "code",
      "execution_count": null,
      "metadata": {
        "colab": {
          "base_uri": "https://localhost:8080/",
          "height": 206
        },
        "id": "tkbhLiPCROIz",
        "outputId": "d0de7720-6e67-4551-dbd7-05d553e8f753"
      },
      "outputs": [
        {
          "data": {
            "text/html": [
              "\n",
              "  <div id=\"df-9b243bb4-8a7c-442f-807e-0917dce4a1fc\">\n",
              "    <div class=\"colab-df-container\">\n",
              "      <div>\n",
              "<style scoped>\n",
              "    .dataframe tbody tr th:only-of-type {\n",
              "        vertical-align: middle;\n",
              "    }\n",
              "\n",
              "    .dataframe tbody tr th {\n",
              "        vertical-align: top;\n",
              "    }\n",
              "\n",
              "    .dataframe thead th {\n",
              "        text-align: right;\n",
              "    }\n",
              "</style>\n",
              "<table border=\"1\" class=\"dataframe\">\n",
              "  <thead>\n",
              "    <tr style=\"text-align: right;\">\n",
              "      <th></th>\n",
              "      <th>danceability</th>\n",
              "      <th>loudness</th>\n",
              "      <th>valence</th>\n",
              "      <th>speechiness</th>\n",
              "      <th>tempo</th>\n",
              "      <th>popularity</th>\n",
              "      <th>PREDICTED SCORE</th>\n",
              "    </tr>\n",
              "  </thead>\n",
              "  <tbody>\n",
              "    <tr>\n",
              "      <th>530</th>\n",
              "      <td>0.600</td>\n",
              "      <td>-4.116</td>\n",
              "      <td>0.779</td>\n",
              "      <td>0.0930</td>\n",
              "      <td>132.037</td>\n",
              "      <td>6</td>\n",
              "      <td>11.391778</td>\n",
              "    </tr>\n",
              "    <tr>\n",
              "      <th>628</th>\n",
              "      <td>0.546</td>\n",
              "      <td>-2.015</td>\n",
              "      <td>0.440</td>\n",
              "      <td>0.0335</td>\n",
              "      <td>100.031</td>\n",
              "      <td>6</td>\n",
              "      <td>8.161512</td>\n",
              "    </tr>\n",
              "    <tr>\n",
              "      <th>334</th>\n",
              "      <td>0.737</td>\n",
              "      <td>-6.452</td>\n",
              "      <td>0.890</td>\n",
              "      <td>0.0364</td>\n",
              "      <td>98.008</td>\n",
              "      <td>15</td>\n",
              "      <td>9.811155</td>\n",
              "    </tr>\n",
              "    <tr>\n",
              "      <th>435</th>\n",
              "      <td>0.387</td>\n",
              "      <td>-3.436</td>\n",
              "      <td>0.553</td>\n",
              "      <td>0.0864</td>\n",
              "      <td>175.065</td>\n",
              "      <td>17</td>\n",
              "      <td>13.734541</td>\n",
              "    </tr>\n",
              "    <tr>\n",
              "      <th>260</th>\n",
              "      <td>0.528</td>\n",
              "      <td>-5.834</td>\n",
              "      <td>0.250</td>\n",
              "      <td>0.0299</td>\n",
              "      <td>133.772</td>\n",
              "      <td>7</td>\n",
              "      <td>12.465460</td>\n",
              "    </tr>\n",
              "  </tbody>\n",
              "</table>\n",
              "</div>\n",
              "      <button class=\"colab-df-convert\" onclick=\"convertToInteractive('df-9b243bb4-8a7c-442f-807e-0917dce4a1fc')\"\n",
              "              title=\"Convert this dataframe to an interactive table.\"\n",
              "              style=\"display:none;\">\n",
              "        \n",
              "  <svg xmlns=\"http://www.w3.org/2000/svg\" height=\"24px\"viewBox=\"0 0 24 24\"\n",
              "       width=\"24px\">\n",
              "    <path d=\"M0 0h24v24H0V0z\" fill=\"none\"/>\n",
              "    <path d=\"M18.56 5.44l.94 2.06.94-2.06 2.06-.94-2.06-.94-.94-2.06-.94 2.06-2.06.94zm-11 1L8.5 8.5l.94-2.06 2.06-.94-2.06-.94L8.5 2.5l-.94 2.06-2.06.94zm10 10l.94 2.06.94-2.06 2.06-.94-2.06-.94-.94-2.06-.94 2.06-2.06.94z\"/><path d=\"M17.41 7.96l-1.37-1.37c-.4-.4-.92-.59-1.43-.59-.52 0-1.04.2-1.43.59L10.3 9.45l-7.72 7.72c-.78.78-.78 2.05 0 2.83L4 21.41c.39.39.9.59 1.41.59.51 0 1.02-.2 1.41-.59l7.78-7.78 2.81-2.81c.8-.78.8-2.07 0-2.86zM5.41 20L4 18.59l7.72-7.72 1.47 1.35L5.41 20z\"/>\n",
              "  </svg>\n",
              "      </button>\n",
              "      \n",
              "  <style>\n",
              "    .colab-df-container {\n",
              "      display:flex;\n",
              "      flex-wrap:wrap;\n",
              "      gap: 12px;\n",
              "    }\n",
              "\n",
              "    .colab-df-convert {\n",
              "      background-color: #E8F0FE;\n",
              "      border: none;\n",
              "      border-radius: 50%;\n",
              "      cursor: pointer;\n",
              "      display: none;\n",
              "      fill: #1967D2;\n",
              "      height: 32px;\n",
              "      padding: 0 0 0 0;\n",
              "      width: 32px;\n",
              "    }\n",
              "\n",
              "    .colab-df-convert:hover {\n",
              "      background-color: #E2EBFA;\n",
              "      box-shadow: 0px 1px 2px rgba(60, 64, 67, 0.3), 0px 1px 3px 1px rgba(60, 64, 67, 0.15);\n",
              "      fill: #174EA6;\n",
              "    }\n",
              "\n",
              "    [theme=dark] .colab-df-convert {\n",
              "      background-color: #3B4455;\n",
              "      fill: #D2E3FC;\n",
              "    }\n",
              "\n",
              "    [theme=dark] .colab-df-convert:hover {\n",
              "      background-color: #434B5C;\n",
              "      box-shadow: 0px 1px 3px 1px rgba(0, 0, 0, 0.15);\n",
              "      filter: drop-shadow(0px 1px 2px rgba(0, 0, 0, 0.3));\n",
              "      fill: #FFFFFF;\n",
              "    }\n",
              "  </style>\n",
              "\n",
              "      <script>\n",
              "        const buttonEl =\n",
              "          document.querySelector('#df-9b243bb4-8a7c-442f-807e-0917dce4a1fc button.colab-df-convert');\n",
              "        buttonEl.style.display =\n",
              "          google.colab.kernel.accessAllowed ? 'block' : 'none';\n",
              "\n",
              "        async function convertToInteractive(key) {\n",
              "          const element = document.querySelector('#df-9b243bb4-8a7c-442f-807e-0917dce4a1fc');\n",
              "          const dataTable =\n",
              "            await google.colab.kernel.invokeFunction('convertToInteractive',\n",
              "                                                     [key], {});\n",
              "          if (!dataTable) return;\n",
              "\n",
              "          const docLinkHtml = 'Like what you see? Visit the ' +\n",
              "            '<a target=\"_blank\" href=https://colab.research.google.com/notebooks/data_table.ipynb>data table notebook</a>'\n",
              "            + ' to learn more about interactive tables.';\n",
              "          element.innerHTML = '';\n",
              "          dataTable['output_type'] = 'display_data';\n",
              "          await google.colab.output.renderOutput(dataTable, element);\n",
              "          const docLink = document.createElement('div');\n",
              "          docLink.innerHTML = docLinkHtml;\n",
              "          element.appendChild(docLink);\n",
              "        }\n",
              "      </script>\n",
              "    </div>\n",
              "  </div>\n",
              "  "
            ],
            "text/plain": [
              "     danceability  loudness  valence  speechiness    tempo  popularity  \\\n",
              "530         0.600    -4.116    0.779       0.0930  132.037           6   \n",
              "628         0.546    -2.015    0.440       0.0335  100.031           6   \n",
              "334         0.737    -6.452    0.890       0.0364   98.008          15   \n",
              "435         0.387    -3.436    0.553       0.0864  175.065          17   \n",
              "260         0.528    -5.834    0.250       0.0299  133.772           7   \n",
              "\n",
              "     PREDICTED SCORE  \n",
              "530        11.391778  \n",
              "628         8.161512  \n",
              "334         9.811155  \n",
              "435        13.734541  \n",
              "260        12.465460  "
            ]
          },
          "execution_count": 88,
          "metadata": {},
          "output_type": "execute_result"
        }
      ],
      "source": [
        "df_test_set = x_test\n",
        "df_test_set = df_test_set.join(y_test)\n",
        "df_test_set['PREDICTED SCORE'] = predictions\n",
        "df_test_set.head(5)"
      ]
    },
    {
      "cell_type": "code",
      "execution_count": null,
      "metadata": {
        "colab": {
          "base_uri": "https://localhost:8080/",
          "height": 421
        },
        "id": "ZjOqu2CBROI1",
        "outputId": "60da2bb7-e079-413f-852b-7390be7d6dda"
      },
      "outputs": [
        {
          "data": {
            "text/plain": [
              "Text(0, 0.5, 'Predicted')"
            ]
          },
          "execution_count": 89,
          "metadata": {},
          "output_type": "execute_result"
        },
        {
          "data": {
            "image/png": "[encoded data removed]",
            "text/plain": [
              "<Figure size 576x432 with 1 Axes>"
            ]
          },
          "metadata": {},
          "output_type": "display_data"
        }
      ],
      "source": [
        "# membandingkan hasil prediksi dan nilai asli\n",
        "plt.figure(figsize=(8, 6))\n",
        "plt.scatter(y_test, predictions)\n",
        "plt.title(\"Results\")\n",
        "plt.xlabel(\"Actual\")\n",
        "plt.ylabel(\"Predicted\")"
      ]
    },
    {
      "cell_type": "code",
      "execution_count": null,
      "metadata": {
        "colab": {
          "base_uri": "https://localhost:8080/",
          "height": 407
        },
        "id": "yTycD9r8ROI3",
        "outputId": "a7a7061a-3bf7-4b45-a79a-af7216b7261d"
      },
      "outputs": [
        {
          "data": {
            "text/plain": [
              "<matplotlib.legend.Legend at 0x7fca2ddad950>"
            ]
          },
          "execution_count": 90,
          "metadata": {},
          "output_type": "execute_result"
        },
        {
          "data": {
            "image/png": "[encoded data removed]",
            "text/plain": [
              "<Figure size 720x432 with 1 Axes>"
            ]
          },
          "metadata": {},
          "output_type": "display_data"
        }
      ],
      "source": [
        "import numpy as np\n",
        "plt.figure(figsize=(10, 6))\n",
        "\n",
        "# mengurutkan nilai asli dari terkecil hingga tertinggi\n",
        "y_sorted = np.sort(y_test.tolist())\n",
        "y_sorted_index = np.argsort(y_test.tolist())\n",
        "\n",
        "# merubah urutan prediction score berdasarkan urutan y_sorted \n",
        "predictions_sorted = predictions[y_sorted_index]\n",
        "\n",
        "# plot kedua score\n",
        "plt.scatter(np.arange(0,len(y_sorted)), y_sorted, label='actual')\n",
        "plt.scatter(np.arange(0,len(y_sorted)), predictions_sorted, label='prediction')\n",
        "plt.title(\"Perbandingan nilai asli dengan prediksi model\")\n",
        "plt.legend()"
      ]
    },
    {
      "cell_type": "code",
      "execution_count": null,
      "metadata": {
        "colab": {
          "base_uri": "https://localhost:8080/"
        },
        "id": "YP5pw0uBROI5",
        "outputId": "c3239ee1-7b95-4281-ddfd-bb315c2ec4bb"
      },
      "outputs": [
        {
          "name": "stdout",
          "output_type": "stream",
          "text": [
            "MAE: 4.657053092539883\n",
            "MSE: 36.38957383762758\n",
            "RMSE: 6.03237712992379\n"
          ]
        }
      ],
      "source": [
        "# mengevaluasi model dengan 3 metrik berbeda\n",
        "print('MAE:', metrics.mean_absolute_error(y_test, predictions))\n",
        "print('MSE:', metrics.mean_squared_error(y_test, predictions))\n",
        "print('RMSE:', np.sqrt(metrics.mean_squared_error(y_test, predictions)))"
      ]
    },
    {
      "cell_type": "markdown",
      "metadata": {
        "id": "7WAgE-1uQocy"
      },
      "source": [
        "### **Model 4**: Let's Dance\n",
        "\n",
        "1. **Independent variables (X) :** 'danceability', 'energy', 'loudness', 'valence', 'tempo'\n",
        "2. **Dependent variable (Y) :** 'popularity'"
      ]
    },
    {
      "cell_type": "markdown",
      "metadata": {
        "id": "k4gWlUKEQoc1"
      },
      "source": [
        "#### a. Model Building"
      ]
    },
    {
      "cell_type": "code",
      "execution_count": null,
      "metadata": {
        "colab": {
          "base_uri": "https://localhost:8080/"
        },
        "id": "GSlG1ENpQoc2",
        "outputId": "e5b79b47-cf84-44b0-9abc-b35bc3aba932"
      },
      "outputs": [
        {
          "name": "stdout",
          "output_type": "stream",
          "text": [
            "X_train :  (545, 5)\n",
            "X_test :  (137, 5)\n",
            "Y_train :  (545,)\n",
            "Y_test :  (137,)\n"
          ]
        }
      ],
      "source": [
        "# memilih kolom untuk digunakan sebagai fitur model -- menghilangkan target variabel dan kolom tidak penting lainnya\n",
        "x = features_df.drop(columns=['popularity', 'length', 'acousticness', 'instrumentalness', 'liveness', 'mode', 'speechiness', 'key'])\n",
        "# memilih kolom untuk digunakan sebagai variabel target\n",
        "y = features_df['popularity']\n",
        "\n",
        "# membagi data ke training dan testing data\n",
        "x_train, x_test, y_train, y_test = train_test_split(x, y, test_size=0.2)\n",
        "\n",
        "print(\"X_train : \", x_train.shape)\n",
        "print(\"X_test : \", x_test.shape)\n",
        "print(\"Y_train : \", y_train.shape)\n",
        "print(\"Y_test : \", y_test.shape)"
      ]
    },
    {
      "cell_type": "code",
      "execution_count": null,
      "metadata": {
        "colab": {
          "base_uri": "https://localhost:8080/"
        },
        "id": "-MsspUEJQoc4",
        "outputId": "463a1b4f-0ba3-42a3-8774-8512affb9807"
      },
      "outputs": [
        {
          "data": {
            "text/plain": [
              "LinearRegression()"
            ]
          },
          "execution_count": 93,
          "metadata": {},
          "output_type": "execute_result"
        }
      ],
      "source": [
        "# membuat model linear regression\n",
        "linear_regression_model = LinearRegression()\n",
        "# \"training\" model dengan dataset yang sesuai\n",
        "linear_regression_model.fit(x_train,y_train)"
      ]
    },
    {
      "cell_type": "code",
      "execution_count": null,
      "metadata": {
        "colab": {
          "background_save": true,
          "base_uri": "https://localhost:8080/"
        },
        "id": "mR1SjvA5Qoc6",
        "outputId": "707e63ff-a64a-42d9-b05d-ef6bf09fe075"
      },
      "outputs": [
        {
          "data": {
            "text/plain": [
              "array([-6.99752207,  9.98493347, -1.03783006, -3.65926716,  0.02677711])"
            ]
          },
          "execution_count": 104,
          "metadata": {},
          "output_type": "execute_result"
        }
      ],
      "source": [
        "# mengambil koefisien yang didapatkan dari model\n",
        "linear_regression_model.coef_"
      ]
    },
    {
      "cell_type": "code",
      "execution_count": null,
      "metadata": {
        "colab": {
          "background_save": true,
          "base_uri": "https://localhost:8080/"
        },
        "id": "dHuWgJZeQoc8",
        "outputId": "1e178ad0-d146-49df-bb56-ffc9d65f9c47"
      },
      "outputs": [
        {
          "data": {
            "text/html": [
              "\n",
              "  <div id=\"df-fe589d42-79f4-4c49-afc5-af231e6f33a9\">\n",
              "    <div class=\"colab-df-container\">\n",
              "      <div>\n",
              "<style scoped>\n",
              "    .dataframe tbody tr th:only-of-type {\n",
              "        vertical-align: middle;\n",
              "    }\n",
              "\n",
              "    .dataframe tbody tr th {\n",
              "        vertical-align: top;\n",
              "    }\n",
              "\n",
              "    .dataframe thead th {\n",
              "        text-align: right;\n",
              "    }\n",
              "</style>\n",
              "<table border=\"1\" class=\"dataframe\">\n",
              "  <thead>\n",
              "    <tr style=\"text-align: right;\">\n",
              "      <th></th>\n",
              "      <th>Coefficient</th>\n",
              "    </tr>\n",
              "  </thead>\n",
              "  <tbody>\n",
              "    <tr>\n",
              "      <th>danceability</th>\n",
              "      <td>-6.997522</td>\n",
              "    </tr>\n",
              "    <tr>\n",
              "      <th>energy</th>\n",
              "      <td>9.984933</td>\n",
              "    </tr>\n",
              "    <tr>\n",
              "      <th>loudness</th>\n",
              "      <td>-1.037830</td>\n",
              "    </tr>\n",
              "    <tr>\n",
              "      <th>valence</th>\n",
              "      <td>-3.659267</td>\n",
              "    </tr>\n",
              "    <tr>\n",
              "      <th>tempo</th>\n",
              "      <td>0.026777</td>\n",
              "    </tr>\n",
              "  </tbody>\n",
              "</table>\n",
              "</div>\n",
              "      <button class=\"colab-df-convert\" onclick=\"convertToInteractive('df-fe589d42-79f4-4c49-afc5-af231e6f33a9')\"\n",
              "              title=\"Convert this dataframe to an interactive table.\"\n",
              "              style=\"display:none;\">\n",
              "        \n",
              "  <svg xmlns=\"http://www.w3.org/2000/svg\" height=\"24px\"viewBox=\"0 0 24 24\"\n",
              "       width=\"24px\">\n",
              "    <path d=\"M0 0h24v24H0V0z\" fill=\"none\"/>\n",
              "    <path d=\"M18.56 5.44l.94 2.06.94-2.06 2.06-.94-2.06-.94-.94-2.06-.94 2.06-2.06.94zm-11 1L8.5 8.5l.94-2.06 2.06-.94-2.06-.94L8.5 2.5l-.94 2.06-2.06.94zm10 10l.94 2.06.94-2.06 2.06-.94-2.06-.94-.94-2.06-.94 2.06-2.06.94z\"/><path d=\"M17.41 7.96l-1.37-1.37c-.4-.4-.92-.59-1.43-.59-.52 0-1.04.2-1.43.59L10.3 9.45l-7.72 7.72c-.78.78-.78 2.05 0 2.83L4 21.41c.39.39.9.59 1.41.59.51 0 1.02-.2 1.41-.59l7.78-7.78 2.81-2.81c.8-.78.8-2.07 0-2.86zM5.41 20L4 18.59l7.72-7.72 1.47 1.35L5.41 20z\"/>\n",
              "  </svg>\n",
              "      </button>\n",
              "      \n",
              "  <style>\n",
              "    .colab-df-container {\n",
              "      display:flex;\n",
              "      flex-wrap:wrap;\n",
              "      gap: 12px;\n",
              "    }\n",
              "\n",
              "    .colab-df-convert {\n",
              "      background-color: #E8F0FE;\n",
              "      border: none;\n",
              "      border-radius: 50%;\n",
              "      cursor: pointer;\n",
              "      display: none;\n",
              "      fill: #1967D2;\n",
              "      height: 32px;\n",
              "      padding: 0 0 0 0;\n",
              "      width: 32px;\n",
              "    }\n",
              "\n",
              "    .colab-df-convert:hover {\n",
              "      background-color: #E2EBFA;\n",
              "      box-shadow: 0px 1px 2px rgba(60, 64, 67, 0.3), 0px 1px 3px 1px rgba(60, 64, 67, 0.15);\n",
              "      fill: #174EA6;\n",
              "    }\n",
              "\n",
              "    [theme=dark] .colab-df-convert {\n",
              "      background-color: #3B4455;\n",
              "      fill: #D2E3FC;\n",
              "    }\n",
              "\n",
              "    [theme=dark] .colab-df-convert:hover {\n",
              "      background-color: #434B5C;\n",
              "      box-shadow: 0px 1px 3px 1px rgba(0, 0, 0, 0.15);\n",
              "      filter: drop-shadow(0px 1px 2px rgba(0, 0, 0, 0.3));\n",
              "      fill: #FFFFFF;\n",
              "    }\n",
              "  </style>\n",
              "\n",
              "      <script>\n",
              "        const buttonEl =\n",
              "          document.querySelector('#df-fe589d42-79f4-4c49-afc5-af231e6f33a9 button.colab-df-convert');\n",
              "        buttonEl.style.display =\n",
              "          google.colab.kernel.accessAllowed ? 'block' : 'none';\n",
              "\n",
              "        async function convertToInteractive(key) {\n",
              "          const element = document.querySelector('#df-fe589d42-79f4-4c49-afc5-af231e6f33a9');\n",
              "          const dataTable =\n",
              "            await google.colab.kernel.invokeFunction('convertToInteractive',\n",
              "                                                     [key], {});\n",
              "          if (!dataTable) return;\n",
              "\n",
              "          const docLinkHtml = 'Like what you see? Visit the ' +\n",
              "            '<a target=\"_blank\" href=https://colab.research.google.com/notebooks/data_table.ipynb>data table notebook</a>'\n",
              "            + ' to learn more about interactive tables.';\n",
              "          element.innerHTML = '';\n",
              "          dataTable['output_type'] = 'display_data';\n",
              "          await google.colab.output.renderOutput(dataTable, element);\n",
              "          const docLink = document.createElement('div');\n",
              "          docLink.innerHTML = docLinkHtml;\n",
              "          element.appendChild(docLink);\n",
              "        }\n",
              "      </script>\n",
              "    </div>\n",
              "  </div>\n",
              "  "
            ],
            "text/plain": [
              "              Coefficient\n",
              "danceability    -6.997522\n",
              "energy           9.984933\n",
              "loudness        -1.037830\n",
              "valence         -3.659267\n",
              "tempo            0.026777"
            ]
          },
          "execution_count": 105,
          "metadata": {},
          "output_type": "execute_result"
        }
      ],
      "source": [
        "# menampilkan hasil linear regression (koefisien dari model)\n",
        "coeff_df = pd.DataFrame(linear_regression_model.coef_, x.columns, columns = [\"Coefficient\"])\n",
        "coeff_df"
      ]
    },
    {
      "cell_type": "code",
      "execution_count": null,
      "metadata": {
        "colab": {
          "background_save": true,
          "base_uri": "https://localhost:8080/"
        },
        "id": "Qgcs7HtfQoc-",
        "outputId": "b88f14c9-8382-41ae-d5a1-9f25e900176f"
      },
      "outputs": [
        {
          "data": {
            "text/plain": [
              "0.7583520285942313"
            ]
          },
          "execution_count": 106,
          "metadata": {},
          "output_type": "execute_result"
        }
      ],
      "source": [
        "# mengambil bias dari model\n",
        "linear_regression_model.intercept_"
      ]
    },
    {
      "cell_type": "markdown",
      "metadata": {
        "id": "qVEexak8Qoc_"
      },
      "source": [
        "#### b. Model Evaluation"
      ]
    },
    {
      "cell_type": "code",
      "execution_count": null,
      "metadata": {
        "colab": {
          "background_save": true
        },
        "id": "n4uzcNLKQodA"
      },
      "outputs": [],
      "source": [
        "# menggunakan model untuk memprediksi nilai matematika menggunakan testing dataset\n",
        "predictions = linear_regression_model.predict(x_test)"
      ]
    },
    {
      "cell_type": "code",
      "execution_count": null,
      "metadata": {
        "colab": {
          "background_save": true,
          "base_uri": "https://localhost:8080/"
        },
        "id": "JwtFFpT9QodC",
        "outputId": "3a1f7083-0a46-40f8-85aa-4562a42fb728"
      },
      "outputs": [
        {
          "data": {
            "text/html": [
              "\n",
              "  <div id=\"df-12a6e750-85c8-496a-8dd0-281d2c700432\">\n",
              "    <div class=\"colab-df-container\">\n",
              "      <div>\n",
              "<style scoped>\n",
              "    .dataframe tbody tr th:only-of-type {\n",
              "        vertical-align: middle;\n",
              "    }\n",
              "\n",
              "    .dataframe tbody tr th {\n",
              "        vertical-align: top;\n",
              "    }\n",
              "\n",
              "    .dataframe thead th {\n",
              "        text-align: right;\n",
              "    }\n",
              "</style>\n",
              "<table border=\"1\" class=\"dataframe\">\n",
              "  <thead>\n",
              "    <tr style=\"text-align: right;\">\n",
              "      <th></th>\n",
              "      <th>danceability</th>\n",
              "      <th>energy</th>\n",
              "      <th>loudness</th>\n",
              "      <th>valence</th>\n",
              "      <th>tempo</th>\n",
              "      <th>popularity</th>\n",
              "      <th>PREDICTED SCORE</th>\n",
              "    </tr>\n",
              "  </thead>\n",
              "  <tbody>\n",
              "    <tr>\n",
              "      <th>311</th>\n",
              "      <td>0.571</td>\n",
              "      <td>0.923</td>\n",
              "      <td>-1.881</td>\n",
              "      <td>0.297</td>\n",
              "      <td>132.950</td>\n",
              "      <td>4</td>\n",
              "      <td>10.404233</td>\n",
              "    </tr>\n",
              "    <tr>\n",
              "      <th>283</th>\n",
              "      <td>0.622</td>\n",
              "      <td>0.981</td>\n",
              "      <td>-0.923</td>\n",
              "      <td>0.761</td>\n",
              "      <td>126.054</td>\n",
              "      <td>3</td>\n",
              "      <td>7.749690</td>\n",
              "    </tr>\n",
              "    <tr>\n",
              "      <th>582</th>\n",
              "      <td>0.529</td>\n",
              "      <td>0.865</td>\n",
              "      <td>-2.849</td>\n",
              "      <td>0.713</td>\n",
              "      <td>76.039</td>\n",
              "      <td>15</td>\n",
              "      <td>8.077455</td>\n",
              "    </tr>\n",
              "    <tr>\n",
              "      <th>580</th>\n",
              "      <td>0.429</td>\n",
              "      <td>0.970</td>\n",
              "      <td>-2.744</td>\n",
              "      <td>0.297</td>\n",
              "      <td>170.127</td>\n",
              "      <td>16</td>\n",
              "      <td>13.758313</td>\n",
              "    </tr>\n",
              "    <tr>\n",
              "      <th>192</th>\n",
              "      <td>0.557</td>\n",
              "      <td>0.941</td>\n",
              "      <td>-2.794</td>\n",
              "      <td>0.796</td>\n",
              "      <td>154.943</td>\n",
              "      <td>4</td>\n",
              "      <td>10.392401</td>\n",
              "    </tr>\n",
              "  </tbody>\n",
              "</table>\n",
              "</div>\n",
              "      <button class=\"colab-df-convert\" onclick=\"convertToInteractive('df-12a6e750-85c8-496a-8dd0-281d2c700432')\"\n",
              "              title=\"Convert this dataframe to an interactive table.\"\n",
              "              style=\"display:none;\">\n",
              "        \n",
              "  <svg xmlns=\"http://www.w3.org/2000/svg\" height=\"24px\"viewBox=\"0 0 24 24\"\n",
              "       width=\"24px\">\n",
              "    <path d=\"M0 0h24v24H0V0z\" fill=\"none\"/>\n",
              "    <path d=\"M18.56 5.44l.94 2.06.94-2.06 2.06-.94-2.06-.94-.94-2.06-.94 2.06-2.06.94zm-11 1L8.5 8.5l.94-2.06 2.06-.94-2.06-.94L8.5 2.5l-.94 2.06-2.06.94zm10 10l.94 2.06.94-2.06 2.06-.94-2.06-.94-.94-2.06-.94 2.06-2.06.94z\"/><path d=\"M17.41 7.96l-1.37-1.37c-.4-.4-.92-.59-1.43-.59-.52 0-1.04.2-1.43.59L10.3 9.45l-7.72 7.72c-.78.78-.78 2.05 0 2.83L4 21.41c.39.39.9.59 1.41.59.51 0 1.02-.2 1.41-.59l7.78-7.78 2.81-2.81c.8-.78.8-2.07 0-2.86zM5.41 20L4 18.59l7.72-7.72 1.47 1.35L5.41 20z\"/>\n",
              "  </svg>\n",
              "      </button>\n",
              "      \n",
              "  <style>\n",
              "    .colab-df-container {\n",
              "      display:flex;\n",
              "      flex-wrap:wrap;\n",
              "      gap: 12px;\n",
              "    }\n",
              "\n",
              "    .colab-df-convert {\n",
              "      background-color: #E8F0FE;\n",
              "      border: none;\n",
              "      border-radius: 50%;\n",
              "      cursor: pointer;\n",
              "      display: none;\n",
              "      fill: #1967D2;\n",
              "      height: 32px;\n",
              "      padding: 0 0 0 0;\n",
              "      width: 32px;\n",
              "    }\n",
              "\n",
              "    .colab-df-convert:hover {\n",
              "      background-color: #E2EBFA;\n",
              "      box-shadow: 0px 1px 2px rgba(60, 64, 67, 0.3), 0px 1px 3px 1px rgba(60, 64, 67, 0.15);\n",
              "      fill: #174EA6;\n",
              "    }\n",
              "\n",
              "    [theme=dark] .colab-df-convert {\n",
              "      background-color: #3B4455;\n",
              "      fill: #D2E3FC;\n",
              "    }\n",
              "\n",
              "    [theme=dark] .colab-df-convert:hover {\n",
              "      background-color: #434B5C;\n",
              "      box-shadow: 0px 1px 3px 1px rgba(0, 0, 0, 0.15);\n",
              "      filter: drop-shadow(0px 1px 2px rgba(0, 0, 0, 0.3));\n",
              "      fill: #FFFFFF;\n",
              "    }\n",
              "  </style>\n",
              "\n",
              "      <script>\n",
              "        const buttonEl =\n",
              "          document.querySelector('#df-12a6e750-85c8-496a-8dd0-281d2c700432 button.colab-df-convert');\n",
              "        buttonEl.style.display =\n",
              "          google.colab.kernel.accessAllowed ? 'block' : 'none';\n",
              "\n",
              "        async function convertToInteractive(key) {\n",
              "          const element = document.querySelector('#df-12a6e750-85c8-496a-8dd0-281d2c700432');\n",
              "          const dataTable =\n",
              "            await google.colab.kernel.invokeFunction('convertToInteractive',\n",
              "                                                     [key], {});\n",
              "          if (!dataTable) return;\n",
              "\n",
              "          const docLinkHtml = 'Like what you see? Visit the ' +\n",
              "            '<a target=\"_blank\" href=https://colab.research.google.com/notebooks/data_table.ipynb>data table notebook</a>'\n",
              "            + ' to learn more about interactive tables.';\n",
              "          element.innerHTML = '';\n",
              "          dataTable['output_type'] = 'display_data';\n",
              "          await google.colab.output.renderOutput(dataTable, element);\n",
              "          const docLink = document.createElement('div');\n",
              "          docLink.innerHTML = docLinkHtml;\n",
              "          element.appendChild(docLink);\n",
              "        }\n",
              "      </script>\n",
              "    </div>\n",
              "  </div>\n",
              "  "
            ],
            "text/plain": [
              "     danceability  energy  loudness  valence    tempo  popularity  \\\n",
              "311         0.571   0.923    -1.881    0.297  132.950           4   \n",
              "283         0.622   0.981    -0.923    0.761  126.054           3   \n",
              "582         0.529   0.865    -2.849    0.713   76.039          15   \n",
              "580         0.429   0.970    -2.744    0.297  170.127          16   \n",
              "192         0.557   0.941    -2.794    0.796  154.943           4   \n",
              "\n",
              "     PREDICTED SCORE  \n",
              "311        10.404233  \n",
              "283         7.749690  \n",
              "582         8.077455  \n",
              "580        13.758313  \n",
              "192        10.392401  "
            ]
          },
          "execution_count": 108,
          "metadata": {},
          "output_type": "execute_result"
        }
      ],
      "source": [
        "df_test_set = x_test\n",
        "df_test_set = df_test_set.join(y_test)\n",
        "df_test_set['PREDICTED SCORE'] = predictions\n",
        "df_test_set.head(5)"
      ]
    },
    {
      "cell_type": "code",
      "execution_count": null,
      "metadata": {
        "colab": {
          "background_save": true,
          "base_uri": "https://localhost:8080/"
        },
        "id": "fPzps94kQodE",
        "outputId": "fa926bb6-af78-4dc0-81ef-dec8076691aa"
      },
      "outputs": [
        {
          "data": {
            "text/plain": [
              "Text(0, 0.5, 'Predicted')"
            ]
          },
          "execution_count": 109,
          "metadata": {},
          "output_type": "execute_result"
        },
        {
          "data": {
            "image/png": "[encoded data removed]",
            "text/plain": [
              "<Figure size 576x432 with 1 Axes>"
            ]
          },
          "metadata": {},
          "output_type": "display_data"
        }
      ],
      "source": [
        "# membandingkan hasil prediksi dan nilai asli\n",
        "plt.figure(figsize=(8, 6))\n",
        "plt.scatter(y_test, predictions)\n",
        "plt.title(\"Results\")\n",
        "plt.xlabel(\"Actual\")\n",
        "plt.ylabel(\"Predicted\")"
      ]
    },
    {
      "cell_type": "code",
      "execution_count": null,
      "metadata": {
        "colab": {
          "background_save": true,
          "base_uri": "https://localhost:8080/"
        },
        "id": "rbk9ZGOMQodG",
        "outputId": "782ecae6-3800-4c14-a9b9-cbebf7d25d83"
      },
      "outputs": [
        {
          "data": {
            "text/plain": [
              "<matplotlib.legend.Legend at 0x7fca2dc11bd0>"
            ]
          },
          "execution_count": 110,
          "metadata": {},
          "output_type": "execute_result"
        },
        {
          "data": {
            "image/png": "[encoded data removed]",
            "text/plain": [
              "<Figure size 720x432 with 1 Axes>"
            ]
          },
          "metadata": {},
          "output_type": "display_data"
        }
      ],
      "source": [
        "import numpy as np\n",
        "plt.figure(figsize=(10, 6))\n",
        "\n",
        "# mengurutkan nilai asli dari terkecil hingga tertinggi\n",
        "y_sorted = np.sort(y_test.tolist())\n",
        "y_sorted_index = np.argsort(y_test.tolist())\n",
        "\n",
        "# merubah urutan prediction score berdasarkan urutan y_sorted \n",
        "predictions_sorted = predictions[y_sorted_index]\n",
        "\n",
        "# plot kedua score\n",
        "plt.scatter(np.arange(0,len(y_sorted)), y_sorted, label='actual')\n",
        "plt.scatter(np.arange(0,len(y_sorted)), predictions_sorted, label='prediction')\n",
        "plt.title(\"Perbandingan nilai asli dengan prediksi model\")\n",
        "plt.legend()"
      ]
    },
    {
      "cell_type": "code",
      "execution_count": null,
      "metadata": {
        "colab": {
          "background_save": true,
          "base_uri": "https://localhost:8080/"
        },
        "id": "Rof0ShSuQodI",
        "outputId": "28b471a7-a679-4883-ade0-aed9b02fd8c6"
      },
      "outputs": [
        {
          "name": "stdout",
          "output_type": "stream",
          "text": [
            "MAE: 5.561324821401743\n",
            "MSE: 54.076190556013835\n",
            "RMSE: 7.353651511733054\n"
          ]
        }
      ],
      "source": [
        "# mengevaluasi model dengan 3 metrik berbeda\n",
        "print('MAE:', metrics.mean_absolute_error(y_test, predictions))\n",
        "print('MSE:', metrics.mean_squared_error(y_test, predictions))\n",
        "print('RMSE:', np.sqrt(metrics.mean_squared_error(y_test, predictions)))"
      ]
    },
    {
      "cell_type": "markdown",
      "metadata": {
        "id": "r1GwlWy5K1fe"
      },
      "source": [
        "### **Model 5**: Mood Builder 1.0\n",
        "\n",
        "1. **Independent variables (X) :** 'danceability', 'energy', 'valence', 'tempo'\n",
        "2. **Dependent variable (Y) :** 'popularity'"
      ]
    },
    {
      "cell_type": "markdown",
      "metadata": {
        "id": "7HUkwZ03K1gi"
      },
      "source": [
        "#### a. Model Building"
      ]
    },
    {
      "cell_type": "code",
      "execution_count": null,
      "metadata": {
        "colab": {
          "base_uri": "https://localhost:8080/"
        },
        "id": "aDlsQgfQK1gj",
        "outputId": "686875ad-e7bf-45c5-f166-57d74ec2012e"
      },
      "outputs": [
        {
          "name": "stdout",
          "output_type": "stream",
          "text": [
            "X_train :  (545, 4)\n",
            "X_test :  (137, 4)\n",
            "Y_train :  (545,)\n",
            "Y_test :  (137,)\n"
          ]
        }
      ],
      "source": [
        "# memilih kolom untuk digunakan sebagai fitur model -- menghilangkan target variabel dan kolom tidak penting lainnya\n",
        "x = features_df.drop(columns=['length', 'popularity', 'acousticness', 'instrumentalness', 'liveness',\n",
        "                  'loudness', 'mode', 'key', 'speechiness'])\n",
        "# memilih kolom untuk digunakan sebagai variabel target\n",
        "y = features_df['popularity']\n",
        "\n",
        "# membagi data ke training dan testing data\n",
        "x_train, x_test, y_train, y_test = train_test_split(x, y, test_size=0.2)\n",
        "\n",
        "print(\"X_train : \", x_train.shape)\n",
        "print(\"X_test : \", x_test.shape)\n",
        "print(\"Y_train : \", y_train.shape)\n",
        "print(\"Y_test : \", y_test.shape)"
      ]
    },
    {
      "cell_type": "code",
      "execution_count": null,
      "metadata": {
        "colab": {
          "base_uri": "https://localhost:8080/"
        },
        "id": "NYqx3UD8K1gl",
        "outputId": "1fa33754-46f7-4ee1-beeb-25ed13dcca76"
      },
      "outputs": [
        {
          "data": {
            "text/plain": [
              "LinearRegression()"
            ]
          },
          "execution_count": 51,
          "metadata": {},
          "output_type": "execute_result"
        }
      ],
      "source": [
        "# membuat model linear regression\n",
        "linear_regression_model = LinearRegression()\n",
        "# \"training\" model dengan dataset yang sesuai\n",
        "linear_regression_model.fit(x_train,y_train)"
      ]
    },
    {
      "cell_type": "code",
      "execution_count": null,
      "metadata": {
        "colab": {
          "base_uri": "https://localhost:8080/"
        },
        "id": "kYj2WxTiK1go",
        "outputId": "19f64e2a-31df-4756-a40f-52901e01034a"
      },
      "outputs": [
        {
          "data": {
            "text/plain": [
              "array([-3.94018966,  1.79089982, -2.45656375,  0.02887699])"
            ]
          },
          "execution_count": 52,
          "metadata": {},
          "output_type": "execute_result"
        }
      ],
      "source": [
        "# mengambil koefisien yang didapatkan dari model\n",
        "linear_regression_model.coef_"
      ]
    },
    {
      "cell_type": "code",
      "execution_count": null,
      "metadata": {
        "colab": {
          "base_uri": "https://localhost:8080/",
          "height": 175
        },
        "id": "_LNruzIXK1gq",
        "outputId": "96ec6a5c-32bc-4776-e8d2-c7b58b92d861"
      },
      "outputs": [
        {
          "data": {
            "text/html": [
              "\n",
              "  <div id=\"df-3fec0370-1a76-4b12-951e-af46ca707ac5\">\n",
              "    <div class=\"colab-df-container\">\n",
              "      <div>\n",
              "<style scoped>\n",
              "    .dataframe tbody tr th:only-of-type {\n",
              "        vertical-align: middle;\n",
              "    }\n",
              "\n",
              "    .dataframe tbody tr th {\n",
              "        vertical-align: top;\n",
              "    }\n",
              "\n",
              "    .dataframe thead th {\n",
              "        text-align: right;\n",
              "    }\n",
              "</style>\n",
              "<table border=\"1\" class=\"dataframe\">\n",
              "  <thead>\n",
              "    <tr style=\"text-align: right;\">\n",
              "      <th></th>\n",
              "      <th>Coefficient</th>\n",
              "    </tr>\n",
              "  </thead>\n",
              "  <tbody>\n",
              "    <tr>\n",
              "      <th>danceability</th>\n",
              "      <td>-3.940190</td>\n",
              "    </tr>\n",
              "    <tr>\n",
              "      <th>energy</th>\n",
              "      <td>1.790900</td>\n",
              "    </tr>\n",
              "    <tr>\n",
              "      <th>valence</th>\n",
              "      <td>-2.456564</td>\n",
              "    </tr>\n",
              "    <tr>\n",
              "      <th>tempo</th>\n",
              "      <td>0.028877</td>\n",
              "    </tr>\n",
              "  </tbody>\n",
              "</table>\n",
              "</div>\n",
              "      <button class=\"colab-df-convert\" onclick=\"convertToInteractive('df-3fec0370-1a76-4b12-951e-af46ca707ac5')\"\n",
              "              title=\"Convert this dataframe to an interactive table.\"\n",
              "              style=\"display:none;\">\n",
              "        \n",
              "  <svg xmlns=\"http://www.w3.org/2000/svg\" height=\"24px\"viewBox=\"0 0 24 24\"\n",
              "       width=\"24px\">\n",
              "    <path d=\"M0 0h24v24H0V0z\" fill=\"none\"/>\n",
              "    <path d=\"M18.56 5.44l.94 2.06.94-2.06 2.06-.94-2.06-.94-.94-2.06-.94 2.06-2.06.94zm-11 1L8.5 8.5l.94-2.06 2.06-.94-2.06-.94L8.5 2.5l-.94 2.06-2.06.94zm10 10l.94 2.06.94-2.06 2.06-.94-2.06-.94-.94-2.06-.94 2.06-2.06.94z\"/><path d=\"M17.41 7.96l-1.37-1.37c-.4-.4-.92-.59-1.43-.59-.52 0-1.04.2-1.43.59L10.3 9.45l-7.72 7.72c-.78.78-.78 2.05 0 2.83L4 21.41c.39.39.9.59 1.41.59.51 0 1.02-.2 1.41-.59l7.78-7.78 2.81-2.81c.8-.78.8-2.07 0-2.86zM5.41 20L4 18.59l7.72-7.72 1.47 1.35L5.41 20z\"/>\n",
              "  </svg>\n",
              "      </button>\n",
              "      \n",
              "  <style>\n",
              "    .colab-df-container {\n",
              "      display:flex;\n",
              "      flex-wrap:wrap;\n",
              "      gap: 12px;\n",
              "    }\n",
              "\n",
              "    .colab-df-convert {\n",
              "      background-color: #E8F0FE;\n",
              "      border: none;\n",
              "      border-radius: 50%;\n",
              "      cursor: pointer;\n",
              "      display: none;\n",
              "      fill: #1967D2;\n",
              "      height: 32px;\n",
              "      padding: 0 0 0 0;\n",
              "      width: 32px;\n",
              "    }\n",
              "\n",
              "    .colab-df-convert:hover {\n",
              "      background-color: #E2EBFA;\n",
              "      box-shadow: 0px 1px 2px rgba(60, 64, 67, 0.3), 0px 1px 3px 1px rgba(60, 64, 67, 0.15);\n",
              "      fill: #174EA6;\n",
              "    }\n",
              "\n",
              "    [theme=dark] .colab-df-convert {\n",
              "      background-color: #3B4455;\n",
              "      fill: #D2E3FC;\n",
              "    }\n",
              "\n",
              "    [theme=dark] .colab-df-convert:hover {\n",
              "      background-color: #434B5C;\n",
              "      box-shadow: 0px 1px 3px 1px rgba(0, 0, 0, 0.15);\n",
              "      filter: drop-shadow(0px 1px 2px rgba(0, 0, 0, 0.3));\n",
              "      fill: #FFFFFF;\n",
              "    }\n",
              "  </style>\n",
              "\n",
              "      <script>\n",
              "        const buttonEl =\n",
              "          document.querySelector('#df-3fec0370-1a76-4b12-951e-af46ca707ac5 button.colab-df-convert');\n",
              "        buttonEl.style.display =\n",
              "          google.colab.kernel.accessAllowed ? 'block' : 'none';\n",
              "\n",
              "        async function convertToInteractive(key) {\n",
              "          const element = document.querySelector('#df-3fec0370-1a76-4b12-951e-af46ca707ac5');\n",
              "          const dataTable =\n",
              "            await google.colab.kernel.invokeFunction('convertToInteractive',\n",
              "                                                     [key], {});\n",
              "          if (!dataTable) return;\n",
              "\n",
              "          const docLinkHtml = 'Like what you see? Visit the ' +\n",
              "            '<a target=\"_blank\" href=https://colab.research.google.com/notebooks/data_table.ipynb>data table notebook</a>'\n",
              "            + ' to learn more about interactive tables.';\n",
              "          element.innerHTML = '';\n",
              "          dataTable['output_type'] = 'display_data';\n",
              "          await google.colab.output.renderOutput(dataTable, element);\n",
              "          const docLink = document.createElement('div');\n",
              "          docLink.innerHTML = docLinkHtml;\n",
              "          element.appendChild(docLink);\n",
              "        }\n",
              "      </script>\n",
              "    </div>\n",
              "  </div>\n",
              "  "
            ],
            "text/plain": [
              "              Coefficient\n",
              "danceability    -3.940190\n",
              "energy           1.790900\n",
              "valence         -2.456564\n",
              "tempo            0.028877"
            ]
          },
          "execution_count": 53,
          "metadata": {},
          "output_type": "execute_result"
        }
      ],
      "source": [
        "# menampilkan hasil linear regression (koefisien dari model)\n",
        "coeff_df = pd.DataFrame(linear_regression_model.coef_, x.columns, columns = [\"Coefficient\"])\n",
        "coeff_df"
      ]
    },
    {
      "cell_type": "code",
      "execution_count": null,
      "metadata": {
        "colab": {
          "base_uri": "https://localhost:8080/"
        },
        "id": "rdxoS-QpK1gs",
        "outputId": "b0f3567b-8c5f-4f45-94d7-abdf5e7ec529"
      },
      "outputs": [
        {
          "data": {
            "text/plain": [
              "9.100074566910669"
            ]
          },
          "execution_count": 54,
          "metadata": {},
          "output_type": "execute_result"
        }
      ],
      "source": [
        "# mengambil bias dari model\n",
        "linear_regression_model.intercept_"
      ]
    },
    {
      "cell_type": "markdown",
      "metadata": {
        "id": "O_qefNceK1gu"
      },
      "source": [
        "#### b. Model Evaluation"
      ]
    },
    {
      "cell_type": "code",
      "execution_count": null,
      "metadata": {
        "id": "lRpOKpqqK1gw"
      },
      "outputs": [],
      "source": [
        "# menggunakan model untuk memprediksi nilai matematika menggunakan testing dataset\n",
        "predictions = linear_regression_model.predict(x_test)"
      ]
    },
    {
      "cell_type": "code",
      "execution_count": null,
      "metadata": {
        "colab": {
          "base_uri": "https://localhost:8080/",
          "height": 206
        },
        "id": "PXD1MiWKK1gx",
        "outputId": "8f238843-9446-4f84-acbd-8143b87f10b7"
      },
      "outputs": [
        {
          "data": {
            "text/html": [
              "\n",
              "  <div id=\"df-7e5b879a-ff54-4b2b-8ad4-18166331d2fd\">\n",
              "    <div class=\"colab-df-container\">\n",
              "      <div>\n",
              "<style scoped>\n",
              "    .dataframe tbody tr th:only-of-type {\n",
              "        vertical-align: middle;\n",
              "    }\n",
              "\n",
              "    .dataframe tbody tr th {\n",
              "        vertical-align: top;\n",
              "    }\n",
              "\n",
              "    .dataframe thead th {\n",
              "        text-align: right;\n",
              "    }\n",
              "</style>\n",
              "<table border=\"1\" class=\"dataframe\">\n",
              "  <thead>\n",
              "    <tr style=\"text-align: right;\">\n",
              "      <th></th>\n",
              "      <th>danceability</th>\n",
              "      <th>energy</th>\n",
              "      <th>valence</th>\n",
              "      <th>tempo</th>\n",
              "      <th>popularity</th>\n",
              "      <th>PREDICTED SCORE</th>\n",
              "    </tr>\n",
              "  </thead>\n",
              "  <tbody>\n",
              "    <tr>\n",
              "      <th>99</th>\n",
              "      <td>0.568</td>\n",
              "      <td>0.977</td>\n",
              "      <td>0.631</td>\n",
              "      <td>130.050</td>\n",
              "      <td>7</td>\n",
              "      <td>10.817117</td>\n",
              "    </tr>\n",
              "    <tr>\n",
              "      <th>673</th>\n",
              "      <td>0.456</td>\n",
              "      <td>0.561</td>\n",
              "      <td>0.438</td>\n",
              "      <td>77.999</td>\n",
              "      <td>26</td>\n",
              "      <td>9.484444</td>\n",
              "    </tr>\n",
              "    <tr>\n",
              "      <th>20</th>\n",
              "      <td>0.383</td>\n",
              "      <td>0.885</td>\n",
              "      <td>0.453</td>\n",
              "      <td>169.876</td>\n",
              "      <td>17</td>\n",
              "      <td>12.968613</td>\n",
              "    </tr>\n",
              "    <tr>\n",
              "      <th>473</th>\n",
              "      <td>0.485</td>\n",
              "      <td>0.843</td>\n",
              "      <td>0.662</td>\n",
              "      <td>161.993</td>\n",
              "      <td>8</td>\n",
              "      <td>11.750436</td>\n",
              "    </tr>\n",
              "    <tr>\n",
              "      <th>651</th>\n",
              "      <td>0.645</td>\n",
              "      <td>0.635</td>\n",
              "      <td>0.712</td>\n",
              "      <td>163.100</td>\n",
              "      <td>4</td>\n",
              "      <td>10.656637</td>\n",
              "    </tr>\n",
              "  </tbody>\n",
              "</table>\n",
              "</div>\n",
              "      <button class=\"colab-df-convert\" onclick=\"convertToInteractive('df-7e5b879a-ff54-4b2b-8ad4-18166331d2fd')\"\n",
              "              title=\"Convert this dataframe to an interactive table.\"\n",
              "              style=\"display:none;\">\n",
              "        \n",
              "  <svg xmlns=\"http://www.w3.org/2000/svg\" height=\"24px\"viewBox=\"0 0 24 24\"\n",
              "       width=\"24px\">\n",
              "    <path d=\"M0 0h24v24H0V0z\" fill=\"none\"/>\n",
              "    <path d=\"M18.56 5.44l.94 2.06.94-2.06 2.06-.94-2.06-.94-.94-2.06-.94 2.06-2.06.94zm-11 1L8.5 8.5l.94-2.06 2.06-.94-2.06-.94L8.5 2.5l-.94 2.06-2.06.94zm10 10l.94 2.06.94-2.06 2.06-.94-2.06-.94-.94-2.06-.94 2.06-2.06.94z\"/><path d=\"M17.41 7.96l-1.37-1.37c-.4-.4-.92-.59-1.43-.59-.52 0-1.04.2-1.43.59L10.3 9.45l-7.72 7.72c-.78.78-.78 2.05 0 2.83L4 21.41c.39.39.9.59 1.41.59.51 0 1.02-.2 1.41-.59l7.78-7.78 2.81-2.81c.8-.78.8-2.07 0-2.86zM5.41 20L4 18.59l7.72-7.72 1.47 1.35L5.41 20z\"/>\n",
              "  </svg>\n",
              "      </button>\n",
              "      \n",
              "  <style>\n",
              "    .colab-df-container {\n",
              "      display:flex;\n",
              "      flex-wrap:wrap;\n",
              "      gap: 12px;\n",
              "    }\n",
              "\n",
              "    .colab-df-convert {\n",
              "      background-color: #E8F0FE;\n",
              "      border: none;\n",
              "      border-radius: 50%;\n",
              "      cursor: pointer;\n",
              "      display: none;\n",
              "      fill: #1967D2;\n",
              "      height: 32px;\n",
              "      padding: 0 0 0 0;\n",
              "      width: 32px;\n",
              "    }\n",
              "\n",
              "    .colab-df-convert:hover {\n",
              "      background-color: #E2EBFA;\n",
              "      box-shadow: 0px 1px 2px rgba(60, 64, 67, 0.3), 0px 1px 3px 1px rgba(60, 64, 67, 0.15);\n",
              "      fill: #174EA6;\n",
              "    }\n",
              "\n",
              "    [theme=dark] .colab-df-convert {\n",
              "      background-color: #3B4455;\n",
              "      fill: #D2E3FC;\n",
              "    }\n",
              "\n",
              "    [theme=dark] .colab-df-convert:hover {\n",
              "      background-color: #434B5C;\n",
              "      box-shadow: 0px 1px 3px 1px rgba(0, 0, 0, 0.15);\n",
              "      filter: drop-shadow(0px 1px 2px rgba(0, 0, 0, 0.3));\n",
              "      fill: #FFFFFF;\n",
              "    }\n",
              "  </style>\n",
              "\n",
              "      <script>\n",
              "        const buttonEl =\n",
              "          document.querySelector('#df-7e5b879a-ff54-4b2b-8ad4-18166331d2fd button.colab-df-convert');\n",
              "        buttonEl.style.display =\n",
              "          google.colab.kernel.accessAllowed ? 'block' : 'none';\n",
              "\n",
              "        async function convertToInteractive(key) {\n",
              "          const element = document.querySelector('#df-7e5b879a-ff54-4b2b-8ad4-18166331d2fd');\n",
              "          const dataTable =\n",
              "            await google.colab.kernel.invokeFunction('convertToInteractive',\n",
              "                                                     [key], {});\n",
              "          if (!dataTable) return;\n",
              "\n",
              "          const docLinkHtml = 'Like what you see? Visit the ' +\n",
              "            '<a target=\"_blank\" href=https://colab.research.google.com/notebooks/data_table.ipynb>data table notebook</a>'\n",
              "            + ' to learn more about interactive tables.';\n",
              "          element.innerHTML = '';\n",
              "          dataTable['output_type'] = 'display_data';\n",
              "          await google.colab.output.renderOutput(dataTable, element);\n",
              "          const docLink = document.createElement('div');\n",
              "          docLink.innerHTML = docLinkHtml;\n",
              "          element.appendChild(docLink);\n",
              "        }\n",
              "      </script>\n",
              "    </div>\n",
              "  </div>\n",
              "  "
            ],
            "text/plain": [
              "     danceability  energy  valence    tempo  popularity  PREDICTED SCORE\n",
              "99          0.568   0.977    0.631  130.050           7        10.817117\n",
              "673         0.456   0.561    0.438   77.999          26         9.484444\n",
              "20          0.383   0.885    0.453  169.876          17        12.968613\n",
              "473         0.485   0.843    0.662  161.993           8        11.750436\n",
              "651         0.645   0.635    0.712  163.100           4        10.656637"
            ]
          },
          "execution_count": 56,
          "metadata": {},
          "output_type": "execute_result"
        }
      ],
      "source": [
        "df_test_set = x_test\n",
        "df_test_set = df_test_set.join(y_test)\n",
        "df_test_set['PREDICTED SCORE'] = predictions\n",
        "df_test_set.head(5)"
      ]
    },
    {
      "cell_type": "code",
      "execution_count": null,
      "metadata": {
        "colab": {
          "base_uri": "https://localhost:8080/",
          "height": 421
        },
        "id": "On2DTS-iK1gz",
        "outputId": "e59c3d0f-7fdb-4de5-c6b9-7c6e4639c0a6"
      },
      "outputs": [
        {
          "data": {
            "text/plain": [
              "Text(0, 0.5, 'Predicted')"
            ]
          },
          "execution_count": 57,
          "metadata": {},
          "output_type": "execute_result"
        },
        {
          "data": {
            "image/png": "[encoded data removed]",
            "text/plain": [
              "<Figure size 576x432 with 1 Axes>"
            ]
          },
          "metadata": {},
          "output_type": "display_data"
        }
      ],
      "source": [
        "# membandingkan hasil prediksi dan nilai asli\n",
        "plt.figure(figsize=(8, 6))\n",
        "plt.scatter(y_test, predictions)\n",
        "plt.title(\"Results\")\n",
        "plt.xlabel(\"Actual\")\n",
        "plt.ylabel(\"Predicted\")"
      ]
    },
    {
      "cell_type": "code",
      "execution_count": null,
      "metadata": {
        "colab": {
          "base_uri": "https://localhost:8080/",
          "height": 407
        },
        "id": "D9BLwccyK1g1",
        "outputId": "ef3a841e-18e0-40cd-9fef-1afd50dfea6f"
      },
      "outputs": [
        {
          "data": {
            "text/plain": [
              "<matplotlib.legend.Legend at 0x7fce70b17810>"
            ]
          },
          "execution_count": 58,
          "metadata": {},
          "output_type": "execute_result"
        },
        {
          "data": {
            "image/png": "[encoded data removed]",
            "text/plain": [
              "<Figure size 720x432 with 1 Axes>"
            ]
          },
          "metadata": {},
          "output_type": "display_data"
        }
      ],
      "source": [
        "import numpy as np\n",
        "plt.figure(figsize=(10, 6))\n",
        "\n",
        "# mengurutkan nilai asli dari terkecil hingga tertinggi\n",
        "y_sorted = np.sort(y_test.tolist())\n",
        "y_sorted_index = np.argsort(y_test.tolist())\n",
        "\n",
        "# merubah urutan prediction score berdasarkan urutan y_sorted \n",
        "predictions_sorted = predictions[y_sorted_index]\n",
        "\n",
        "# plot kedua score\n",
        "plt.scatter(np.arange(0,len(y_sorted)), y_sorted, label='actual')\n",
        "plt.scatter(np.arange(0,len(y_sorted)), predictions_sorted, label='prediction')\n",
        "plt.title(\"Perbandingan nilai asli dengan prediksi model\")\n",
        "plt.legend()"
      ]
    },
    {
      "cell_type": "code",
      "execution_count": null,
      "metadata": {
        "colab": {
          "base_uri": "https://localhost:8080/"
        },
        "id": "ww8IAAZfK1g4",
        "outputId": "8278eb6f-a5fc-42db-d11b-394889c2f827"
      },
      "outputs": [
        {
          "name": "stdout",
          "output_type": "stream",
          "text": [
            "MAE: 5.503231604545721\n",
            "MSE: 57.3342009941398\n",
            "RMSE: 7.571935089139354\n"
          ]
        }
      ],
      "source": [
        "# mengevaluasi model dengan 3 metrik berbeda\n",
        "print('MAE:', metrics.mean_absolute_error(y_test, predictions))\n",
        "print('MSE:', metrics.mean_squared_error(y_test, predictions))\n",
        "print('RMSE:', np.sqrt(metrics.mean_squared_error(y_test, predictions)))"
      ]
    },
    {
      "cell_type": "markdown",
      "metadata": {
        "id": "PZ2KyUnNLSUK"
      },
      "source": [
        "### **Model 6**: Mood Builder 2.0\n",
        "\n",
        "1. **Independent variables (X) :** 'danceability', 'energy', 'valence', 'tempo', 'key'\n",
        "2. **Dependent variable (Y) :** 'popularity'"
      ]
    },
    {
      "cell_type": "markdown",
      "metadata": {
        "id": "NVsEldTiLSUS"
      },
      "source": [
        "#### a. Model Building"
      ]
    },
    {
      "cell_type": "code",
      "execution_count": null,
      "metadata": {
        "colab": {
          "base_uri": "https://localhost:8080/"
        },
        "id": "VQ16KQyxLSUU",
        "outputId": "005b2922-c35e-4ca6-8302-17bc2a3c0428"
      },
      "outputs": [
        {
          "name": "stdout",
          "output_type": "stream",
          "text": [
            "X_train :  (545, 5)\n",
            "X_test :  (137, 5)\n",
            "Y_train :  (545,)\n",
            "Y_test :  (137,)\n"
          ]
        }
      ],
      "source": [
        "# memilih kolom untuk digunakan sebagai fitur model -- menghilangkan target variabel dan kolom tidak penting lainnya\n",
        "x = features_df.drop(columns=['length', 'popularity', 'acousticness', 'instrumentalness', 'liveness',\n",
        "                  'loudness', 'mode', 'speechiness'])\n",
        "# memilih kolom untuk digunakan sebagai variabel target\n",
        "y = features_df['popularity']\n",
        "\n",
        "# membagi data ke training dan testing data\n",
        "x_train, x_test, y_train, y_test = train_test_split(x, y, test_size=0.2)\n",
        "\n",
        "print(\"X_train : \", x_train.shape)\n",
        "print(\"X_test : \", x_test.shape)\n",
        "print(\"Y_train : \", y_train.shape)\n",
        "print(\"Y_test : \", y_test.shape)"
      ]
    },
    {
      "cell_type": "code",
      "execution_count": null,
      "metadata": {
        "colab": {
          "base_uri": "https://localhost:8080/"
        },
        "id": "U4zPtXHrLSUW",
        "outputId": "3fc3523d-071d-4f65-88bf-7a4cb41d2800"
      },
      "outputs": [
        {
          "data": {
            "text/plain": [
              "LinearRegression()"
            ]
          },
          "execution_count": 27,
          "metadata": {},
          "output_type": "execute_result"
        }
      ],
      "source": [
        "# membuat model linear regression\n",
        "linear_regression_model = LinearRegression()\n",
        "# \"training\" model dengan dataset yang sesuai\n",
        "linear_regression_model.fit(x_train,y_train)"
      ]
    },
    {
      "cell_type": "code",
      "execution_count": null,
      "metadata": {
        "colab": {
          "base_uri": "https://localhost:8080/"
        },
        "id": "TdETlctMLSUZ",
        "outputId": "c17c5089-a989-419f-8b32-119d4cbcefdd"
      },
      "outputs": [
        {
          "data": {
            "text/plain": [
              "array([-6.80189995,  5.48720032, -3.59719678,  0.12518243,  0.02479427])"
            ]
          },
          "execution_count": 28,
          "metadata": {},
          "output_type": "execute_result"
        }
      ],
      "source": [
        "# mengambil koefisien yang didapatkan dari model\n",
        "linear_regression_model.coef_"
      ]
    },
    {
      "cell_type": "code",
      "execution_count": null,
      "metadata": {
        "colab": {
          "base_uri": "https://localhost:8080/",
          "height": 206
        },
        "id": "qPHXUFhMLSUc",
        "outputId": "c183ce30-7e4e-4216-cd7a-6d0caf1f29a4"
      },
      "outputs": [
        {
          "data": {
            "text/html": [
              "\n",
              "  <div id=\"df-46cccf75-3460-490e-bf8f-40417897214b\">\n",
              "    <div class=\"colab-df-container\">\n",
              "      <div>\n",
              "<style scoped>\n",
              "    .dataframe tbody tr th:only-of-type {\n",
              "        vertical-align: middle;\n",
              "    }\n",
              "\n",
              "    .dataframe tbody tr th {\n",
              "        vertical-align: top;\n",
              "    }\n",
              "\n",
              "    .dataframe thead th {\n",
              "        text-align: right;\n",
              "    }\n",
              "</style>\n",
              "<table border=\"1\" class=\"dataframe\">\n",
              "  <thead>\n",
              "    <tr style=\"text-align: right;\">\n",
              "      <th></th>\n",
              "      <th>Coefficient</th>\n",
              "    </tr>\n",
              "  </thead>\n",
              "  <tbody>\n",
              "    <tr>\n",
              "      <th>danceability</th>\n",
              "      <td>-6.801900</td>\n",
              "    </tr>\n",
              "    <tr>\n",
              "      <th>energy</th>\n",
              "      <td>5.487200</td>\n",
              "    </tr>\n",
              "    <tr>\n",
              "      <th>valence</th>\n",
              "      <td>-3.597197</td>\n",
              "    </tr>\n",
              "    <tr>\n",
              "      <th>key</th>\n",
              "      <td>0.125182</td>\n",
              "    </tr>\n",
              "    <tr>\n",
              "      <th>tempo</th>\n",
              "      <td>0.024794</td>\n",
              "    </tr>\n",
              "  </tbody>\n",
              "</table>\n",
              "</div>\n",
              "      <button class=\"colab-df-convert\" onclick=\"convertToInteractive('df-46cccf75-3460-490e-bf8f-40417897214b')\"\n",
              "              title=\"Convert this dataframe to an interactive table.\"\n",
              "              style=\"display:none;\">\n",
              "        \n",
              "  <svg xmlns=\"http://www.w3.org/2000/svg\" height=\"24px\"viewBox=\"0 0 24 24\"\n",
              "       width=\"24px\">\n",
              "    <path d=\"M0 0h24v24H0V0z\" fill=\"none\"/>\n",
              "    <path d=\"M18.56 5.44l.94 2.06.94-2.06 2.06-.94-2.06-.94-.94-2.06-.94 2.06-2.06.94zm-11 1L8.5 8.5l.94-2.06 2.06-.94-2.06-.94L8.5 2.5l-.94 2.06-2.06.94zm10 10l.94 2.06.94-2.06 2.06-.94-2.06-.94-.94-2.06-.94 2.06-2.06.94z\"/><path d=\"M17.41 7.96l-1.37-1.37c-.4-.4-.92-.59-1.43-.59-.52 0-1.04.2-1.43.59L10.3 9.45l-7.72 7.72c-.78.78-.78 2.05 0 2.83L4 21.41c.39.39.9.59 1.41.59.51 0 1.02-.2 1.41-.59l7.78-7.78 2.81-2.81c.8-.78.8-2.07 0-2.86zM5.41 20L4 18.59l7.72-7.72 1.47 1.35L5.41 20z\"/>\n",
              "  </svg>\n",
              "      </button>\n",
              "      \n",
              "  <style>\n",
              "    .colab-df-container {\n",
              "      display:flex;\n",
              "      flex-wrap:wrap;\n",
              "      gap: 12px;\n",
              "    }\n",
              "\n",
              "    .colab-df-convert {\n",
              "      background-color: #E8F0FE;\n",
              "      border: none;\n",
              "      border-radius: 50%;\n",
              "      cursor: pointer;\n",
              "      display: none;\n",
              "      fill: #1967D2;\n",
              "      height: 32px;\n",
              "      padding: 0 0 0 0;\n",
              "      width: 32px;\n",
              "    }\n",
              "\n",
              "    .colab-df-convert:hover {\n",
              "      background-color: #E2EBFA;\n",
              "      box-shadow: 0px 1px 2px rgba(60, 64, 67, 0.3), 0px 1px 3px 1px rgba(60, 64, 67, 0.15);\n",
              "      fill: #174EA6;\n",
              "    }\n",
              "\n",
              "    [theme=dark] .colab-df-convert {\n",
              "      background-color: #3B4455;\n",
              "      fill: #D2E3FC;\n",
              "    }\n",
              "\n",
              "    [theme=dark] .colab-df-convert:hover {\n",
              "      background-color: #434B5C;\n",
              "      box-shadow: 0px 1px 3px 1px rgba(0, 0, 0, 0.15);\n",
              "      filter: drop-shadow(0px 1px 2px rgba(0, 0, 0, 0.3));\n",
              "      fill: #FFFFFF;\n",
              "    }\n",
              "  </style>\n",
              "\n",
              "      <script>\n",
              "        const buttonEl =\n",
              "          document.querySelector('#df-46cccf75-3460-490e-bf8f-40417897214b button.colab-df-convert');\n",
              "        buttonEl.style.display =\n",
              "          google.colab.kernel.accessAllowed ? 'block' : 'none';\n",
              "\n",
              "        async function convertToInteractive(key) {\n",
              "          const element = document.querySelector('#df-46cccf75-3460-490e-bf8f-40417897214b');\n",
              "          const dataTable =\n",
              "            await google.colab.kernel.invokeFunction('convertToInteractive',\n",
              "                                                     [key], {});\n",
              "          if (!dataTable) return;\n",
              "\n",
              "          const docLinkHtml = 'Like what you see? Visit the ' +\n",
              "            '<a target=\"_blank\" href=https://colab.research.google.com/notebooks/data_table.ipynb>data table notebook</a>'\n",
              "            + ' to learn more about interactive tables.';\n",
              "          element.innerHTML = '';\n",
              "          dataTable['output_type'] = 'display_data';\n",
              "          await google.colab.output.renderOutput(dataTable, element);\n",
              "          const docLink = document.createElement('div');\n",
              "          docLink.innerHTML = docLinkHtml;\n",
              "          element.appendChild(docLink);\n",
              "        }\n",
              "      </script>\n",
              "    </div>\n",
              "  </div>\n",
              "  "
            ],
            "text/plain": [
              "              Coefficient\n",
              "danceability    -6.801900\n",
              "energy           5.487200\n",
              "valence         -3.597197\n",
              "key              0.125182\n",
              "tempo            0.024794"
            ]
          },
          "execution_count": 29,
          "metadata": {},
          "output_type": "execute_result"
        }
      ],
      "source": [
        "# menampilkan hasil linear regression (koefisien dari model)\n",
        "coeff_df = pd.DataFrame(linear_regression_model.coef_, x.columns, columns = [\"Coefficient\"])\n",
        "coeff_df"
      ]
    },
    {
      "cell_type": "code",
      "execution_count": null,
      "metadata": {
        "colab": {
          "base_uri": "https://localhost:8080/"
        },
        "id": "TzqPQqvqLSUf",
        "outputId": "77b50367-6c84-4cda-841d-bcc6ae76e99e"
      },
      "outputs": [
        {
          "data": {
            "text/plain": [
              "8.128016266549306"
            ]
          },
          "execution_count": 30,
          "metadata": {},
          "output_type": "execute_result"
        }
      ],
      "source": [
        "# mengambil bias dari model\n",
        "linear_regression_model.intercept_"
      ]
    },
    {
      "cell_type": "markdown",
      "metadata": {
        "id": "Sbm0sQrgLSUh"
      },
      "source": [
        "#### b. Model Evaluation"
      ]
    },
    {
      "cell_type": "code",
      "execution_count": null,
      "metadata": {
        "id": "PV1QsGMGLSUj"
      },
      "outputs": [],
      "source": [
        "# menggunakan model untuk memprediksi nilai matematika menggunakan testing dataset\n",
        "predictions = linear_regression_model.predict(x_test)"
      ]
    },
    {
      "cell_type": "code",
      "execution_count": null,
      "metadata": {
        "colab": {
          "base_uri": "https://localhost:8080/",
          "height": 206
        },
        "id": "Ah0SvANvLSUl",
        "outputId": "6fdbdf76-a8ce-43b0-e188-675a0f93bc7b"
      },
      "outputs": [
        {
          "data": {
            "text/html": [
              "\n",
              "  <div id=\"df-0bec2832-8067-4700-81da-d3b7f8650818\">\n",
              "    <div class=\"colab-df-container\">\n",
              "      <div>\n",
              "<style scoped>\n",
              "    .dataframe tbody tr th:only-of-type {\n",
              "        vertical-align: middle;\n",
              "    }\n",
              "\n",
              "    .dataframe tbody tr th {\n",
              "        vertical-align: top;\n",
              "    }\n",
              "\n",
              "    .dataframe thead th {\n",
              "        text-align: right;\n",
              "    }\n",
              "</style>\n",
              "<table border=\"1\" class=\"dataframe\">\n",
              "  <thead>\n",
              "    <tr style=\"text-align: right;\">\n",
              "      <th></th>\n",
              "      <th>danceability</th>\n",
              "      <th>energy</th>\n",
              "      <th>valence</th>\n",
              "      <th>key</th>\n",
              "      <th>tempo</th>\n",
              "      <th>popularity</th>\n",
              "      <th>PREDICTED SCORE</th>\n",
              "    </tr>\n",
              "  </thead>\n",
              "  <tbody>\n",
              "    <tr>\n",
              "      <th>183</th>\n",
              "      <td>0.392</td>\n",
              "      <td>0.994</td>\n",
              "      <td>0.148</td>\n",
              "      <td>4</td>\n",
              "      <td>123.557</td>\n",
              "      <td>6</td>\n",
              "      <td>13.947799</td>\n",
              "    </tr>\n",
              "    <tr>\n",
              "      <th>255</th>\n",
              "      <td>0.429</td>\n",
              "      <td>0.411</td>\n",
              "      <td>0.673</td>\n",
              "      <td>9</td>\n",
              "      <td>174.977</td>\n",
              "      <td>9</td>\n",
              "      <td>10.509396</td>\n",
              "    </tr>\n",
              "    <tr>\n",
              "      <th>49</th>\n",
              "      <td>0.644</td>\n",
              "      <td>0.963</td>\n",
              "      <td>0.792</td>\n",
              "      <td>10</td>\n",
              "      <td>134.022</td>\n",
              "      <td>22</td>\n",
              "      <td>10.757589</td>\n",
              "    </tr>\n",
              "    <tr>\n",
              "      <th>435</th>\n",
              "      <td>0.387</td>\n",
              "      <td>0.981</td>\n",
              "      <td>0.553</td>\n",
              "      <td>3</td>\n",
              "      <td>175.065</td>\n",
              "      <td>17</td>\n",
              "      <td>13.605531</td>\n",
              "    </tr>\n",
              "    <tr>\n",
              "      <th>557</th>\n",
              "      <td>0.675</td>\n",
              "      <td>0.839</td>\n",
              "      <td>0.949</td>\n",
              "      <td>7</td>\n",
              "      <td>110.004</td>\n",
              "      <td>4</td>\n",
              "      <td>8.330501</td>\n",
              "    </tr>\n",
              "  </tbody>\n",
              "</table>\n",
              "</div>\n",
              "      <button class=\"colab-df-convert\" onclick=\"convertToInteractive('df-0bec2832-8067-4700-81da-d3b7f8650818')\"\n",
              "              title=\"Convert this dataframe to an interactive table.\"\n",
              "              style=\"display:none;\">\n",
              "        \n",
              "  <svg xmlns=\"http://www.w3.org/2000/svg\" height=\"24px\"viewBox=\"0 0 24 24\"\n",
              "       width=\"24px\">\n",
              "    <path d=\"M0 0h24v24H0V0z\" fill=\"none\"/>\n",
              "    <path d=\"M18.56 5.44l.94 2.06.94-2.06 2.06-.94-2.06-.94-.94-2.06-.94 2.06-2.06.94zm-11 1L8.5 8.5l.94-2.06 2.06-.94-2.06-.94L8.5 2.5l-.94 2.06-2.06.94zm10 10l.94 2.06.94-2.06 2.06-.94-2.06-.94-.94-2.06-.94 2.06-2.06.94z\"/><path d=\"M17.41 7.96l-1.37-1.37c-.4-.4-.92-.59-1.43-.59-.52 0-1.04.2-1.43.59L10.3 9.45l-7.72 7.72c-.78.78-.78 2.05 0 2.83L4 21.41c.39.39.9.59 1.41.59.51 0 1.02-.2 1.41-.59l7.78-7.78 2.81-2.81c.8-.78.8-2.07 0-2.86zM5.41 20L4 18.59l7.72-7.72 1.47 1.35L5.41 20z\"/>\n",
              "  </svg>\n",
              "      </button>\n",
              "      \n",
              "  <style>\n",
              "    .colab-df-container {\n",
              "      display:flex;\n",
              "      flex-wrap:wrap;\n",
              "      gap: 12px;\n",
              "    }\n",
              "\n",
              "    .colab-df-convert {\n",
              "      background-color: #E8F0FE;\n",
              "      border: none;\n",
              "      border-radius: 50%;\n",
              "      cursor: pointer;\n",
              "      display: none;\n",
              "      fill: #1967D2;\n",
              "      height: 32px;\n",
              "      padding: 0 0 0 0;\n",
              "      width: 32px;\n",
              "    }\n",
              "\n",
              "    .colab-df-convert:hover {\n",
              "      background-color: #E2EBFA;\n",
              "      box-shadow: 0px 1px 2px rgba(60, 64, 67, 0.3), 0px 1px 3px 1px rgba(60, 64, 67, 0.15);\n",
              "      fill: #174EA6;\n",
              "    }\n",
              "\n",
              "    [theme=dark] .colab-df-convert {\n",
              "      background-color: #3B4455;\n",
              "      fill: #D2E3FC;\n",
              "    }\n",
              "\n",
              "    [theme=dark] .colab-df-convert:hover {\n",
              "      background-color: #434B5C;\n",
              "      box-shadow: 0px 1px 3px 1px rgba(0, 0, 0, 0.15);\n",
              "      filter: drop-shadow(0px 1px 2px rgba(0, 0, 0, 0.3));\n",
              "      fill: #FFFFFF;\n",
              "    }\n",
              "  </style>\n",
              "\n",
              "      <script>\n",
              "        const buttonEl =\n",
              "          document.querySelector('#df-0bec2832-8067-4700-81da-d3b7f8650818 button.colab-df-convert');\n",
              "        buttonEl.style.display =\n",
              "          google.colab.kernel.accessAllowed ? 'block' : 'none';\n",
              "\n",
              "        async function convertToInteractive(key) {\n",
              "          const element = document.querySelector('#df-0bec2832-8067-4700-81da-d3b7f8650818');\n",
              "          const dataTable =\n",
              "            await google.colab.kernel.invokeFunction('convertToInteractive',\n",
              "                                                     [key], {});\n",
              "          if (!dataTable) return;\n",
              "\n",
              "          const docLinkHtml = 'Like what you see? Visit the ' +\n",
              "            '<a target=\"_blank\" href=https://colab.research.google.com/notebooks/data_table.ipynb>data table notebook</a>'\n",
              "            + ' to learn more about interactive tables.';\n",
              "          element.innerHTML = '';\n",
              "          dataTable['output_type'] = 'display_data';\n",
              "          await google.colab.output.renderOutput(dataTable, element);\n",
              "          const docLink = document.createElement('div');\n",
              "          docLink.innerHTML = docLinkHtml;\n",
              "          element.appendChild(docLink);\n",
              "        }\n",
              "      </script>\n",
              "    </div>\n",
              "  </div>\n",
              "  "
            ],
            "text/plain": [
              "     danceability  energy  valence  key    tempo  popularity  PREDICTED SCORE\n",
              "183         0.392   0.994    0.148    4  123.557           6        13.947799\n",
              "255         0.429   0.411    0.673    9  174.977           9        10.509396\n",
              "49          0.644   0.963    0.792   10  134.022          22        10.757589\n",
              "435         0.387   0.981    0.553    3  175.065          17        13.605531\n",
              "557         0.675   0.839    0.949    7  110.004           4         8.330501"
            ]
          },
          "execution_count": 32,
          "metadata": {},
          "output_type": "execute_result"
        }
      ],
      "source": [
        "df_test_set = x_test\n",
        "df_test_set = df_test_set.join(y_test)\n",
        "df_test_set['PREDICTED SCORE'] = predictions\n",
        "df_test_set.head(5)"
      ]
    },
    {
      "cell_type": "code",
      "execution_count": null,
      "metadata": {
        "colab": {
          "base_uri": "https://localhost:8080/",
          "height": 421
        },
        "id": "PGpjEzx-LSUn",
        "outputId": "28a556f2-c0a8-46bc-a38c-9fd0841d6ee2"
      },
      "outputs": [
        {
          "data": {
            "text/plain": [
              "Text(0, 0.5, 'Predicted')"
            ]
          },
          "execution_count": 33,
          "metadata": {},
          "output_type": "execute_result"
        },
        {
          "data": {
            "image/png": "[encoded data removed]",
            "text/plain": [
              "<Figure size 576x432 with 1 Axes>"
            ]
          },
          "metadata": {},
          "output_type": "display_data"
        }
      ],
      "source": [
        "# membandingkan hasil prediksi dan nilai asli\n",
        "plt.figure(figsize=(8, 6))\n",
        "plt.scatter(y_test, predictions)\n",
        "plt.title(\"Results\")\n",
        "plt.xlabel(\"Actual\")\n",
        "plt.ylabel(\"Predicted\")"
      ]
    },
    {
      "cell_type": "code",
      "execution_count": null,
      "metadata": {
        "colab": {
          "base_uri": "https://localhost:8080/",
          "height": 407
        },
        "id": "K_xNu251LSUp",
        "outputId": "0ff9b8cc-9543-47f8-f4fa-8db7f3fb6dcd"
      },
      "outputs": [
        {
          "data": {
            "text/plain": [
              "<matplotlib.legend.Legend at 0x7fca2e2ca550>"
            ]
          },
          "execution_count": 34,
          "metadata": {},
          "output_type": "execute_result"
        },
        {
          "data": {
            "image/png": "[encoded data removed]",
            "text/plain": [
              "<Figure size 720x432 with 1 Axes>"
            ]
          },
          "metadata": {},
          "output_type": "display_data"
        }
      ],
      "source": [
        "import numpy as np\n",
        "plt.figure(figsize=(10, 6))\n",
        "\n",
        "# mengurutkan nilai asli dari terkecil hingga tertinggi\n",
        "y_sorted = np.sort(y_test.tolist())\n",
        "y_sorted_index = np.argsort(y_test.tolist())\n",
        "\n",
        "# merubah urutan prediction score berdasarkan urutan y_sorted \n",
        "predictions_sorted = predictions[y_sorted_index]\n",
        "\n",
        "# plot kedua score\n",
        "plt.scatter(np.arange(0,len(y_sorted)), y_sorted, label='actual')\n",
        "plt.scatter(np.arange(0,len(y_sorted)), predictions_sorted, label='prediction')\n",
        "plt.title(\"Perbandingan nilai asli dengan prediksi model\")\n",
        "plt.legend()"
      ]
    },
    {
      "cell_type": "code",
      "execution_count": null,
      "metadata": {
        "colab": {
          "base_uri": "https://localhost:8080/"
        },
        "id": "RBTkj6AlLSUr",
        "outputId": "45fd7aff-ab41-45a1-cfe2-00d042791358"
      },
      "outputs": [
        {
          "name": "stdout",
          "output_type": "stream",
          "text": [
            "MAE: 5.6559027093967\n",
            "MSE: 55.50726964797714\n",
            "RMSE: 7.450320103725553\n"
          ]
        }
      ],
      "source": [
        "# mengevaluasi model dengan 3 metrik berbeda\n",
        "print('MAE:', metrics.mean_absolute_error(y_test, predictions))\n",
        "print('MSE:', metrics.mean_squared_error(y_test, predictions))\n",
        "print('RMSE:', np.sqrt(metrics.mean_squared_error(y_test, predictions)))"
      ]
    },
    {
      "cell_type": "markdown",
      "metadata": {
        "id": "MkuI3D3KLWLn"
      },
      "source": [
        "### **Model 7**: Mood Builder 3.0\n",
        "\n",
        "1. **Independent variables (X) :** 'danceability', 'energy', 'valence', 'tempo', 'loudness'\n",
        "2. **Dependent variable (Y) :** 'popularity'"
      ]
    },
    {
      "cell_type": "markdown",
      "metadata": {
        "id": "jGTrjrJxLWLq"
      },
      "source": [
        "#### a. Model Building"
      ]
    },
    {
      "cell_type": "code",
      "execution_count": null,
      "metadata": {
        "colab": {
          "base_uri": "https://localhost:8080/"
        },
        "id": "BLacogFWLWLs",
        "outputId": "ab639635-a4e9-4e0e-bcad-cc7b9f4db25c"
      },
      "outputs": [
        {
          "name": "stdout",
          "output_type": "stream",
          "text": [
            "X_train :  (545, 5)\n",
            "X_test :  (137, 5)\n",
            "Y_train :  (545,)\n",
            "Y_test :  (137,)\n"
          ]
        }
      ],
      "source": [
        "# memilih kolom untuk digunakan sebagai fitur model -- menghilangkan target variabel dan kolom tidak penting lainnya\n",
        "x = features_df.drop(columns=['length', 'popularity', 'acousticness', 'instrumentalness', 'liveness',\n",
        "                   'mode', 'key', 'speechiness'])\n",
        "# memilih kolom untuk digunakan sebagai variabel target\n",
        "y = features_df['popularity']\n",
        "\n",
        "# membagi data ke training dan testing data\n",
        "x_train, x_test, y_train, y_test = train_test_split(x, y, test_size=0.2)\n",
        "\n",
        "print(\"X_train : \", x_train.shape)\n",
        "print(\"X_test : \", x_test.shape)\n",
        "print(\"Y_train : \", y_train.shape)\n",
        "print(\"Y_test : \", y_test.shape)"
      ]
    },
    {
      "cell_type": "code",
      "execution_count": null,
      "metadata": {
        "colab": {
          "base_uri": "https://localhost:8080/"
        },
        "id": "KEgB9Vy4LWLv",
        "outputId": "a1f57825-e350-44ef-ecc3-b808c97590ea"
      },
      "outputs": [
        {
          "data": {
            "text/plain": [
              "LinearRegression()"
            ]
          },
          "execution_count": 41,
          "metadata": {},
          "output_type": "execute_result"
        }
      ],
      "source": [
        "# membuat model linear regression\n",
        "linear_regression_model = LinearRegression()\n",
        "# \"training\" model dengan dataset yang sesuai\n",
        "linear_regression_model.fit(x_train,y_train)"
      ]
    },
    {
      "cell_type": "code",
      "execution_count": null,
      "metadata": {
        "colab": {
          "base_uri": "https://localhost:8080/"
        },
        "id": "GaHM09gFLWLx",
        "outputId": "02f01d1a-c6fd-4309-9580-d9cb35dea141"
      },
      "outputs": [
        {
          "data": {
            "text/plain": [
              "array([-6.54142364, 11.49570872, -1.32276477, -3.04251792,  0.02547711])"
            ]
          },
          "execution_count": 42,
          "metadata": {},
          "output_type": "execute_result"
        }
      ],
      "source": [
        "# mengambil koefisien yang didapatkan dari model\n",
        "linear_regression_model.coef_"
      ]
    },
    {
      "cell_type": "code",
      "execution_count": null,
      "metadata": {
        "colab": {
          "base_uri": "https://localhost:8080/",
          "height": 206
        },
        "id": "5j9fn_NoLWL7",
        "outputId": "93ba1772-7b3a-4b94-befb-2efe0b3f637a"
      },
      "outputs": [
        {
          "data": {
            "text/html": [
              "\n",
              "  <div id=\"df-b4569c3b-98de-40e4-87a7-cea5a40ce21f\">\n",
              "    <div class=\"colab-df-container\">\n",
              "      <div>\n",
              "<style scoped>\n",
              "    .dataframe tbody tr th:only-of-type {\n",
              "        vertical-align: middle;\n",
              "    }\n",
              "\n",
              "    .dataframe tbody tr th {\n",
              "        vertical-align: top;\n",
              "    }\n",
              "\n",
              "    .dataframe thead th {\n",
              "        text-align: right;\n",
              "    }\n",
              "</style>\n",
              "<table border=\"1\" class=\"dataframe\">\n",
              "  <thead>\n",
              "    <tr style=\"text-align: right;\">\n",
              "      <th></th>\n",
              "      <th>Coefficient</th>\n",
              "    </tr>\n",
              "  </thead>\n",
              "  <tbody>\n",
              "    <tr>\n",
              "      <th>danceability</th>\n",
              "      <td>-6.541424</td>\n",
              "    </tr>\n",
              "    <tr>\n",
              "      <th>energy</th>\n",
              "      <td>11.495709</td>\n",
              "    </tr>\n",
              "    <tr>\n",
              "      <th>loudness</th>\n",
              "      <td>-1.322765</td>\n",
              "    </tr>\n",
              "    <tr>\n",
              "      <th>valence</th>\n",
              "      <td>-3.042518</td>\n",
              "    </tr>\n",
              "    <tr>\n",
              "      <th>tempo</th>\n",
              "      <td>0.025477</td>\n",
              "    </tr>\n",
              "  </tbody>\n",
              "</table>\n",
              "</div>\n",
              "      <button class=\"colab-df-convert\" onclick=\"convertToInteractive('df-b4569c3b-98de-40e4-87a7-cea5a40ce21f')\"\n",
              "              title=\"Convert this dataframe to an interactive table.\"\n",
              "              style=\"display:none;\">\n",
              "        \n",
              "  <svg xmlns=\"http://www.w3.org/2000/svg\" height=\"24px\"viewBox=\"0 0 24 24\"\n",
              "       width=\"24px\">\n",
              "    <path d=\"M0 0h24v24H0V0z\" fill=\"none\"/>\n",
              "    <path d=\"M18.56 5.44l.94 2.06.94-2.06 2.06-.94-2.06-.94-.94-2.06-.94 2.06-2.06.94zm-11 1L8.5 8.5l.94-2.06 2.06-.94-2.06-.94L8.5 2.5l-.94 2.06-2.06.94zm10 10l.94 2.06.94-2.06 2.06-.94-2.06-.94-.94-2.06-.94 2.06-2.06.94z\"/><path d=\"M17.41 7.96l-1.37-1.37c-.4-.4-.92-.59-1.43-.59-.52 0-1.04.2-1.43.59L10.3 9.45l-7.72 7.72c-.78.78-.78 2.05 0 2.83L4 21.41c.39.39.9.59 1.41.59.51 0 1.02-.2 1.41-.59l7.78-7.78 2.81-2.81c.8-.78.8-2.07 0-2.86zM5.41 20L4 18.59l7.72-7.72 1.47 1.35L5.41 20z\"/>\n",
              "  </svg>\n",
              "      </button>\n",
              "      \n",
              "  <style>\n",
              "    .colab-df-container {\n",
              "      display:flex;\n",
              "      flex-wrap:wrap;\n",
              "      gap: 12px;\n",
              "    }\n",
              "\n",
              "    .colab-df-convert {\n",
              "      background-color: #E8F0FE;\n",
              "      border: none;\n",
              "      border-radius: 50%;\n",
              "      cursor: pointer;\n",
              "      display: none;\n",
              "      fill: #1967D2;\n",
              "      height: 32px;\n",
              "      padding: 0 0 0 0;\n",
              "      width: 32px;\n",
              "    }\n",
              "\n",
              "    .colab-df-convert:hover {\n",
              "      background-color: #E2EBFA;\n",
              "      box-shadow: 0px 1px 2px rgba(60, 64, 67, 0.3), 0px 1px 3px 1px rgba(60, 64, 67, 0.15);\n",
              "      fill: #174EA6;\n",
              "    }\n",
              "\n",
              "    [theme=dark] .colab-df-convert {\n",
              "      background-color: #3B4455;\n",
              "      fill: #D2E3FC;\n",
              "    }\n",
              "\n",
              "    [theme=dark] .colab-df-convert:hover {\n",
              "      background-color: #434B5C;\n",
              "      box-shadow: 0px 1px 3px 1px rgba(0, 0, 0, 0.15);\n",
              "      filter: drop-shadow(0px 1px 2px rgba(0, 0, 0, 0.3));\n",
              "      fill: #FFFFFF;\n",
              "    }\n",
              "  </style>\n",
              "\n",
              "      <script>\n",
              "        const buttonEl =\n",
              "          document.querySelector('#df-b4569c3b-98de-40e4-87a7-cea5a40ce21f button.colab-df-convert');\n",
              "        buttonEl.style.display =\n",
              "          google.colab.kernel.accessAllowed ? 'block' : 'none';\n",
              "\n",
              "        async function convertToInteractive(key) {\n",
              "          const element = document.querySelector('#df-b4569c3b-98de-40e4-87a7-cea5a40ce21f');\n",
              "          const dataTable =\n",
              "            await google.colab.kernel.invokeFunction('convertToInteractive',\n",
              "                                                     [key], {});\n",
              "          if (!dataTable) return;\n",
              "\n",
              "          const docLinkHtml = 'Like what you see? Visit the ' +\n",
              "            '<a target=\"_blank\" href=https://colab.research.google.com/notebooks/data_table.ipynb>data table notebook</a>'\n",
              "            + ' to learn more about interactive tables.';\n",
              "          element.innerHTML = '';\n",
              "          dataTable['output_type'] = 'display_data';\n",
              "          await google.colab.output.renderOutput(dataTable, element);\n",
              "          const docLink = document.createElement('div');\n",
              "          docLink.innerHTML = docLinkHtml;\n",
              "          element.appendChild(docLink);\n",
              "        }\n",
              "      </script>\n",
              "    </div>\n",
              "  </div>\n",
              "  "
            ],
            "text/plain": [
              "              Coefficient\n",
              "danceability    -6.541424\n",
              "energy          11.495709\n",
              "loudness        -1.322765\n",
              "valence         -3.042518\n",
              "tempo            0.025477"
            ]
          },
          "execution_count": 43,
          "metadata": {},
          "output_type": "execute_result"
        }
      ],
      "source": [
        "# menampilkan hasil linear regression (koefisien dari model)\n",
        "coeff_df = pd.DataFrame(linear_regression_model.coef_, x.columns, columns = [\"Coefficient\"])\n",
        "coeff_df"
      ]
    },
    {
      "cell_type": "code",
      "execution_count": null,
      "metadata": {
        "colab": {
          "base_uri": "https://localhost:8080/"
        },
        "id": "aEwyLNOsLWMA",
        "outputId": "e62ce8d4-9ac1-4aec-feef-c3fafd4cb4ae"
      },
      "outputs": [
        {
          "data": {
            "text/plain": [
              "-2.0294250857468263"
            ]
          },
          "execution_count": 44,
          "metadata": {},
          "output_type": "execute_result"
        }
      ],
      "source": [
        "# mengambil bias dari model\n",
        "linear_regression_model.intercept_"
      ]
    },
    {
      "cell_type": "markdown",
      "metadata": {
        "id": "S10U2tG6LWMB"
      },
      "source": [
        "#### b. Model Evaluation"
      ]
    },
    {
      "cell_type": "code",
      "execution_count": null,
      "metadata": {
        "id": "Jpo6AwHALWMD"
      },
      "outputs": [],
      "source": [
        "# menggunakan model untuk memprediksi nilai matematika menggunakan testing dataset\n",
        "predictions = linear_regression_model.predict(x_test)"
      ]
    },
    {
      "cell_type": "code",
      "execution_count": null,
      "metadata": {
        "colab": {
          "base_uri": "https://localhost:8080/",
          "height": 206
        },
        "id": "ccwDmw2BLWME",
        "outputId": "06e3153d-6f91-4007-9333-547847990ef9"
      },
      "outputs": [
        {
          "data": {
            "text/html": [
              "\n",
              "  <div id=\"df-5f6426c5-b0f8-4c1f-958b-40a29c57efe0\">\n",
              "    <div class=\"colab-df-container\">\n",
              "      <div>\n",
              "<style scoped>\n",
              "    .dataframe tbody tr th:only-of-type {\n",
              "        vertical-align: middle;\n",
              "    }\n",
              "\n",
              "    .dataframe tbody tr th {\n",
              "        vertical-align: top;\n",
              "    }\n",
              "\n",
              "    .dataframe thead th {\n",
              "        text-align: right;\n",
              "    }\n",
              "</style>\n",
              "<table border=\"1\" class=\"dataframe\">\n",
              "  <thead>\n",
              "    <tr style=\"text-align: right;\">\n",
              "      <th></th>\n",
              "      <th>danceability</th>\n",
              "      <th>energy</th>\n",
              "      <th>loudness</th>\n",
              "      <th>valence</th>\n",
              "      <th>tempo</th>\n",
              "      <th>popularity</th>\n",
              "      <th>PREDICTED SCORE</th>\n",
              "    </tr>\n",
              "  </thead>\n",
              "  <tbody>\n",
              "    <tr>\n",
              "      <th>471</th>\n",
              "      <td>0.593</td>\n",
              "      <td>0.880</td>\n",
              "      <td>-3.949</td>\n",
              "      <td>0.690</td>\n",
              "      <td>129.970</td>\n",
              "      <td>15</td>\n",
              "      <td>10.643255</td>\n",
              "    </tr>\n",
              "    <tr>\n",
              "      <th>407</th>\n",
              "      <td>0.425</td>\n",
              "      <td>0.905</td>\n",
              "      <td>-3.805</td>\n",
              "      <td>0.770</td>\n",
              "      <td>206.125</td>\n",
              "      <td>9</td>\n",
              "      <td>13.535937</td>\n",
              "    </tr>\n",
              "    <tr>\n",
              "      <th>112</th>\n",
              "      <td>0.533</td>\n",
              "      <td>0.827</td>\n",
              "      <td>-4.989</td>\n",
              "      <td>0.546</td>\n",
              "      <td>131.002</td>\n",
              "      <td>7</td>\n",
              "      <td>12.266559</td>\n",
              "    </tr>\n",
              "    <tr>\n",
              "      <th>485</th>\n",
              "      <td>0.346</td>\n",
              "      <td>0.887</td>\n",
              "      <td>-3.409</td>\n",
              "      <td>0.219</td>\n",
              "      <td>168.065</td>\n",
              "      <td>18</td>\n",
              "      <td>14.028741</td>\n",
              "    </tr>\n",
              "    <tr>\n",
              "      <th>39</th>\n",
              "      <td>0.490</td>\n",
              "      <td>0.971</td>\n",
              "      <td>-6.525</td>\n",
              "      <td>0.558</td>\n",
              "      <td>117.948</td>\n",
              "      <td>9</td>\n",
              "      <td>15.865900</td>\n",
              "    </tr>\n",
              "  </tbody>\n",
              "</table>\n",
              "</div>\n",
              "      <button class=\"colab-df-convert\" onclick=\"convertToInteractive('df-5f6426c5-b0f8-4c1f-958b-40a29c57efe0')\"\n",
              "              title=\"Convert this dataframe to an interactive table.\"\n",
              "              style=\"display:none;\">\n",
              "        \n",
              "  <svg xmlns=\"http://www.w3.org/2000/svg\" height=\"24px\"viewBox=\"0 0 24 24\"\n",
              "       width=\"24px\">\n",
              "    <path d=\"M0 0h24v24H0V0z\" fill=\"none\"/>\n",
              "    <path d=\"M18.56 5.44l.94 2.06.94-2.06 2.06-.94-2.06-.94-.94-2.06-.94 2.06-2.06.94zm-11 1L8.5 8.5l.94-2.06 2.06-.94-2.06-.94L8.5 2.5l-.94 2.06-2.06.94zm10 10l.94 2.06.94-2.06 2.06-.94-2.06-.94-.94-2.06-.94 2.06-2.06.94z\"/><path d=\"M17.41 7.96l-1.37-1.37c-.4-.4-.92-.59-1.43-.59-.52 0-1.04.2-1.43.59L10.3 9.45l-7.72 7.72c-.78.78-.78 2.05 0 2.83L4 21.41c.39.39.9.59 1.41.59.51 0 1.02-.2 1.41-.59l7.78-7.78 2.81-2.81c.8-.78.8-2.07 0-2.86zM5.41 20L4 18.59l7.72-7.72 1.47 1.35L5.41 20z\"/>\n",
              "  </svg>\n",
              "      </button>\n",
              "      \n",
              "  <style>\n",
              "    .colab-df-container {\n",
              "      display:flex;\n",
              "      flex-wrap:wrap;\n",
              "      gap: 12px;\n",
              "    }\n",
              "\n",
              "    .colab-df-convert {\n",
              "      background-color: #E8F0FE;\n",
              "      border: none;\n",
              "      border-radius: 50%;\n",
              "      cursor: pointer;\n",
              "      display: none;\n",
              "      fill: #1967D2;\n",
              "      height: 32px;\n",
              "      padding: 0 0 0 0;\n",
              "      width: 32px;\n",
              "    }\n",
              "\n",
              "    .colab-df-convert:hover {\n",
              "      background-color: #E2EBFA;\n",
              "      box-shadow: 0px 1px 2px rgba(60, 64, 67, 0.3), 0px 1px 3px 1px rgba(60, 64, 67, 0.15);\n",
              "      fill: #174EA6;\n",
              "    }\n",
              "\n",
              "    [theme=dark] .colab-df-convert {\n",
              "      background-color: #3B4455;\n",
              "      fill: #D2E3FC;\n",
              "    }\n",
              "\n",
              "    [theme=dark] .colab-df-convert:hover {\n",
              "      background-color: #434B5C;\n",
              "      box-shadow: 0px 1px 3px 1px rgba(0, 0, 0, 0.15);\n",
              "      filter: drop-shadow(0px 1px 2px rgba(0, 0, 0, 0.3));\n",
              "      fill: #FFFFFF;\n",
              "    }\n",
              "  </style>\n",
              "\n",
              "      <script>\n",
              "        const buttonEl =\n",
              "          document.querySelector('#df-5f6426c5-b0f8-4c1f-958b-40a29c57efe0 button.colab-df-convert');\n",
              "        buttonEl.style.display =\n",
              "          google.colab.kernel.accessAllowed ? 'block' : 'none';\n",
              "\n",
              "        async function convertToInteractive(key) {\n",
              "          const element = document.querySelector('#df-5f6426c5-b0f8-4c1f-958b-40a29c57efe0');\n",
              "          const dataTable =\n",
              "            await google.colab.kernel.invokeFunction('convertToInteractive',\n",
              "                                                     [key], {});\n",
              "          if (!dataTable) return;\n",
              "\n",
              "          const docLinkHtml = 'Like what you see? Visit the ' +\n",
              "            '<a target=\"_blank\" href=https://colab.research.google.com/notebooks/data_table.ipynb>data table notebook</a>'\n",
              "            + ' to learn more about interactive tables.';\n",
              "          element.innerHTML = '';\n",
              "          dataTable['output_type'] = 'display_data';\n",
              "          await google.colab.output.renderOutput(dataTable, element);\n",
              "          const docLink = document.createElement('div');\n",
              "          docLink.innerHTML = docLinkHtml;\n",
              "          element.appendChild(docLink);\n",
              "        }\n",
              "      </script>\n",
              "    </div>\n",
              "  </div>\n",
              "  "
            ],
            "text/plain": [
              "     danceability  energy  loudness  valence    tempo  popularity  \\\n",
              "471         0.593   0.880    -3.949    0.690  129.970          15   \n",
              "407         0.425   0.905    -3.805    0.770  206.125           9   \n",
              "112         0.533   0.827    -4.989    0.546  131.002           7   \n",
              "485         0.346   0.887    -3.409    0.219  168.065          18   \n",
              "39          0.490   0.971    -6.525    0.558  117.948           9   \n",
              "\n",
              "     PREDICTED SCORE  \n",
              "471        10.643255  \n",
              "407        13.535937  \n",
              "112        12.266559  \n",
              "485        14.028741  \n",
              "39         15.865900  "
            ]
          },
          "execution_count": 47,
          "metadata": {},
          "output_type": "execute_result"
        }
      ],
      "source": [
        "df_test_set = x_test\n",
        "df_test_set = df_test_set.join(y_test)\n",
        "df_test_set['PREDICTED SCORE'] = predictions\n",
        "df_test_set.head(5)"
      ]
    },
    {
      "cell_type": "code",
      "execution_count": null,
      "metadata": {
        "colab": {
          "base_uri": "https://localhost:8080/",
          "height": 421
        },
        "id": "YItkuV0OLWMH",
        "outputId": "7c75fc80-0089-44d8-9176-37a962aa4ab8"
      },
      "outputs": [
        {
          "data": {
            "text/plain": [
              "Text(0, 0.5, 'Predicted')"
            ]
          },
          "execution_count": 48,
          "metadata": {},
          "output_type": "execute_result"
        },
        {
          "data": {
            "image/png": "[encoded data removed]",
            "text/plain": [
              "<Figure size 576x432 with 1 Axes>"
            ]
          },
          "metadata": {},
          "output_type": "display_data"
        }
      ],
      "source": [
        "# membandingkan hasil prediksi dan nilai asli\n",
        "plt.figure(figsize=(8, 6))\n",
        "plt.scatter(y_test, predictions)\n",
        "plt.title(\"Results\")\n",
        "plt.xlabel(\"Actual\")\n",
        "plt.ylabel(\"Predicted\")"
      ]
    },
    {
      "cell_type": "code",
      "execution_count": null,
      "metadata": {
        "colab": {
          "base_uri": "https://localhost:8080/",
          "height": 407
        },
        "id": "fABwBmVYLWMJ",
        "outputId": "caa6a6c6-3407-4226-e9eb-e642528d7648"
      },
      "outputs": [
        {
          "data": {
            "text/plain": [
              "<matplotlib.legend.Legend at 0x7fca2e206890>"
            ]
          },
          "execution_count": 49,
          "metadata": {},
          "output_type": "execute_result"
        },
        {
          "data": {
            "image/png": "[encoded data removed]",
            "text/plain": [
              "<Figure size 720x432 with 1 Axes>"
            ]
          },
          "metadata": {},
          "output_type": "display_data"
        }
      ],
      "source": [
        "import numpy as np\n",
        "plt.figure(figsize=(10, 6))\n",
        "\n",
        "# mengurutkan nilai asli dari terkecil hingga tertinggi\n",
        "y_sorted = np.sort(y_test.tolist())\n",
        "y_sorted_index = np.argsort(y_test.tolist())\n",
        "\n",
        "# merubah urutan prediction score berdasarkan urutan y_sorted \n",
        "predictions_sorted = predictions[y_sorted_index]\n",
        "\n",
        "# plot kedua score\n",
        "plt.scatter(np.arange(0,len(y_sorted)), y_sorted, label='actual')\n",
        "plt.scatter(np.arange(0,len(y_sorted)), predictions_sorted, label='prediction')\n",
        "plt.title(\"Perbandingan nilai asli dengan prediksi model\")\n",
        "plt.legend()"
      ]
    },
    {
      "cell_type": "code",
      "execution_count": null,
      "metadata": {
        "colab": {
          "base_uri": "https://localhost:8080/"
        },
        "id": "B9kQXNw3LWML",
        "outputId": "50142355-f213-42c2-cd94-9793f8f2c276"
      },
      "outputs": [
        {
          "name": "stdout",
          "output_type": "stream",
          "text": [
            "MAE: 4.885135147054036\n",
            "MSE: 39.39183052992884\n",
            "RMSE: 6.276291144452179\n"
          ]
        }
      ],
      "source": [
        "# mengevaluasi model dengan 3 metrik berbeda\n",
        "print('MAE:', metrics.mean_absolute_error(y_test, predictions))\n",
        "print('MSE:', metrics.mean_squared_error(y_test, predictions))\n",
        "print('RMSE:', np.sqrt(metrics.mean_squared_error(y_test, predictions)))"
      ]
    },
    {
      "cell_type": "markdown",
      "metadata": {
        "id": "pFgCyS3MLZhg"
      },
      "source": [
        "### **Model 8**: Mood Builder 4.0\n",
        "\n",
        "1. **Independent variables (X) :** 'danceability', 'energy', 'valence', 'tempo', 'key', 'loudness'\n",
        "2. **Dependent variable (Y) :** 'popularity'"
      ]
    },
    {
      "cell_type": "markdown",
      "metadata": {
        "id": "Sh9Q8voMLZhi"
      },
      "source": [
        "#### a. Model Building"
      ]
    },
    {
      "cell_type": "code",
      "execution_count": null,
      "metadata": {
        "colab": {
          "base_uri": "https://localhost:8080/"
        },
        "id": "BM2We7lfLZhk",
        "outputId": "377f838b-bab9-4198-e0c4-2e7126c789c9"
      },
      "outputs": [
        {
          "name": "stdout",
          "output_type": "stream",
          "text": [
            "X_train :  (545, 6)\n",
            "X_test :  (137, 6)\n",
            "Y_train :  (545,)\n",
            "Y_test :  (137,)\n"
          ]
        }
      ],
      "source": [
        "# memilih kolom untuk digunakan sebagai fitur model -- menghilangkan target variabel dan kolom tidak penting lainnya\n",
        "x = features_df.drop(columns=['length', 'popularity', 'acousticness', 'instrumentalness', 'liveness',\n",
        "                  'mode', 'speechiness'])\n",
        "# memilih kolom untuk digunakan sebagai variabel target\n",
        "y = features_df['popularity']\n",
        "\n",
        "# membagi data ke training dan testing data\n",
        "x_train, x_test, y_train, y_test = train_test_split(x, y, test_size=0.2)\n",
        "\n",
        "print(\"X_train : \", x_train.shape)\n",
        "print(\"X_test : \", x_test.shape)\n",
        "print(\"Y_train : \", y_train.shape)\n",
        "print(\"Y_test : \", y_test.shape)"
      ]
    },
    {
      "cell_type": "code",
      "execution_count": null,
      "metadata": {
        "colab": {
          "base_uri": "https://localhost:8080/"
        },
        "id": "U1ERZ-PeLZhn",
        "outputId": "c8b1faf7-5162-4d16-f124-5261a101e570"
      },
      "outputs": [
        {
          "data": {
            "text/plain": [
              "LinearRegression()"
            ]
          },
          "execution_count": 52,
          "metadata": {},
          "output_type": "execute_result"
        }
      ],
      "source": [
        "# membuat model linear regression\n",
        "linear_regression_model = LinearRegression()\n",
        "# \"training\" model dengan dataset yang sesuai\n",
        "linear_regression_model.fit(x_train,y_train)"
      ]
    },
    {
      "cell_type": "code",
      "execution_count": null,
      "metadata": {
        "colab": {
          "base_uri": "https://localhost:8080/"
        },
        "id": "f5ddG4aHLZhp",
        "outputId": "a4042020-0cc5-4848-c3e9-ca17a2e9eaa5"
      },
      "outputs": [
        {
          "data": {
            "text/plain": [
              "array([-6.3874438 , 10.2949264 , -1.10289581, -2.74565889,  0.30512805,\n",
              "        0.02567088])"
            ]
          },
          "execution_count": 53,
          "metadata": {},
          "output_type": "execute_result"
        }
      ],
      "source": [
        "# mengambil koefisien yang didapatkan dari model\n",
        "linear_regression_model.coef_"
      ]
    },
    {
      "cell_type": "code",
      "execution_count": null,
      "metadata": {
        "colab": {
          "base_uri": "https://localhost:8080/",
          "height": 238
        },
        "id": "rwke5ODOLZhr",
        "outputId": "100cca42-ec40-43a6-88c5-701fe58354e2"
      },
      "outputs": [
        {
          "data": {
            "text/html": [
              "\n",
              "  <div id=\"df-f93dffc1-d97a-4097-a569-3f4fa4a5bb18\">\n",
              "    <div class=\"colab-df-container\">\n",
              "      <div>\n",
              "<style scoped>\n",
              "    .dataframe tbody tr th:only-of-type {\n",
              "        vertical-align: middle;\n",
              "    }\n",
              "\n",
              "    .dataframe tbody tr th {\n",
              "        vertical-align: top;\n",
              "    }\n",
              "\n",
              "    .dataframe thead th {\n",
              "        text-align: right;\n",
              "    }\n",
              "</style>\n",
              "<table border=\"1\" class=\"dataframe\">\n",
              "  <thead>\n",
              "    <tr style=\"text-align: right;\">\n",
              "      <th></th>\n",
              "      <th>Coefficient</th>\n",
              "    </tr>\n",
              "  </thead>\n",
              "  <tbody>\n",
              "    <tr>\n",
              "      <th>danceability</th>\n",
              "      <td>-6.387444</td>\n",
              "    </tr>\n",
              "    <tr>\n",
              "      <th>energy</th>\n",
              "      <td>10.294926</td>\n",
              "    </tr>\n",
              "    <tr>\n",
              "      <th>loudness</th>\n",
              "      <td>-1.102896</td>\n",
              "    </tr>\n",
              "    <tr>\n",
              "      <th>valence</th>\n",
              "      <td>-2.745659</td>\n",
              "    </tr>\n",
              "    <tr>\n",
              "      <th>key</th>\n",
              "      <td>0.305128</td>\n",
              "    </tr>\n",
              "    <tr>\n",
              "      <th>tempo</th>\n",
              "      <td>0.025671</td>\n",
              "    </tr>\n",
              "  </tbody>\n",
              "</table>\n",
              "</div>\n",
              "      <button class=\"colab-df-convert\" onclick=\"convertToInteractive('df-f93dffc1-d97a-4097-a569-3f4fa4a5bb18')\"\n",
              "              title=\"Convert this dataframe to an interactive table.\"\n",
              "              style=\"display:none;\">\n",
              "        \n",
              "  <svg xmlns=\"http://www.w3.org/2000/svg\" height=\"24px\"viewBox=\"0 0 24 24\"\n",
              "       width=\"24px\">\n",
              "    <path d=\"M0 0h24v24H0V0z\" fill=\"none\"/>\n",
              "    <path d=\"M18.56 5.44l.94 2.06.94-2.06 2.06-.94-2.06-.94-.94-2.06-.94 2.06-2.06.94zm-11 1L8.5 8.5l.94-2.06 2.06-.94-2.06-.94L8.5 2.5l-.94 2.06-2.06.94zm10 10l.94 2.06.94-2.06 2.06-.94-2.06-.94-.94-2.06-.94 2.06-2.06.94z\"/><path d=\"M17.41 7.96l-1.37-1.37c-.4-.4-.92-.59-1.43-.59-.52 0-1.04.2-1.43.59L10.3 9.45l-7.72 7.72c-.78.78-.78 2.05 0 2.83L4 21.41c.39.39.9.59 1.41.59.51 0 1.02-.2 1.41-.59l7.78-7.78 2.81-2.81c.8-.78.8-2.07 0-2.86zM5.41 20L4 18.59l7.72-7.72 1.47 1.35L5.41 20z\"/>\n",
              "  </svg>\n",
              "      </button>\n",
              "      \n",
              "  <style>\n",
              "    .colab-df-container {\n",
              "      display:flex;\n",
              "      flex-wrap:wrap;\n",
              "      gap: 12px;\n",
              "    }\n",
              "\n",
              "    .colab-df-convert {\n",
              "      background-color: #E8F0FE;\n",
              "      border: none;\n",
              "      border-radius: 50%;\n",
              "      cursor: pointer;\n",
              "      display: none;\n",
              "      fill: #1967D2;\n",
              "      height: 32px;\n",
              "      padding: 0 0 0 0;\n",
              "      width: 32px;\n",
              "    }\n",
              "\n",
              "    .colab-df-convert:hover {\n",
              "      background-color: #E2EBFA;\n",
              "      box-shadow: 0px 1px 2px rgba(60, 64, 67, 0.3), 0px 1px 3px 1px rgba(60, 64, 67, 0.15);\n",
              "      fill: #174EA6;\n",
              "    }\n",
              "\n",
              "    [theme=dark] .colab-df-convert {\n",
              "      background-color: #3B4455;\n",
              "      fill: #D2E3FC;\n",
              "    }\n",
              "\n",
              "    [theme=dark] .colab-df-convert:hover {\n",
              "      background-color: #434B5C;\n",
              "      box-shadow: 0px 1px 3px 1px rgba(0, 0, 0, 0.15);\n",
              "      filter: drop-shadow(0px 1px 2px rgba(0, 0, 0, 0.3));\n",
              "      fill: #FFFFFF;\n",
              "    }\n",
              "  </style>\n",
              "\n",
              "      <script>\n",
              "        const buttonEl =\n",
              "          document.querySelector('#df-f93dffc1-d97a-4097-a569-3f4fa4a5bb18 button.colab-df-convert');\n",
              "        buttonEl.style.display =\n",
              "          google.colab.kernel.accessAllowed ? 'block' : 'none';\n",
              "\n",
              "        async function convertToInteractive(key) {\n",
              "          const element = document.querySelector('#df-f93dffc1-d97a-4097-a569-3f4fa4a5bb18');\n",
              "          const dataTable =\n",
              "            await google.colab.kernel.invokeFunction('convertToInteractive',\n",
              "                                                     [key], {});\n",
              "          if (!dataTable) return;\n",
              "\n",
              "          const docLinkHtml = 'Like what you see? Visit the ' +\n",
              "            '<a target=\"_blank\" href=https://colab.research.google.com/notebooks/data_table.ipynb>data table notebook</a>'\n",
              "            + ' to learn more about interactive tables.';\n",
              "          element.innerHTML = '';\n",
              "          dataTable['output_type'] = 'display_data';\n",
              "          await google.colab.output.renderOutput(dataTable, element);\n",
              "          const docLink = document.createElement('div');\n",
              "          docLink.innerHTML = docLinkHtml;\n",
              "          element.appendChild(docLink);\n",
              "        }\n",
              "      </script>\n",
              "    </div>\n",
              "  </div>\n",
              "  "
            ],
            "text/plain": [
              "              Coefficient\n",
              "danceability    -6.387444\n",
              "energy          10.294926\n",
              "loudness        -1.102896\n",
              "valence         -2.745659\n",
              "key              0.305128\n",
              "tempo            0.025671"
            ]
          },
          "execution_count": 54,
          "metadata": {},
          "output_type": "execute_result"
        }
      ],
      "source": [
        "# menampilkan hasil linear regression (koefisien dari model)\n",
        "coeff_df = pd.DataFrame(linear_regression_model.coef_, x.columns, columns = [\"Coefficient\"])\n",
        "coeff_df"
      ]
    },
    {
      "cell_type": "code",
      "execution_count": null,
      "metadata": {
        "colab": {
          "base_uri": "https://localhost:8080/"
        },
        "id": "pITwGSkyLZjD",
        "outputId": "d65714a2-4732-46b3-e46a-4d43d38c8afa"
      },
      "outputs": [
        {
          "data": {
            "text/plain": [
              "-2.2261058468092596"
            ]
          },
          "execution_count": 55,
          "metadata": {},
          "output_type": "execute_result"
        }
      ],
      "source": [
        "# mengambil bias dari model\n",
        "linear_regression_model.intercept_"
      ]
    },
    {
      "cell_type": "markdown",
      "metadata": {
        "id": "Yu2UgdYhLZjI"
      },
      "source": [
        "#### b. Model Evaluation"
      ]
    },
    {
      "cell_type": "code",
      "execution_count": null,
      "metadata": {
        "id": "o12CznkNLZjO"
      },
      "outputs": [],
      "source": [
        "# menggunakan model untuk memprediksi nilai matematika menggunakan testing dataset\n",
        "predictions = linear_regression_model.predict(x_test)"
      ]
    },
    {
      "cell_type": "code",
      "execution_count": null,
      "metadata": {
        "colab": {
          "base_uri": "https://localhost:8080/",
          "height": 206
        },
        "id": "OEnFc942LZjQ",
        "outputId": "fabc1457-7686-4115-f0cb-41e9841d5591"
      },
      "outputs": [
        {
          "data": {
            "text/html": [
              "\n",
              "  <div id=\"df-3707bdbd-ad20-4095-aacf-4f2e5effd703\">\n",
              "    <div class=\"colab-df-container\">\n",
              "      <div>\n",
              "<style scoped>\n",
              "    .dataframe tbody tr th:only-of-type {\n",
              "        vertical-align: middle;\n",
              "    }\n",
              "\n",
              "    .dataframe tbody tr th {\n",
              "        vertical-align: top;\n",
              "    }\n",
              "\n",
              "    .dataframe thead th {\n",
              "        text-align: right;\n",
              "    }\n",
              "</style>\n",
              "<table border=\"1\" class=\"dataframe\">\n",
              "  <thead>\n",
              "    <tr style=\"text-align: right;\">\n",
              "      <th></th>\n",
              "      <th>danceability</th>\n",
              "      <th>energy</th>\n",
              "      <th>loudness</th>\n",
              "      <th>valence</th>\n",
              "      <th>key</th>\n",
              "      <th>tempo</th>\n",
              "      <th>popularity</th>\n",
              "      <th>PREDICTED SCORE</th>\n",
              "    </tr>\n",
              "  </thead>\n",
              "  <tbody>\n",
              "    <tr>\n",
              "      <th>463</th>\n",
              "      <td>0.414</td>\n",
              "      <td>0.899</td>\n",
              "      <td>-3.882</td>\n",
              "      <td>0.657</td>\n",
              "      <td>7</td>\n",
              "      <td>168.034</td>\n",
              "      <td>16</td>\n",
              "      <td>13.311652</td>\n",
              "    </tr>\n",
              "    <tr>\n",
              "      <th>611</th>\n",
              "      <td>0.546</td>\n",
              "      <td>0.931</td>\n",
              "      <td>-2.226</td>\n",
              "      <td>0.747</td>\n",
              "      <td>11</td>\n",
              "      <td>96.012</td>\n",
              "      <td>6</td>\n",
              "      <td>10.096086</td>\n",
              "    </tr>\n",
              "    <tr>\n",
              "      <th>172</th>\n",
              "      <td>0.570</td>\n",
              "      <td>0.772</td>\n",
              "      <td>-4.041</td>\n",
              "      <td>0.633</td>\n",
              "      <td>5</td>\n",
              "      <td>102.011</td>\n",
              "      <td>5</td>\n",
              "      <td>8.943887</td>\n",
              "    </tr>\n",
              "    <tr>\n",
              "      <th>312</th>\n",
              "      <td>0.589</td>\n",
              "      <td>0.907</td>\n",
              "      <td>-2.126</td>\n",
              "      <td>0.533</td>\n",
              "      <td>7</td>\n",
              "      <td>140.017</td>\n",
              "      <td>30</td>\n",
              "      <td>9.960764</td>\n",
              "    </tr>\n",
              "    <tr>\n",
              "      <th>488</th>\n",
              "      <td>0.442</td>\n",
              "      <td>0.974</td>\n",
              "      <td>-3.031</td>\n",
              "      <td>0.645</td>\n",
              "      <td>4</td>\n",
              "      <td>183.997</td>\n",
              "      <td>13</td>\n",
              "      <td>12.493707</td>\n",
              "    </tr>\n",
              "  </tbody>\n",
              "</table>\n",
              "</div>\n",
              "      <button class=\"colab-df-convert\" onclick=\"convertToInteractive('df-3707bdbd-ad20-4095-aacf-4f2e5effd703')\"\n",
              "              title=\"Convert this dataframe to an interactive table.\"\n",
              "              style=\"display:none;\">\n",
              "        \n",
              "  <svg xmlns=\"http://www.w3.org/2000/svg\" height=\"24px\"viewBox=\"0 0 24 24\"\n",
              "       width=\"24px\">\n",
              "    <path d=\"M0 0h24v24H0V0z\" fill=\"none\"/>\n",
              "    <path d=\"M18.56 5.44l.94 2.06.94-2.06 2.06-.94-2.06-.94-.94-2.06-.94 2.06-2.06.94zm-11 1L8.5 8.5l.94-2.06 2.06-.94-2.06-.94L8.5 2.5l-.94 2.06-2.06.94zm10 10l.94 2.06.94-2.06 2.06-.94-2.06-.94-.94-2.06-.94 2.06-2.06.94z\"/><path d=\"M17.41 7.96l-1.37-1.37c-.4-.4-.92-.59-1.43-.59-.52 0-1.04.2-1.43.59L10.3 9.45l-7.72 7.72c-.78.78-.78 2.05 0 2.83L4 21.41c.39.39.9.59 1.41.59.51 0 1.02-.2 1.41-.59l7.78-7.78 2.81-2.81c.8-.78.8-2.07 0-2.86zM5.41 20L4 18.59l7.72-7.72 1.47 1.35L5.41 20z\"/>\n",
              "  </svg>\n",
              "      </button>\n",
              "      \n",
              "  <style>\n",
              "    .colab-df-container {\n",
              "      display:flex;\n",
              "      flex-wrap:wrap;\n",
              "      gap: 12px;\n",
              "    }\n",
              "\n",
              "    .colab-df-convert {\n",
              "      background-color: #E8F0FE;\n",
              "      border: none;\n",
              "      border-radius: 50%;\n",
              "      cursor: pointer;\n",
              "      display: none;\n",
              "      fill: #1967D2;\n",
              "      height: 32px;\n",
              "      padding: 0 0 0 0;\n",
              "      width: 32px;\n",
              "    }\n",
              "\n",
              "    .colab-df-convert:hover {\n",
              "      background-color: #E2EBFA;\n",
              "      box-shadow: 0px 1px 2px rgba(60, 64, 67, 0.3), 0px 1px 3px 1px rgba(60, 64, 67, 0.15);\n",
              "      fill: #174EA6;\n",
              "    }\n",
              "\n",
              "    [theme=dark] .colab-df-convert {\n",
              "      background-color: #3B4455;\n",
              "      fill: #D2E3FC;\n",
              "    }\n",
              "\n",
              "    [theme=dark] .colab-df-convert:hover {\n",
              "      background-color: #434B5C;\n",
              "      box-shadow: 0px 1px 3px 1px rgba(0, 0, 0, 0.15);\n",
              "      filter: drop-shadow(0px 1px 2px rgba(0, 0, 0, 0.3));\n",
              "      fill: #FFFFFF;\n",
              "    }\n",
              "  </style>\n",
              "\n",
              "      <script>\n",
              "        const buttonEl =\n",
              "          document.querySelector('#df-3707bdbd-ad20-4095-aacf-4f2e5effd703 button.colab-df-convert');\n",
              "        buttonEl.style.display =\n",
              "          google.colab.kernel.accessAllowed ? 'block' : 'none';\n",
              "\n",
              "        async function convertToInteractive(key) {\n",
              "          const element = document.querySelector('#df-3707bdbd-ad20-4095-aacf-4f2e5effd703');\n",
              "          const dataTable =\n",
              "            await google.colab.kernel.invokeFunction('convertToInteractive',\n",
              "                                                     [key], {});\n",
              "          if (!dataTable) return;\n",
              "\n",
              "          const docLinkHtml = 'Like what you see? Visit the ' +\n",
              "            '<a target=\"_blank\" href=https://colab.research.google.com/notebooks/data_table.ipynb>data table notebook</a>'\n",
              "            + ' to learn more about interactive tables.';\n",
              "          element.innerHTML = '';\n",
              "          dataTable['output_type'] = 'display_data';\n",
              "          await google.colab.output.renderOutput(dataTable, element);\n",
              "          const docLink = document.createElement('div');\n",
              "          docLink.innerHTML = docLinkHtml;\n",
              "          element.appendChild(docLink);\n",
              "        }\n",
              "      </script>\n",
              "    </div>\n",
              "  </div>\n",
              "  "
            ],
            "text/plain": [
              "     danceability  energy  loudness  valence  key    tempo  popularity  \\\n",
              "463         0.414   0.899    -3.882    0.657    7  168.034          16   \n",
              "611         0.546   0.931    -2.226    0.747   11   96.012           6   \n",
              "172         0.570   0.772    -4.041    0.633    5  102.011           5   \n",
              "312         0.589   0.907    -2.126    0.533    7  140.017          30   \n",
              "488         0.442   0.974    -3.031    0.645    4  183.997          13   \n",
              "\n",
              "     PREDICTED SCORE  \n",
              "463        13.311652  \n",
              "611        10.096086  \n",
              "172         8.943887  \n",
              "312         9.960764  \n",
              "488        12.493707  "
            ]
          },
          "execution_count": 57,
          "metadata": {},
          "output_type": "execute_result"
        }
      ],
      "source": [
        "df_test_set = x_test\n",
        "df_test_set = df_test_set.join(y_test)\n",
        "df_test_set['PREDICTED SCORE'] = predictions\n",
        "df_test_set.head(5)"
      ]
    },
    {
      "cell_type": "code",
      "execution_count": null,
      "metadata": {
        "colab": {
          "base_uri": "https://localhost:8080/",
          "height": 421
        },
        "id": "cRKfxmnRLZjS",
        "outputId": "8fce8324-06b7-464e-d281-39671b9e1de7"
      },
      "outputs": [
        {
          "data": {
            "text/plain": [
              "Text(0, 0.5, 'Predicted')"
            ]
          },
          "execution_count": 58,
          "metadata": {},
          "output_type": "execute_result"
        },
        {
          "data": {
            "image/png": "[encoded data removed]",
            "text/plain": [
              "<Figure size 576x432 with 1 Axes>"
            ]
          },
          "metadata": {},
          "output_type": "display_data"
        }
      ],
      "source": [
        "# membandingkan hasil prediksi dan nilai asli\n",
        "plt.figure(figsize=(8, 6))\n",
        "plt.scatter(y_test, predictions)\n",
        "plt.title(\"Results\")\n",
        "plt.xlabel(\"Actual\")\n",
        "plt.ylabel(\"Predicted\")"
      ]
    },
    {
      "cell_type": "code",
      "execution_count": null,
      "metadata": {
        "colab": {
          "base_uri": "https://localhost:8080/",
          "height": 407
        },
        "id": "s63LZU3bLZjV",
        "outputId": "b4260824-2987-4b5e-c7c9-fea4bbac2e8d"
      },
      "outputs": [
        {
          "data": {
            "text/plain": [
              "<matplotlib.legend.Legend at 0x7fca2e0df5d0>"
            ]
          },
          "execution_count": 59,
          "metadata": {},
          "output_type": "execute_result"
        },
        {
          "data": {
            "image/png": "[encoded data removed]",
            "text/plain": [
              "<Figure size 720x432 with 1 Axes>"
            ]
          },
          "metadata": {},
          "output_type": "display_data"
        }
      ],
      "source": [
        "import numpy as np\n",
        "plt.figure(figsize=(10, 6))\n",
        "\n",
        "# mengurutkan nilai asli dari terkecil hingga tertinggi\n",
        "y_sorted = np.sort(y_test.tolist())\n",
        "y_sorted_index = np.argsort(y_test.tolist())\n",
        "\n",
        "# merubah urutan prediction score berdasarkan urutan y_sorted \n",
        "predictions_sorted = predictions[y_sorted_index]\n",
        "\n",
        "# plot kedua score\n",
        "plt.scatter(np.arange(0,len(y_sorted)), y_sorted, label='actual')\n",
        "plt.scatter(np.arange(0,len(y_sorted)), predictions_sorted, label='prediction')\n",
        "plt.title(\"Perbandingan nilai asli dengan prediksi model\")\n",
        "plt.legend()"
      ]
    },
    {
      "cell_type": "code",
      "execution_count": null,
      "metadata": {
        "colab": {
          "base_uri": "https://localhost:8080/"
        },
        "id": "kjVB2L0ULZjY",
        "outputId": "108e37f2-6f8c-4bf8-e3ff-502af68d5bdd"
      },
      "outputs": [
        {
          "name": "stdout",
          "output_type": "stream",
          "text": [
            "MAE: 5.7399194199794445\n",
            "MSE: 61.06960011801773\n",
            "RMSE: 7.814704096638447\n"
          ]
        }
      ],
      "source": [
        "# mengevaluasi model dengan 3 metrik berbeda\n",
        "print('MAE:', metrics.mean_absolute_error(y_test, predictions))\n",
        "print('MSE:', metrics.mean_squared_error(y_test, predictions))\n",
        "print('RMSE:', np.sqrt(metrics.mean_squared_error(y_test, predictions)))"
      ]
    }
  ],
  "metadata": {
    "colab": {
      "collapsed_sections": [
        "UMZ5AxLVbNlg",
        "7Oegt4fZbIDX",
        "_F8K2XmcU760",
        "7jiP5NgqWaMk",
        "pJ_DzFMn4wbt",
        "WplHzlJMfOBn",
        "LNRmgju2xPNV",
        "B-ZvUFbSyvkn",
        "QxruHST8gSzR",
        "EKa05V4bjJTT",
        "oNrqGUhD7xJv",
        "DHXZa4VaPs5H",
        "Lq7K78QnPs5K",
        "p5BGBw46ROIc",
        "6GHytl9mROIg",
        "r1GwlWy5K1fe",
        "PZ2KyUnNLSUK",
        "MkuI3D3KLWLn",
        "pFgCyS3MLZhg"
      ],
      "name": "[FIN] V3.5 - Final Project Notebook - Rahma dan Amal.ipynb",
      "provenance": [],
      "toc_visible": true,
      "include_colab_link": true
    },
    "kernelspec": {
      "display_name": "Python 3",
      "name": "python3"
    },
    "language_info": {
      "name": "python"
    }
  },
  "nbformat": 4,
  "nbformat_minor": 0
}